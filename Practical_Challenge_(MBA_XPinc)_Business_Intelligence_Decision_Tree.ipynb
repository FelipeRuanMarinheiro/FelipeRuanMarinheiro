{
  "nbformat": 4,
  "nbformat_minor": 0,
  "metadata": {
    "colab": {
      "provenance": [],
      "collapsed_sections": [
        "FM8OTJL3imuG"
      ],
      "toc_visible": true,
      "authorship_tag": "ABX9TyMluu8q8SXAz1CMdVukKIgq",
      "include_colab_link": true
    },
    "kernelspec": {
      "name": "python3",
      "display_name": "Python 3"
    },
    "language_info": {
      "name": "python"
    }
  },
  "cells": [
    {
      "cell_type": "markdown",
      "metadata": {
        "id": "view-in-github",
        "colab_type": "text"
      },
      "source": [
        "<a href=\"https://colab.research.google.com/github/FelipeRuanMarinheiro/Portifolio/blob/main/Practical_Challenge_(MBA_XPinc)_Business_Intelligence_Decision_Tree.ipynb\" target=\"_parent\"><img src=\"https://colab.research.google.com/assets/colab-badge.svg\" alt=\"Open In Colab\"/></a>"
      ]
    },
    {
      "cell_type": "markdown",
      "source": [
        "#Arvores de decisão"
      ],
      "metadata": {
        "id": "FM8OTJL3imuG"
      }
    },
    {
      "cell_type": "code",
      "execution_count": null,
      "metadata": {
        "colab": {
          "base_uri": "https://localhost:8080/"
        },
        "id": "04lCOKX3ilN1",
        "outputId": "caa864a6-2694-41df-8548-7555a98803af"
      },
      "outputs": [
        {
          "output_type": "stream",
          "name": "stdout",
          "text": [
            "Collecting imblearn\n",
            "  Downloading imblearn-0.0-py2.py3-none-any.whl (1.9 kB)\n",
            "Requirement already satisfied: imbalanced-learn in /usr/local/lib/python3.10/dist-packages (from imblearn) (0.10.1)\n",
            "Requirement already satisfied: numpy>=1.17.3 in /usr/local/lib/python3.10/dist-packages (from imbalanced-learn->imblearn) (1.25.2)\n",
            "Requirement already satisfied: scipy>=1.3.2 in /usr/local/lib/python3.10/dist-packages (from imbalanced-learn->imblearn) (1.11.4)\n",
            "Requirement already satisfied: scikit-learn>=1.0.2 in /usr/local/lib/python3.10/dist-packages (from imbalanced-learn->imblearn) (1.2.2)\n",
            "Requirement already satisfied: joblib>=1.1.1 in /usr/local/lib/python3.10/dist-packages (from imbalanced-learn->imblearn) (1.4.0)\n",
            "Requirement already satisfied: threadpoolctl>=2.0.0 in /usr/local/lib/python3.10/dist-packages (from imbalanced-learn->imblearn) (3.4.0)\n",
            "Installing collected packages: imblearn\n",
            "Successfully installed imblearn-0.0\n",
            "Requirement already satisfied: graphviz in /usr/local/lib/python3.10/dist-packages (0.20.3)\n"
          ]
        }
      ],
      "source": [
        "!pip install imblearn\n",
        "!pip install graphviz"
      ]
    },
    {
      "cell_type": "code",
      "source": [
        "import pandas as pd\n",
        "from imblearn.under_sampling import RandomUnderSampler, TomekLinks"
      ],
      "metadata": {
        "id": "3LXUUj6Xv_bT"
      },
      "execution_count": null,
      "outputs": []
    },
    {
      "cell_type": "code",
      "source": [
        "df = pd.read_csv('diabetes.csv', sep = ';')\n",
        "df.info() #informações basicas df"
      ],
      "metadata": {
        "colab": {
          "base_uri": "https://localhost:8080/"
        },
        "id": "bplR0JH61LIB",
        "outputId": "8bb07253-ec72-4d0e-f73d-1338c9ef12a5"
      },
      "execution_count": null,
      "outputs": [
        {
          "output_type": "stream",
          "name": "stdout",
          "text": [
            "<class 'pandas.core.frame.DataFrame'>\n",
            "RangeIndex: 768 entries, 0 to 767\n",
            "Data columns (total 9 columns):\n",
            " #   Column                  Non-Null Count  Dtype  \n",
            "---  ------                  --------------  -----  \n",
            " 0   gravidez                768 non-null    int64  \n",
            " 1   glicose                 768 non-null    int64  \n",
            " 2   pressao_sangue          768 non-null    int64  \n",
            " 3   espessura_pele          768 non-null    int64  \n",
            " 4   insulina                768 non-null    int64  \n",
            " 5   IMC                     768 non-null    float64\n",
            " 6   predisposicao_diabetes  768 non-null    float64\n",
            " 7   idade                   768 non-null    int64  \n",
            " 8   diabetes                768 non-null    int64  \n",
            "dtypes: float64(2), int64(7)\n",
            "memory usage: 54.1 KB\n"
          ]
        }
      ]
    },
    {
      "cell_type": "code",
      "source": [
        "df.head() #verificando df"
      ],
      "metadata": {
        "colab": {
          "base_uri": "https://localhost:8080/"
        },
        "id": "GuA9HHc-1px5",
        "outputId": "a46fa1de-27ae-465f-f4b5-e324d8e59f73"
      },
      "execution_count": null,
      "outputs": [
        {
          "output_type": "execute_result",
          "data": {
            "text/plain": [
              "   gravidez  glicose  pressao_sangue  espessura_pele  insulina   IMC  \\\n",
              "0         6      148              72              35         0  33.6   \n",
              "1         1       85              66              29         0  26.6   \n",
              "2         8      183              64               0         0  23.3   \n",
              "3         1       89              66              23        94  28.1   \n",
              "4         0      137              40              35       168  43.1   \n",
              "\n",
              "   predisposicao_diabetes  idade  diabetes  \n",
              "0                   0.627     50         1  \n",
              "1                   0.351     31         0  \n",
              "2                   0.672     32         1  \n",
              "3                   0.167     21         0  \n",
              "4                   2.288     33         1  "
            ],
            "text/html": [
              "\n",
              "  <div id=\"df-df73b0b6-88d8-498e-a9b7-5da24c2f6f95\" class=\"colab-df-container\">\n",
              "    <div>\n",
              "<style scoped>\n",
              "    .dataframe tbody tr th:only-of-type {\n",
              "        vertical-align: middle;\n",
              "    }\n",
              "\n",
              "    .dataframe tbody tr th {\n",
              "        vertical-align: top;\n",
              "    }\n",
              "\n",
              "    .dataframe thead th {\n",
              "        text-align: right;\n",
              "    }\n",
              "</style>\n",
              "<table border=\"1\" class=\"dataframe\">\n",
              "  <thead>\n",
              "    <tr style=\"text-align: right;\">\n",
              "      <th></th>\n",
              "      <th>gravidez</th>\n",
              "      <th>glicose</th>\n",
              "      <th>pressao_sangue</th>\n",
              "      <th>espessura_pele</th>\n",
              "      <th>insulina</th>\n",
              "      <th>IMC</th>\n",
              "      <th>predisposicao_diabetes</th>\n",
              "      <th>idade</th>\n",
              "      <th>diabetes</th>\n",
              "    </tr>\n",
              "  </thead>\n",
              "  <tbody>\n",
              "    <tr>\n",
              "      <th>0</th>\n",
              "      <td>6</td>\n",
              "      <td>148</td>\n",
              "      <td>72</td>\n",
              "      <td>35</td>\n",
              "      <td>0</td>\n",
              "      <td>33.6</td>\n",
              "      <td>0.627</td>\n",
              "      <td>50</td>\n",
              "      <td>1</td>\n",
              "    </tr>\n",
              "    <tr>\n",
              "      <th>1</th>\n",
              "      <td>1</td>\n",
              "      <td>85</td>\n",
              "      <td>66</td>\n",
              "      <td>29</td>\n",
              "      <td>0</td>\n",
              "      <td>26.6</td>\n",
              "      <td>0.351</td>\n",
              "      <td>31</td>\n",
              "      <td>0</td>\n",
              "    </tr>\n",
              "    <tr>\n",
              "      <th>2</th>\n",
              "      <td>8</td>\n",
              "      <td>183</td>\n",
              "      <td>64</td>\n",
              "      <td>0</td>\n",
              "      <td>0</td>\n",
              "      <td>23.3</td>\n",
              "      <td>0.672</td>\n",
              "      <td>32</td>\n",
              "      <td>1</td>\n",
              "    </tr>\n",
              "    <tr>\n",
              "      <th>3</th>\n",
              "      <td>1</td>\n",
              "      <td>89</td>\n",
              "      <td>66</td>\n",
              "      <td>23</td>\n",
              "      <td>94</td>\n",
              "      <td>28.1</td>\n",
              "      <td>0.167</td>\n",
              "      <td>21</td>\n",
              "      <td>0</td>\n",
              "    </tr>\n",
              "    <tr>\n",
              "      <th>4</th>\n",
              "      <td>0</td>\n",
              "      <td>137</td>\n",
              "      <td>40</td>\n",
              "      <td>35</td>\n",
              "      <td>168</td>\n",
              "      <td>43.1</td>\n",
              "      <td>2.288</td>\n",
              "      <td>33</td>\n",
              "      <td>1</td>\n",
              "    </tr>\n",
              "  </tbody>\n",
              "</table>\n",
              "</div>\n",
              "    <div class=\"colab-df-buttons\">\n",
              "\n",
              "  <div class=\"colab-df-container\">\n",
              "    <button class=\"colab-df-convert\" onclick=\"convertToInteractive('df-df73b0b6-88d8-498e-a9b7-5da24c2f6f95')\"\n",
              "            title=\"Convert this dataframe to an interactive table.\"\n",
              "            style=\"display:none;\">\n",
              "\n",
              "  <svg xmlns=\"http://www.w3.org/2000/svg\" height=\"24px\" viewBox=\"0 -960 960 960\">\n",
              "    <path d=\"M120-120v-720h720v720H120Zm60-500h600v-160H180v160Zm220 220h160v-160H400v160Zm0 220h160v-160H400v160ZM180-400h160v-160H180v160Zm440 0h160v-160H620v160ZM180-180h160v-160H180v160Zm440 0h160v-160H620v160Z\"/>\n",
              "  </svg>\n",
              "    </button>\n",
              "\n",
              "  <style>\n",
              "    .colab-df-container {\n",
              "      display:flex;\n",
              "      gap: 12px;\n",
              "    }\n",
              "\n",
              "    .colab-df-convert {\n",
              "      background-color: #E8F0FE;\n",
              "      border: none;\n",
              "      border-radius: 50%;\n",
              "      cursor: pointer;\n",
              "      display: none;\n",
              "      fill: #1967D2;\n",
              "      height: 32px;\n",
              "      padding: 0 0 0 0;\n",
              "      width: 32px;\n",
              "    }\n",
              "\n",
              "    .colab-df-convert:hover {\n",
              "      background-color: #E2EBFA;\n",
              "      box-shadow: 0px 1px 2px rgba(60, 64, 67, 0.3), 0px 1px 3px 1px rgba(60, 64, 67, 0.15);\n",
              "      fill: #174EA6;\n",
              "    }\n",
              "\n",
              "    .colab-df-buttons div {\n",
              "      margin-bottom: 4px;\n",
              "    }\n",
              "\n",
              "    [theme=dark] .colab-df-convert {\n",
              "      background-color: #3B4455;\n",
              "      fill: #D2E3FC;\n",
              "    }\n",
              "\n",
              "    [theme=dark] .colab-df-convert:hover {\n",
              "      background-color: #434B5C;\n",
              "      box-shadow: 0px 1px 3px 1px rgba(0, 0, 0, 0.15);\n",
              "      filter: drop-shadow(0px 1px 2px rgba(0, 0, 0, 0.3));\n",
              "      fill: #FFFFFF;\n",
              "    }\n",
              "  </style>\n",
              "\n",
              "    <script>\n",
              "      const buttonEl =\n",
              "        document.querySelector('#df-df73b0b6-88d8-498e-a9b7-5da24c2f6f95 button.colab-df-convert');\n",
              "      buttonEl.style.display =\n",
              "        google.colab.kernel.accessAllowed ? 'block' : 'none';\n",
              "\n",
              "      async function convertToInteractive(key) {\n",
              "        const element = document.querySelector('#df-df73b0b6-88d8-498e-a9b7-5da24c2f6f95');\n",
              "        const dataTable =\n",
              "          await google.colab.kernel.invokeFunction('convertToInteractive',\n",
              "                                                    [key], {});\n",
              "        if (!dataTable) return;\n",
              "\n",
              "        const docLinkHtml = 'Like what you see? Visit the ' +\n",
              "          '<a target=\"_blank\" href=https://colab.research.google.com/notebooks/data_table.ipynb>data table notebook</a>'\n",
              "          + ' to learn more about interactive tables.';\n",
              "        element.innerHTML = '';\n",
              "        dataTable['output_type'] = 'display_data';\n",
              "        await google.colab.output.renderOutput(dataTable, element);\n",
              "        const docLink = document.createElement('div');\n",
              "        docLink.innerHTML = docLinkHtml;\n",
              "        element.appendChild(docLink);\n",
              "      }\n",
              "    </script>\n",
              "  </div>\n",
              "\n",
              "\n",
              "<div id=\"df-51b09d50-6f24-46ce-9a98-7b30fbea7fc8\">\n",
              "  <button class=\"colab-df-quickchart\" onclick=\"quickchart('df-51b09d50-6f24-46ce-9a98-7b30fbea7fc8')\"\n",
              "            title=\"Suggest charts\"\n",
              "            style=\"display:none;\">\n",
              "\n",
              "<svg xmlns=\"http://www.w3.org/2000/svg\" height=\"24px\"viewBox=\"0 0 24 24\"\n",
              "     width=\"24px\">\n",
              "    <g>\n",
              "        <path d=\"M19 3H5c-1.1 0-2 .9-2 2v14c0 1.1.9 2 2 2h14c1.1 0 2-.9 2-2V5c0-1.1-.9-2-2-2zM9 17H7v-7h2v7zm4 0h-2V7h2v10zm4 0h-2v-4h2v4z\"/>\n",
              "    </g>\n",
              "</svg>\n",
              "  </button>\n",
              "\n",
              "<style>\n",
              "  .colab-df-quickchart {\n",
              "      --bg-color: #E8F0FE;\n",
              "      --fill-color: #1967D2;\n",
              "      --hover-bg-color: #E2EBFA;\n",
              "      --hover-fill-color: #174EA6;\n",
              "      --disabled-fill-color: #AAA;\n",
              "      --disabled-bg-color: #DDD;\n",
              "  }\n",
              "\n",
              "  [theme=dark] .colab-df-quickchart {\n",
              "      --bg-color: #3B4455;\n",
              "      --fill-color: #D2E3FC;\n",
              "      --hover-bg-color: #434B5C;\n",
              "      --hover-fill-color: #FFFFFF;\n",
              "      --disabled-bg-color: #3B4455;\n",
              "      --disabled-fill-color: #666;\n",
              "  }\n",
              "\n",
              "  .colab-df-quickchart {\n",
              "    background-color: var(--bg-color);\n",
              "    border: none;\n",
              "    border-radius: 50%;\n",
              "    cursor: pointer;\n",
              "    display: none;\n",
              "    fill: var(--fill-color);\n",
              "    height: 32px;\n",
              "    padding: 0;\n",
              "    width: 32px;\n",
              "  }\n",
              "\n",
              "  .colab-df-quickchart:hover {\n",
              "    background-color: var(--hover-bg-color);\n",
              "    box-shadow: 0 1px 2px rgba(60, 64, 67, 0.3), 0 1px 3px 1px rgba(60, 64, 67, 0.15);\n",
              "    fill: var(--button-hover-fill-color);\n",
              "  }\n",
              "\n",
              "  .colab-df-quickchart-complete:disabled,\n",
              "  .colab-df-quickchart-complete:disabled:hover {\n",
              "    background-color: var(--disabled-bg-color);\n",
              "    fill: var(--disabled-fill-color);\n",
              "    box-shadow: none;\n",
              "  }\n",
              "\n",
              "  .colab-df-spinner {\n",
              "    border: 2px solid var(--fill-color);\n",
              "    border-color: transparent;\n",
              "    border-bottom-color: var(--fill-color);\n",
              "    animation:\n",
              "      spin 1s steps(1) infinite;\n",
              "  }\n",
              "\n",
              "  @keyframes spin {\n",
              "    0% {\n",
              "      border-color: transparent;\n",
              "      border-bottom-color: var(--fill-color);\n",
              "      border-left-color: var(--fill-color);\n",
              "    }\n",
              "    20% {\n",
              "      border-color: transparent;\n",
              "      border-left-color: var(--fill-color);\n",
              "      border-top-color: var(--fill-color);\n",
              "    }\n",
              "    30% {\n",
              "      border-color: transparent;\n",
              "      border-left-color: var(--fill-color);\n",
              "      border-top-color: var(--fill-color);\n",
              "      border-right-color: var(--fill-color);\n",
              "    }\n",
              "    40% {\n",
              "      border-color: transparent;\n",
              "      border-right-color: var(--fill-color);\n",
              "      border-top-color: var(--fill-color);\n",
              "    }\n",
              "    60% {\n",
              "      border-color: transparent;\n",
              "      border-right-color: var(--fill-color);\n",
              "    }\n",
              "    80% {\n",
              "      border-color: transparent;\n",
              "      border-right-color: var(--fill-color);\n",
              "      border-bottom-color: var(--fill-color);\n",
              "    }\n",
              "    90% {\n",
              "      border-color: transparent;\n",
              "      border-bottom-color: var(--fill-color);\n",
              "    }\n",
              "  }\n",
              "</style>\n",
              "\n",
              "  <script>\n",
              "    async function quickchart(key) {\n",
              "      const quickchartButtonEl =\n",
              "        document.querySelector('#' + key + ' button');\n",
              "      quickchartButtonEl.disabled = true;  // To prevent multiple clicks.\n",
              "      quickchartButtonEl.classList.add('colab-df-spinner');\n",
              "      try {\n",
              "        const charts = await google.colab.kernel.invokeFunction(\n",
              "            'suggestCharts', [key], {});\n",
              "      } catch (error) {\n",
              "        console.error('Error during call to suggestCharts:', error);\n",
              "      }\n",
              "      quickchartButtonEl.classList.remove('colab-df-spinner');\n",
              "      quickchartButtonEl.classList.add('colab-df-quickchart-complete');\n",
              "    }\n",
              "    (() => {\n",
              "      let quickchartButtonEl =\n",
              "        document.querySelector('#df-51b09d50-6f24-46ce-9a98-7b30fbea7fc8 button');\n",
              "      quickchartButtonEl.style.display =\n",
              "        google.colab.kernel.accessAllowed ? 'block' : 'none';\n",
              "    })();\n",
              "  </script>\n",
              "</div>\n",
              "\n",
              "    </div>\n",
              "  </div>\n"
            ],
            "application/vnd.google.colaboratory.intrinsic+json": {
              "type": "dataframe",
              "variable_name": "df",
              "summary": "{\n  \"name\": \"df\",\n  \"rows\": 768,\n  \"fields\": [\n    {\n      \"column\": \"gravidez\",\n      \"properties\": {\n        \"dtype\": \"number\",\n        \"std\": 3,\n        \"min\": 0,\n        \"max\": 17,\n        \"num_unique_values\": 17,\n        \"samples\": [\n          6,\n          1,\n          3\n        ],\n        \"semantic_type\": \"\",\n        \"description\": \"\"\n      }\n    },\n    {\n      \"column\": \"glicose\",\n      \"properties\": {\n        \"dtype\": \"number\",\n        \"std\": 31,\n        \"min\": 0,\n        \"max\": 199,\n        \"num_unique_values\": 136,\n        \"samples\": [\n          151,\n          101,\n          112\n        ],\n        \"semantic_type\": \"\",\n        \"description\": \"\"\n      }\n    },\n    {\n      \"column\": \"pressao_sangue\",\n      \"properties\": {\n        \"dtype\": \"number\",\n        \"std\": 19,\n        \"min\": 0,\n        \"max\": 122,\n        \"num_unique_values\": 47,\n        \"samples\": [\n          86,\n          46,\n          85\n        ],\n        \"semantic_type\": \"\",\n        \"description\": \"\"\n      }\n    },\n    {\n      \"column\": \"espessura_pele\",\n      \"properties\": {\n        \"dtype\": \"number\",\n        \"std\": 15,\n        \"min\": 0,\n        \"max\": 99,\n        \"num_unique_values\": 51,\n        \"samples\": [\n          7,\n          12,\n          48\n        ],\n        \"semantic_type\": \"\",\n        \"description\": \"\"\n      }\n    },\n    {\n      \"column\": \"insulina\",\n      \"properties\": {\n        \"dtype\": \"number\",\n        \"std\": 115,\n        \"min\": 0,\n        \"max\": 846,\n        \"num_unique_values\": 186,\n        \"samples\": [\n          52,\n          41,\n          183\n        ],\n        \"semantic_type\": \"\",\n        \"description\": \"\"\n      }\n    },\n    {\n      \"column\": \"IMC\",\n      \"properties\": {\n        \"dtype\": \"number\",\n        \"std\": 7.884160320375446,\n        \"min\": 0.0,\n        \"max\": 67.1,\n        \"num_unique_values\": 248,\n        \"samples\": [\n          19.9,\n          31.0,\n          38.1\n        ],\n        \"semantic_type\": \"\",\n        \"description\": \"\"\n      }\n    },\n    {\n      \"column\": \"predisposicao_diabetes\",\n      \"properties\": {\n        \"dtype\": \"number\",\n        \"std\": 0.3313285950127749,\n        \"min\": 0.078,\n        \"max\": 2.42,\n        \"num_unique_values\": 517,\n        \"samples\": [\n          1.731,\n          0.426,\n          0.138\n        ],\n        \"semantic_type\": \"\",\n        \"description\": \"\"\n      }\n    },\n    {\n      \"column\": \"idade\",\n      \"properties\": {\n        \"dtype\": \"number\",\n        \"std\": 11,\n        \"min\": 21,\n        \"max\": 81,\n        \"num_unique_values\": 52,\n        \"samples\": [\n          60,\n          47,\n          72\n        ],\n        \"semantic_type\": \"\",\n        \"description\": \"\"\n      }\n    },\n    {\n      \"column\": \"diabetes\",\n      \"properties\": {\n        \"dtype\": \"number\",\n        \"std\": 0,\n        \"min\": 0,\n        \"max\": 1,\n        \"num_unique_values\": 2,\n        \"samples\": [\n          0,\n          1\n        ],\n        \"semantic_type\": \"\",\n        \"description\": \"\"\n      }\n    }\n  ]\n}"
            }
          },
          "metadata": {},
          "execution_count": 4
        }
      ]
    },
    {
      "cell_type": "code",
      "source": [
        "df.describe() #verificando estatisticas basicas do df"
      ],
      "metadata": {
        "colab": {
          "base_uri": "https://localhost:8080/"
        },
        "id": "4Gv45X4Q1sWQ",
        "outputId": "927d455e-ada0-49cf-c592-5a4a1402dd4d"
      },
      "execution_count": null,
      "outputs": [
        {
          "output_type": "execute_result",
          "data": {
            "text/plain": [
              "         gravidez     glicose  pressao_sangue  espessura_pele    insulina  \\\n",
              "count  768.000000  768.000000      768.000000      768.000000  768.000000   \n",
              "mean     3.845052  120.894531       69.105469       20.536458   79.799479   \n",
              "std      3.369578   31.972618       19.355807       15.952218  115.244002   \n",
              "min      0.000000    0.000000        0.000000        0.000000    0.000000   \n",
              "25%      1.000000   99.000000       62.000000        0.000000    0.000000   \n",
              "50%      3.000000  117.000000       72.000000       23.000000   30.500000   \n",
              "75%      6.000000  140.250000       80.000000       32.000000  127.250000   \n",
              "max     17.000000  199.000000      122.000000       99.000000  846.000000   \n",
              "\n",
              "              IMC  predisposicao_diabetes       idade    diabetes  \n",
              "count  768.000000              768.000000  768.000000  768.000000  \n",
              "mean    31.992578                0.471876   33.240885    0.348958  \n",
              "std      7.884160                0.331329   11.760232    0.476951  \n",
              "min      0.000000                0.078000   21.000000    0.000000  \n",
              "25%     27.300000                0.243750   24.000000    0.000000  \n",
              "50%     32.000000                0.372500   29.000000    0.000000  \n",
              "75%     36.600000                0.626250   41.000000    1.000000  \n",
              "max     67.100000                2.420000   81.000000    1.000000  "
            ],
            "text/html": [
              "\n",
              "  <div id=\"df-b3b2979e-7eab-4e77-aad0-74a3c1128381\" class=\"colab-df-container\">\n",
              "    <div>\n",
              "<style scoped>\n",
              "    .dataframe tbody tr th:only-of-type {\n",
              "        vertical-align: middle;\n",
              "    }\n",
              "\n",
              "    .dataframe tbody tr th {\n",
              "        vertical-align: top;\n",
              "    }\n",
              "\n",
              "    .dataframe thead th {\n",
              "        text-align: right;\n",
              "    }\n",
              "</style>\n",
              "<table border=\"1\" class=\"dataframe\">\n",
              "  <thead>\n",
              "    <tr style=\"text-align: right;\">\n",
              "      <th></th>\n",
              "      <th>gravidez</th>\n",
              "      <th>glicose</th>\n",
              "      <th>pressao_sangue</th>\n",
              "      <th>espessura_pele</th>\n",
              "      <th>insulina</th>\n",
              "      <th>IMC</th>\n",
              "      <th>predisposicao_diabetes</th>\n",
              "      <th>idade</th>\n",
              "      <th>diabetes</th>\n",
              "    </tr>\n",
              "  </thead>\n",
              "  <tbody>\n",
              "    <tr>\n",
              "      <th>count</th>\n",
              "      <td>768.000000</td>\n",
              "      <td>768.000000</td>\n",
              "      <td>768.000000</td>\n",
              "      <td>768.000000</td>\n",
              "      <td>768.000000</td>\n",
              "      <td>768.000000</td>\n",
              "      <td>768.000000</td>\n",
              "      <td>768.000000</td>\n",
              "      <td>768.000000</td>\n",
              "    </tr>\n",
              "    <tr>\n",
              "      <th>mean</th>\n",
              "      <td>3.845052</td>\n",
              "      <td>120.894531</td>\n",
              "      <td>69.105469</td>\n",
              "      <td>20.536458</td>\n",
              "      <td>79.799479</td>\n",
              "      <td>31.992578</td>\n",
              "      <td>0.471876</td>\n",
              "      <td>33.240885</td>\n",
              "      <td>0.348958</td>\n",
              "    </tr>\n",
              "    <tr>\n",
              "      <th>std</th>\n",
              "      <td>3.369578</td>\n",
              "      <td>31.972618</td>\n",
              "      <td>19.355807</td>\n",
              "      <td>15.952218</td>\n",
              "      <td>115.244002</td>\n",
              "      <td>7.884160</td>\n",
              "      <td>0.331329</td>\n",
              "      <td>11.760232</td>\n",
              "      <td>0.476951</td>\n",
              "    </tr>\n",
              "    <tr>\n",
              "      <th>min</th>\n",
              "      <td>0.000000</td>\n",
              "      <td>0.000000</td>\n",
              "      <td>0.000000</td>\n",
              "      <td>0.000000</td>\n",
              "      <td>0.000000</td>\n",
              "      <td>0.000000</td>\n",
              "      <td>0.078000</td>\n",
              "      <td>21.000000</td>\n",
              "      <td>0.000000</td>\n",
              "    </tr>\n",
              "    <tr>\n",
              "      <th>25%</th>\n",
              "      <td>1.000000</td>\n",
              "      <td>99.000000</td>\n",
              "      <td>62.000000</td>\n",
              "      <td>0.000000</td>\n",
              "      <td>0.000000</td>\n",
              "      <td>27.300000</td>\n",
              "      <td>0.243750</td>\n",
              "      <td>24.000000</td>\n",
              "      <td>0.000000</td>\n",
              "    </tr>\n",
              "    <tr>\n",
              "      <th>50%</th>\n",
              "      <td>3.000000</td>\n",
              "      <td>117.000000</td>\n",
              "      <td>72.000000</td>\n",
              "      <td>23.000000</td>\n",
              "      <td>30.500000</td>\n",
              "      <td>32.000000</td>\n",
              "      <td>0.372500</td>\n",
              "      <td>29.000000</td>\n",
              "      <td>0.000000</td>\n",
              "    </tr>\n",
              "    <tr>\n",
              "      <th>75%</th>\n",
              "      <td>6.000000</td>\n",
              "      <td>140.250000</td>\n",
              "      <td>80.000000</td>\n",
              "      <td>32.000000</td>\n",
              "      <td>127.250000</td>\n",
              "      <td>36.600000</td>\n",
              "      <td>0.626250</td>\n",
              "      <td>41.000000</td>\n",
              "      <td>1.000000</td>\n",
              "    </tr>\n",
              "    <tr>\n",
              "      <th>max</th>\n",
              "      <td>17.000000</td>\n",
              "      <td>199.000000</td>\n",
              "      <td>122.000000</td>\n",
              "      <td>99.000000</td>\n",
              "      <td>846.000000</td>\n",
              "      <td>67.100000</td>\n",
              "      <td>2.420000</td>\n",
              "      <td>81.000000</td>\n",
              "      <td>1.000000</td>\n",
              "    </tr>\n",
              "  </tbody>\n",
              "</table>\n",
              "</div>\n",
              "    <div class=\"colab-df-buttons\">\n",
              "\n",
              "  <div class=\"colab-df-container\">\n",
              "    <button class=\"colab-df-convert\" onclick=\"convertToInteractive('df-b3b2979e-7eab-4e77-aad0-74a3c1128381')\"\n",
              "            title=\"Convert this dataframe to an interactive table.\"\n",
              "            style=\"display:none;\">\n",
              "\n",
              "  <svg xmlns=\"http://www.w3.org/2000/svg\" height=\"24px\" viewBox=\"0 -960 960 960\">\n",
              "    <path d=\"M120-120v-720h720v720H120Zm60-500h600v-160H180v160Zm220 220h160v-160H400v160Zm0 220h160v-160H400v160ZM180-400h160v-160H180v160Zm440 0h160v-160H620v160ZM180-180h160v-160H180v160Zm440 0h160v-160H620v160Z\"/>\n",
              "  </svg>\n",
              "    </button>\n",
              "\n",
              "  <style>\n",
              "    .colab-df-container {\n",
              "      display:flex;\n",
              "      gap: 12px;\n",
              "    }\n",
              "\n",
              "    .colab-df-convert {\n",
              "      background-color: #E8F0FE;\n",
              "      border: none;\n",
              "      border-radius: 50%;\n",
              "      cursor: pointer;\n",
              "      display: none;\n",
              "      fill: #1967D2;\n",
              "      height: 32px;\n",
              "      padding: 0 0 0 0;\n",
              "      width: 32px;\n",
              "    }\n",
              "\n",
              "    .colab-df-convert:hover {\n",
              "      background-color: #E2EBFA;\n",
              "      box-shadow: 0px 1px 2px rgba(60, 64, 67, 0.3), 0px 1px 3px 1px rgba(60, 64, 67, 0.15);\n",
              "      fill: #174EA6;\n",
              "    }\n",
              "\n",
              "    .colab-df-buttons div {\n",
              "      margin-bottom: 4px;\n",
              "    }\n",
              "\n",
              "    [theme=dark] .colab-df-convert {\n",
              "      background-color: #3B4455;\n",
              "      fill: #D2E3FC;\n",
              "    }\n",
              "\n",
              "    [theme=dark] .colab-df-convert:hover {\n",
              "      background-color: #434B5C;\n",
              "      box-shadow: 0px 1px 3px 1px rgba(0, 0, 0, 0.15);\n",
              "      filter: drop-shadow(0px 1px 2px rgba(0, 0, 0, 0.3));\n",
              "      fill: #FFFFFF;\n",
              "    }\n",
              "  </style>\n",
              "\n",
              "    <script>\n",
              "      const buttonEl =\n",
              "        document.querySelector('#df-b3b2979e-7eab-4e77-aad0-74a3c1128381 button.colab-df-convert');\n",
              "      buttonEl.style.display =\n",
              "        google.colab.kernel.accessAllowed ? 'block' : 'none';\n",
              "\n",
              "      async function convertToInteractive(key) {\n",
              "        const element = document.querySelector('#df-b3b2979e-7eab-4e77-aad0-74a3c1128381');\n",
              "        const dataTable =\n",
              "          await google.colab.kernel.invokeFunction('convertToInteractive',\n",
              "                                                    [key], {});\n",
              "        if (!dataTable) return;\n",
              "\n",
              "        const docLinkHtml = 'Like what you see? Visit the ' +\n",
              "          '<a target=\"_blank\" href=https://colab.research.google.com/notebooks/data_table.ipynb>data table notebook</a>'\n",
              "          + ' to learn more about interactive tables.';\n",
              "        element.innerHTML = '';\n",
              "        dataTable['output_type'] = 'display_data';\n",
              "        await google.colab.output.renderOutput(dataTable, element);\n",
              "        const docLink = document.createElement('div');\n",
              "        docLink.innerHTML = docLinkHtml;\n",
              "        element.appendChild(docLink);\n",
              "      }\n",
              "    </script>\n",
              "  </div>\n",
              "\n",
              "\n",
              "<div id=\"df-53ed16b4-a1c2-44d7-8f33-ecae09e50c65\">\n",
              "  <button class=\"colab-df-quickchart\" onclick=\"quickchart('df-53ed16b4-a1c2-44d7-8f33-ecae09e50c65')\"\n",
              "            title=\"Suggest charts\"\n",
              "            style=\"display:none;\">\n",
              "\n",
              "<svg xmlns=\"http://www.w3.org/2000/svg\" height=\"24px\"viewBox=\"0 0 24 24\"\n",
              "     width=\"24px\">\n",
              "    <g>\n",
              "        <path d=\"M19 3H5c-1.1 0-2 .9-2 2v14c0 1.1.9 2 2 2h14c1.1 0 2-.9 2-2V5c0-1.1-.9-2-2-2zM9 17H7v-7h2v7zm4 0h-2V7h2v10zm4 0h-2v-4h2v4z\"/>\n",
              "    </g>\n",
              "</svg>\n",
              "  </button>\n",
              "\n",
              "<style>\n",
              "  .colab-df-quickchart {\n",
              "      --bg-color: #E8F0FE;\n",
              "      --fill-color: #1967D2;\n",
              "      --hover-bg-color: #E2EBFA;\n",
              "      --hover-fill-color: #174EA6;\n",
              "      --disabled-fill-color: #AAA;\n",
              "      --disabled-bg-color: #DDD;\n",
              "  }\n",
              "\n",
              "  [theme=dark] .colab-df-quickchart {\n",
              "      --bg-color: #3B4455;\n",
              "      --fill-color: #D2E3FC;\n",
              "      --hover-bg-color: #434B5C;\n",
              "      --hover-fill-color: #FFFFFF;\n",
              "      --disabled-bg-color: #3B4455;\n",
              "      --disabled-fill-color: #666;\n",
              "  }\n",
              "\n",
              "  .colab-df-quickchart {\n",
              "    background-color: var(--bg-color);\n",
              "    border: none;\n",
              "    border-radius: 50%;\n",
              "    cursor: pointer;\n",
              "    display: none;\n",
              "    fill: var(--fill-color);\n",
              "    height: 32px;\n",
              "    padding: 0;\n",
              "    width: 32px;\n",
              "  }\n",
              "\n",
              "  .colab-df-quickchart:hover {\n",
              "    background-color: var(--hover-bg-color);\n",
              "    box-shadow: 0 1px 2px rgba(60, 64, 67, 0.3), 0 1px 3px 1px rgba(60, 64, 67, 0.15);\n",
              "    fill: var(--button-hover-fill-color);\n",
              "  }\n",
              "\n",
              "  .colab-df-quickchart-complete:disabled,\n",
              "  .colab-df-quickchart-complete:disabled:hover {\n",
              "    background-color: var(--disabled-bg-color);\n",
              "    fill: var(--disabled-fill-color);\n",
              "    box-shadow: none;\n",
              "  }\n",
              "\n",
              "  .colab-df-spinner {\n",
              "    border: 2px solid var(--fill-color);\n",
              "    border-color: transparent;\n",
              "    border-bottom-color: var(--fill-color);\n",
              "    animation:\n",
              "      spin 1s steps(1) infinite;\n",
              "  }\n",
              "\n",
              "  @keyframes spin {\n",
              "    0% {\n",
              "      border-color: transparent;\n",
              "      border-bottom-color: var(--fill-color);\n",
              "      border-left-color: var(--fill-color);\n",
              "    }\n",
              "    20% {\n",
              "      border-color: transparent;\n",
              "      border-left-color: var(--fill-color);\n",
              "      border-top-color: var(--fill-color);\n",
              "    }\n",
              "    30% {\n",
              "      border-color: transparent;\n",
              "      border-left-color: var(--fill-color);\n",
              "      border-top-color: var(--fill-color);\n",
              "      border-right-color: var(--fill-color);\n",
              "    }\n",
              "    40% {\n",
              "      border-color: transparent;\n",
              "      border-right-color: var(--fill-color);\n",
              "      border-top-color: var(--fill-color);\n",
              "    }\n",
              "    60% {\n",
              "      border-color: transparent;\n",
              "      border-right-color: var(--fill-color);\n",
              "    }\n",
              "    80% {\n",
              "      border-color: transparent;\n",
              "      border-right-color: var(--fill-color);\n",
              "      border-bottom-color: var(--fill-color);\n",
              "    }\n",
              "    90% {\n",
              "      border-color: transparent;\n",
              "      border-bottom-color: var(--fill-color);\n",
              "    }\n",
              "  }\n",
              "</style>\n",
              "\n",
              "  <script>\n",
              "    async function quickchart(key) {\n",
              "      const quickchartButtonEl =\n",
              "        document.querySelector('#' + key + ' button');\n",
              "      quickchartButtonEl.disabled = true;  // To prevent multiple clicks.\n",
              "      quickchartButtonEl.classList.add('colab-df-spinner');\n",
              "      try {\n",
              "        const charts = await google.colab.kernel.invokeFunction(\n",
              "            'suggestCharts', [key], {});\n",
              "      } catch (error) {\n",
              "        console.error('Error during call to suggestCharts:', error);\n",
              "      }\n",
              "      quickchartButtonEl.classList.remove('colab-df-spinner');\n",
              "      quickchartButtonEl.classList.add('colab-df-quickchart-complete');\n",
              "    }\n",
              "    (() => {\n",
              "      let quickchartButtonEl =\n",
              "        document.querySelector('#df-53ed16b4-a1c2-44d7-8f33-ecae09e50c65 button');\n",
              "      quickchartButtonEl.style.display =\n",
              "        google.colab.kernel.accessAllowed ? 'block' : 'none';\n",
              "    })();\n",
              "  </script>\n",
              "</div>\n",
              "\n",
              "    </div>\n",
              "  </div>\n"
            ],
            "application/vnd.google.colaboratory.intrinsic+json": {
              "type": "dataframe",
              "summary": "{\n  \"name\": \"df\",\n  \"rows\": 8,\n  \"fields\": [\n    {\n      \"column\": \"gravidez\",\n      \"properties\": {\n        \"dtype\": \"number\",\n        \"std\": 269.85223453356366,\n        \"min\": 0.0,\n        \"max\": 768.0,\n        \"num_unique_values\": 8,\n        \"samples\": [\n          3.8450520833333335,\n          3.0,\n          768.0\n        ],\n        \"semantic_type\": \"\",\n        \"description\": \"\"\n      }\n    },\n    {\n      \"column\": \"glicose\",\n      \"properties\": {\n        \"dtype\": \"number\",\n        \"std\": 243.73802348295857,\n        \"min\": 0.0,\n        \"max\": 768.0,\n        \"num_unique_values\": 8,\n        \"samples\": [\n          120.89453125,\n          117.0,\n          768.0\n        ],\n        \"semantic_type\": \"\",\n        \"description\": \"\"\n      }\n    },\n    {\n      \"column\": \"pressao_sangue\",\n      \"properties\": {\n        \"dtype\": \"number\",\n        \"std\": 252.8525053581062,\n        \"min\": 0.0,\n        \"max\": 768.0,\n        \"num_unique_values\": 8,\n        \"samples\": [\n          69.10546875,\n          72.0,\n          768.0\n        ],\n        \"semantic_type\": \"\",\n        \"description\": \"\"\n      }\n    },\n    {\n      \"column\": \"espessura_pele\",\n      \"properties\": {\n        \"dtype\": \"number\",\n        \"std\": 263.7684730531098,\n        \"min\": 0.0,\n        \"max\": 768.0,\n        \"num_unique_values\": 7,\n        \"samples\": [\n          768.0,\n          20.536458333333332,\n          32.0\n        ],\n        \"semantic_type\": \"\",\n        \"description\": \"\"\n      }\n    },\n    {\n      \"column\": \"insulina\",\n      \"properties\": {\n        \"dtype\": \"number\",\n        \"std\": 350.26059167945886,\n        \"min\": 0.0,\n        \"max\": 846.0,\n        \"num_unique_values\": 7,\n        \"samples\": [\n          768.0,\n          79.79947916666667,\n          127.25\n        ],\n        \"semantic_type\": \"\",\n        \"description\": \"\"\n      }\n    },\n    {\n      \"column\": \"IMC\",\n      \"properties\": {\n        \"dtype\": \"number\",\n        \"std\": 262.05117817552093,\n        \"min\": 0.0,\n        \"max\": 768.0,\n        \"num_unique_values\": 8,\n        \"samples\": [\n          31.992578124999998,\n          32.0,\n          768.0\n        ],\n        \"semantic_type\": \"\",\n        \"description\": \"\"\n      }\n    },\n    {\n      \"column\": \"predisposicao_diabetes\",\n      \"properties\": {\n        \"dtype\": \"number\",\n        \"std\": 271.3005221658502,\n        \"min\": 0.078,\n        \"max\": 768.0,\n        \"num_unique_values\": 8,\n        \"samples\": [\n          0.47187630208333325,\n          0.3725,\n          768.0\n        ],\n        \"semantic_type\": \"\",\n        \"description\": \"\"\n      }\n    },\n    {\n      \"column\": \"idade\",\n      \"properties\": {\n        \"dtype\": \"number\",\n        \"std\": 260.1941178528413,\n        \"min\": 11.760231540678685,\n        \"max\": 768.0,\n        \"num_unique_values\": 8,\n        \"samples\": [\n          33.240885416666664,\n          29.0,\n          768.0\n        ],\n        \"semantic_type\": \"\",\n        \"description\": \"\"\n      }\n    },\n    {\n      \"column\": \"diabetes\",\n      \"properties\": {\n        \"dtype\": \"number\",\n        \"std\": 271.3865920388932,\n        \"min\": 0.0,\n        \"max\": 768.0,\n        \"num_unique_values\": 5,\n        \"samples\": [\n          0.3489583333333333,\n          1.0,\n          0.47695137724279896\n        ],\n        \"semantic_type\": \"\",\n        \"description\": \"\"\n      }\n    }\n  ]\n}"
            }
          },
          "metadata": {},
          "execution_count": 5
        }
      ]
    },
    {
      "cell_type": "code",
      "source": [
        "df.isna().sum() #vefrificando se tem valor nulo"
      ],
      "metadata": {
        "colab": {
          "base_uri": "https://localhost:8080/"
        },
        "id": "GL_ErMsL10uK",
        "outputId": "57a9c285-e303-4834-8e45-015c849347c9"
      },
      "execution_count": null,
      "outputs": [
        {
          "output_type": "execute_result",
          "data": {
            "text/plain": [
              "gravidez                  0\n",
              "glicose                   0\n",
              "pressao_sangue            0\n",
              "espessura_pele            0\n",
              "insulina                  0\n",
              "IMC                       0\n",
              "predisposicao_diabetes    0\n",
              "idade                     0\n",
              "diabetes                  0\n",
              "dtype: int64"
            ]
          },
          "metadata": {},
          "execution_count": 6
        }
      ]
    },
    {
      "cell_type": "code",
      "source": [
        "df.groupby(['diabetes'])['diabetes'].count() #le-se agrupe por diabetes a coluna diabetes.\n",
        "#neste caso aqui conseguimos observar um desbalanceamento dos dados."
      ],
      "metadata": {
        "colab": {
          "base_uri": "https://localhost:8080/"
        },
        "id": "lo54Y1-e2OY7",
        "outputId": "2778f54b-6ad6-4abb-e500-89b2e421e220"
      },
      "execution_count": null,
      "outputs": [
        {
          "output_type": "execute_result",
          "data": {
            "text/plain": [
              "diabetes\n",
              "0    500\n",
              "1    268\n",
              "Name: diabetes, dtype: int64"
            ]
          },
          "metadata": {},
          "execution_count": 7
        }
      ]
    },
    {
      "cell_type": "code",
      "source": [
        "#Separando o conjunto de dados features:\n",
        "X_dados = df.drop('diabetes', axis=1).values\n",
        "X_dados"
      ],
      "metadata": {
        "colab": {
          "base_uri": "https://localhost:8080/"
        },
        "id": "2NLLGiMl2mlI",
        "outputId": "be3dc651-93fe-418e-cead-61dfb9f43ed8"
      },
      "execution_count": null,
      "outputs": [
        {
          "output_type": "execute_result",
          "data": {
            "text/plain": [
              "array([[  6.   , 148.   ,  72.   , ...,  33.6  ,   0.627,  50.   ],\n",
              "       [  1.   ,  85.   ,  66.   , ...,  26.6  ,   0.351,  31.   ],\n",
              "       [  8.   , 183.   ,  64.   , ...,  23.3  ,   0.672,  32.   ],\n",
              "       ...,\n",
              "       [  5.   , 121.   ,  72.   , ...,  26.2  ,   0.245,  30.   ],\n",
              "       [  1.   , 126.   ,  60.   , ...,  30.1  ,   0.349,  47.   ],\n",
              "       [  1.   ,  93.   ,  70.   , ...,  30.4  ,   0.315,  23.   ]])"
            ]
          },
          "metadata": {},
          "execution_count": 8
        }
      ]
    },
    {
      "cell_type": "code",
      "source": [
        "#Separando o target\n",
        "y_dados = df['diabetes'].values\n",
        "y_dados"
      ],
      "metadata": {
        "colab": {
          "base_uri": "https://localhost:8080/"
        },
        "id": "1iqtff1G3Wgw",
        "outputId": "c42d39b3-943d-41e7-c94c-5ef18122ae08"
      },
      "execution_count": null,
      "outputs": [
        {
          "output_type": "execute_result",
          "data": {
            "text/plain": [
              "array([1, 0, 1, 0, 1, 0, 1, 0, 1, 1, 0, 1, 0, 1, 1, 1, 1, 1, 0, 1, 0, 0,\n",
              "       1, 1, 1, 1, 1, 0, 0, 0, 0, 1, 0, 0, 0, 0, 0, 1, 1, 1, 0, 0, 0, 1,\n",
              "       0, 1, 0, 0, 1, 0, 0, 0, 0, 1, 0, 0, 1, 0, 0, 0, 0, 1, 0, 0, 1, 0,\n",
              "       1, 0, 0, 0, 1, 0, 1, 0, 0, 0, 0, 0, 1, 0, 0, 0, 0, 0, 1, 0, 0, 0,\n",
              "       1, 0, 0, 0, 0, 1, 0, 0, 0, 0, 0, 1, 1, 0, 0, 0, 0, 0, 0, 0, 0, 1,\n",
              "       1, 1, 0, 0, 1, 1, 1, 0, 0, 0, 1, 0, 0, 0, 1, 1, 0, 0, 1, 1, 1, 1,\n",
              "       1, 0, 0, 0, 0, 0, 0, 0, 0, 0, 0, 1, 0, 0, 0, 0, 0, 0, 0, 0, 1, 0,\n",
              "       1, 1, 0, 0, 0, 1, 0, 0, 0, 0, 1, 1, 0, 0, 0, 0, 1, 1, 0, 0, 0, 1,\n",
              "       0, 1, 0, 1, 0, 0, 0, 0, 0, 1, 1, 1, 1, 1, 0, 0, 1, 1, 0, 1, 0, 1,\n",
              "       1, 1, 0, 0, 0, 0, 0, 0, 1, 1, 0, 1, 0, 0, 0, 1, 1, 1, 1, 0, 1, 1,\n",
              "       1, 1, 0, 0, 0, 0, 0, 1, 0, 0, 1, 1, 0, 0, 0, 1, 1, 1, 1, 0, 0, 0,\n",
              "       1, 1, 0, 1, 0, 0, 0, 0, 0, 0, 0, 0, 1, 1, 0, 0, 0, 1, 0, 1, 0, 0,\n",
              "       1, 0, 1, 0, 0, 1, 1, 0, 0, 0, 0, 0, 1, 0, 0, 0, 1, 0, 0, 1, 1, 0,\n",
              "       0, 1, 0, 0, 0, 1, 1, 1, 0, 0, 1, 0, 1, 0, 1, 1, 0, 1, 0, 0, 1, 0,\n",
              "       1, 1, 0, 0, 1, 0, 1, 0, 0, 1, 0, 1, 0, 1, 1, 1, 0, 0, 1, 0, 1, 0,\n",
              "       0, 0, 1, 0, 0, 0, 0, 1, 1, 1, 0, 0, 0, 0, 0, 0, 0, 0, 0, 1, 0, 0,\n",
              "       0, 0, 0, 1, 1, 1, 0, 1, 1, 0, 0, 1, 0, 0, 1, 0, 0, 1, 1, 0, 0, 0,\n",
              "       0, 1, 0, 0, 1, 0, 0, 0, 0, 0, 0, 0, 1, 1, 1, 0, 0, 1, 0, 0, 1, 0,\n",
              "       0, 1, 0, 1, 1, 0, 1, 0, 1, 0, 1, 0, 1, 1, 0, 0, 0, 0, 1, 1, 0, 1,\n",
              "       0, 1, 0, 0, 0, 0, 1, 1, 0, 1, 0, 1, 0, 0, 0, 0, 0, 1, 0, 0, 0, 0,\n",
              "       1, 0, 0, 1, 1, 1, 0, 0, 1, 0, 0, 1, 0, 0, 0, 1, 0, 0, 1, 0, 0, 0,\n",
              "       0, 0, 0, 0, 0, 0, 1, 0, 0, 0, 0, 0, 0, 0, 1, 0, 0, 0, 1, 0, 0, 0,\n",
              "       1, 1, 0, 0, 0, 0, 0, 0, 0, 1, 0, 0, 0, 0, 1, 0, 0, 0, 1, 0, 0, 0,\n",
              "       1, 0, 0, 0, 1, 0, 0, 0, 0, 1, 1, 0, 0, 0, 0, 0, 0, 1, 0, 0, 0, 0,\n",
              "       0, 0, 0, 0, 0, 0, 0, 1, 0, 0, 0, 1, 1, 1, 1, 0, 0, 1, 1, 0, 0, 0,\n",
              "       0, 0, 0, 0, 0, 0, 0, 0, 0, 0, 1, 1, 0, 0, 0, 0, 0, 0, 0, 1, 0, 0,\n",
              "       0, 0, 0, 0, 0, 1, 0, 1, 1, 0, 0, 0, 1, 0, 1, 0, 1, 0, 1, 0, 1, 0,\n",
              "       0, 1, 0, 0, 1, 0, 0, 0, 0, 1, 1, 0, 1, 0, 0, 0, 0, 1, 1, 0, 1, 0,\n",
              "       0, 0, 1, 1, 0, 0, 0, 0, 0, 0, 0, 0, 0, 0, 1, 0, 0, 0, 0, 1, 0, 0,\n",
              "       1, 0, 0, 0, 1, 0, 0, 0, 1, 1, 1, 0, 0, 0, 0, 0, 0, 1, 0, 0, 0, 1,\n",
              "       0, 1, 1, 1, 1, 0, 1, 1, 0, 0, 0, 0, 0, 0, 0, 1, 1, 0, 1, 0, 0, 1,\n",
              "       0, 1, 0, 0, 0, 0, 0, 1, 0, 1, 0, 1, 0, 1, 1, 0, 0, 0, 0, 1, 1, 0,\n",
              "       0, 0, 1, 0, 1, 1, 0, 0, 1, 0, 0, 1, 1, 0, 0, 1, 0, 0, 1, 0, 0, 0,\n",
              "       0, 0, 0, 0, 1, 1, 1, 0, 0, 0, 0, 0, 0, 1, 1, 0, 0, 1, 0, 0, 1, 0,\n",
              "       1, 1, 1, 0, 0, 1, 1, 1, 0, 1, 0, 1, 0, 1, 0, 0, 0, 0, 1, 0])"
            ]
          },
          "metadata": {},
          "execution_count": 9
        }
      ]
    },
    {
      "cell_type": "code",
      "source": [
        "#Criando a função para balancear os dados\n",
        "def balanceamento_dados (X_dados, y_dados):\n",
        "  undersample = RandomUnderSampler(random_state=42)\n",
        "  X_under, y_under = undersample.fit_resample(X_dados, y_dados)\n",
        "\n",
        "  tl = TomekLinks(sampling_strategy='all')\n",
        "\n",
        "  X_under, y_under = tl.fit_resample(X_under, y_under)\n",
        "  return X_under, y_under\n",
        "\n",
        "#aplicando a tecnica de balanceamento na base de dados\n",
        "X_dados_balanceados, y_dados_balanceados = balanceamento_dados (X_dados, y_dados)\n"
      ],
      "metadata": {
        "id": "FPfNBDrP31kk"
      },
      "execution_count": null,
      "outputs": []
    },
    {
      "cell_type": "code",
      "source": [
        "print(len(X_dados_balanceados))\n",
        "print(len(y_dados_balanceados))"
      ],
      "metadata": {
        "colab": {
          "base_uri": "https://localhost:8080/"
        },
        "id": "-1jxSFE06jyD",
        "outputId": "bbcba99c-2be8-4ff5-d4d6-4f6950e6a74a"
      },
      "execution_count": null,
      "outputs": [
        {
          "output_type": "stream",
          "name": "stdout",
          "text": [
            "456\n",
            "456\n"
          ]
        }
      ]
    },
    {
      "cell_type": "code",
      "source": [
        "import collections\n",
        "print(collections.Counter(y_dados_balanceados))"
      ],
      "metadata": {
        "colab": {
          "base_uri": "https://localhost:8080/"
        },
        "id": "pLgZar1u682E",
        "outputId": "9cac193e-99e9-4d73-e5e4-3914b81b051a"
      },
      "execution_count": null,
      "outputs": [
        {
          "output_type": "stream",
          "name": "stdout",
          "text": [
            "Counter({0: 228, 1: 228})\n"
          ]
        }
      ]
    },
    {
      "cell_type": "code",
      "source": [
        "from sklearn.model_selection import train_test_split"
      ],
      "metadata": {
        "id": "lbD3PeLG7LCl"
      },
      "execution_count": null,
      "outputs": []
    },
    {
      "cell_type": "code",
      "source": [
        "def separa_treino_teste(X_dados_balanceados, y_dados_balanceados):\n",
        "    X_train, X_test, y_train, y_test = train_test_split(X_dados_balanceados,\n",
        "                                                        y_dados_balanceados,\n",
        "                                                        random_state=42,\n",
        "                                                        test_size=0.2)\n",
        "    return X_train, X_test, y_train, y_test\n",
        "\n",
        "X_train, X_test, y_train, y_test = separa_treino_teste(X_dados_balanceados, y_dados_balanceados)\n"
      ],
      "metadata": {
        "id": "iFAqIwcT8dAu"
      },
      "execution_count": null,
      "outputs": []
    },
    {
      "cell_type": "code",
      "source": [
        "len(y_train)"
      ],
      "metadata": {
        "colab": {
          "base_uri": "https://localhost:8080/"
        },
        "id": "1WGLQmkh8h6e",
        "outputId": "990cf335-6501-441c-8b65-0c2df4bf5356"
      },
      "execution_count": null,
      "outputs": [
        {
          "output_type": "execute_result",
          "data": {
            "text/plain": [
              "364"
            ]
          },
          "metadata": {},
          "execution_count": 15
        }
      ]
    },
    {
      "cell_type": "code",
      "source": [
        "from sklearn import tree\n",
        "algoritmo_arvore = tree.DecisionTreeClassifier()\n",
        "modelo = algoritmo_arvore.fit(X_train, y_train)\n",
        "y_pred = modelo.predict(X_test)\n",
        "print(modelo.feature_importances_)"
      ],
      "metadata": {
        "colab": {
          "base_uri": "https://localhost:8080/"
        },
        "id": "77IPnCKX8nz-",
        "outputId": "b0f35be9-2084-40d3-bc6d-d36db18b5e23"
      },
      "execution_count": null,
      "outputs": [
        {
          "output_type": "stream",
          "name": "stdout",
          "text": [
            "[0.05980665 0.4048686  0.05488635 0.04400862 0.05105089 0.16737118\n",
            " 0.05679675 0.16121096]\n"
          ]
        }
      ]
    },
    {
      "cell_type": "code",
      "source": [
        "df.columns"
      ],
      "metadata": {
        "colab": {
          "base_uri": "https://localhost:8080/"
        },
        "id": "RJ1LMUoOAWrN",
        "outputId": "e6678bdd-4be4-4078-c816-8f35c3548bdc"
      },
      "execution_count": null,
      "outputs": [
        {
          "output_type": "execute_result",
          "data": {
            "text/plain": [
              "Index(['gravidez', 'glicose', 'pressao_sangue', 'espessura_pele', 'insulina',\n",
              "       'IMC', 'predisposicao_diabetes', 'idade', 'diabetes'],\n",
              "      dtype='object')"
            ]
          },
          "metadata": {},
          "execution_count": 17
        }
      ]
    },
    {
      "cell_type": "code",
      "source": [
        "#A glicose é o que mais mais explica.\n",
        "def gera_features_importantes(modelo):\n",
        "  pd.DataFrame(modelo.feature_importances_, columns=['importancia'],\n",
        "              index = ['gravidez', 'glicose', 'pressao_sangue', 'espessura_pele', 'insulina',\n",
        "        'IMC', 'predisposicao_diabetes', 'idade']).sort_values('importancia', ascending=False)"
      ],
      "metadata": {
        "id": "DNGJb98DAiME"
      },
      "execution_count": null,
      "outputs": []
    },
    {
      "cell_type": "code",
      "source": [
        "modelo.classes_"
      ],
      "metadata": {
        "colab": {
          "base_uri": "https://localhost:8080/"
        },
        "id": "CdK5hvoaDgHP",
        "outputId": "58267e69-ff5d-4df4-a0e8-7def939fbaf4"
      },
      "execution_count": null,
      "outputs": [
        {
          "output_type": "execute_result",
          "data": {
            "text/plain": [
              "array([0, 1])"
            ]
          },
          "metadata": {},
          "execution_count": 19
        }
      ]
    },
    {
      "cell_type": "code",
      "source": [
        "nome_features = ['gravidez', 'glicose', 'pressao_sangue', 'espessura_pele', 'insulina',\n",
        "       'IMC', 'predisposicao_diabetes', 'idade']\n",
        "\n",
        "nome_classes = ['NÃO DIABETICO', 'DIABETICO']"
      ],
      "metadata": {
        "id": "hAFHMnAkDhqM"
      },
      "execution_count": null,
      "outputs": []
    },
    {
      "cell_type": "code",
      "source": [
        "import graphviz\n",
        "def visualiza_arvore(modelo):\n",
        "  arvore = tree.export_graphviz(modelo,\n",
        "                                feature_names=nome_features,\n",
        "                                class_names = nome_classes,\n",
        "                                rounded = True,\n",
        "                                special_characters=True, filled=True)\n",
        "  graph = graphviz.Source(arvore)\n",
        "  return graph"
      ],
      "metadata": {
        "id": "ZT8gDGfjD24e"
      },
      "execution_count": null,
      "outputs": []
    },
    {
      "cell_type": "code",
      "source": [
        "visualiza_arvore(modelo)"
      ],
      "metadata": {
        "colab": {
          "base_uri": "https://localhost:8080/"
        },
        "id": "6gVx6CwhE2ON",
        "outputId": "7e17e48c-d23f-41b5-a31a-771c1ba2e46b"
      },
      "execution_count": null,
      "outputs": [
        {
          "output_type": "execute_result",
          "data": {
            "image/svg+xml": "<?xml version=\"1.0\" encoding=\"UTF-8\" standalone=\"no\"?>\n<!DOCTYPE svg PUBLIC \"-//W3C//DTD SVG 1.1//EN\"\n \"http://www.w3.org/Graphics/SVG/1.1/DTD/svg11.dtd\">\n<!-- Generated by graphviz version 2.43.0 (0)\n -->\n<!-- Title: Tree Pages: 1 -->\n<svg width=\"3874pt\" height=\"1504pt\"\n viewBox=\"0.00 0.00 3873.50 1504.00\" xmlns=\"http://www.w3.org/2000/svg\" xmlns:xlink=\"http://www.w3.org/1999/xlink\">\n<g id=\"graph0\" class=\"graph\" transform=\"scale(1 1) rotate(0) translate(4 1500)\">\n<title>Tree</title>\n<polygon fill=\"white\" stroke=\"transparent\" points=\"-4,4 -4,-1500 3869.5,-1500 3869.5,4 -4,4\"/>\n<!-- 0 -->\n<g id=\"node1\" class=\"node\">\n<title>0</title>\n<path fill=\"#f9fcfe\" stroke=\"black\" d=\"M2315.5,-1496C2315.5,-1496 2202.5,-1496 2202.5,-1496 2196.5,-1496 2190.5,-1490 2190.5,-1484 2190.5,-1484 2190.5,-1425 2190.5,-1425 2190.5,-1419 2196.5,-1413 2202.5,-1413 2202.5,-1413 2315.5,-1413 2315.5,-1413 2321.5,-1413 2327.5,-1419 2327.5,-1425 2327.5,-1425 2327.5,-1484 2327.5,-1484 2327.5,-1490 2321.5,-1496 2315.5,-1496\"/>\n<text text-anchor=\"start\" x=\"2213.5\" y=\"-1480.8\" font-family=\"Helvetica,sans-Serif\" font-size=\"14.00\">glicose ≤ 127.5</text>\n<text text-anchor=\"start\" x=\"2231\" y=\"-1465.8\" font-family=\"Helvetica,sans-Serif\" font-size=\"14.00\">gini = 0.5</text>\n<text text-anchor=\"start\" x=\"2214\" y=\"-1450.8\" font-family=\"Helvetica,sans-Serif\" font-size=\"14.00\">samples = 364</text>\n<text text-anchor=\"start\" x=\"2204.5\" y=\"-1435.8\" font-family=\"Helvetica,sans-Serif\" font-size=\"14.00\">value = [179, 185]</text>\n<text text-anchor=\"start\" x=\"2198.5\" y=\"-1420.8\" font-family=\"Helvetica,sans-Serif\" font-size=\"14.00\">class = DIABETICO</text>\n</g>\n<!-- 1 -->\n<g id=\"node2\" class=\"node\">\n<title>1</title>\n<path fill=\"#efb286\" stroke=\"black\" d=\"M1546,-1377C1546,-1377 1400,-1377 1400,-1377 1394,-1377 1388,-1371 1388,-1365 1388,-1365 1388,-1306 1388,-1306 1388,-1300 1394,-1294 1400,-1294 1400,-1294 1546,-1294 1546,-1294 1552,-1294 1558,-1300 1558,-1306 1558,-1306 1558,-1365 1558,-1365 1558,-1371 1552,-1377 1546,-1377\"/>\n<text text-anchor=\"start\" x=\"1435.5\" y=\"-1361.8\" font-family=\"Helvetica,sans-Serif\" font-size=\"14.00\">idade ≤ 28.5</text>\n<text text-anchor=\"start\" x=\"1437.5\" y=\"-1346.8\" font-family=\"Helvetica,sans-Serif\" font-size=\"14.00\">gini = 0.404</text>\n<text text-anchor=\"start\" x=\"1428\" y=\"-1331.8\" font-family=\"Helvetica,sans-Serif\" font-size=\"14.00\">samples = 217</text>\n<text text-anchor=\"start\" x=\"1422.5\" y=\"-1316.8\" font-family=\"Helvetica,sans-Serif\" font-size=\"14.00\">value = [156, 61]</text>\n<text text-anchor=\"start\" x=\"1396\" y=\"-1301.8\" font-family=\"Helvetica,sans-Serif\" font-size=\"14.00\">class = NÃO DIABETICO</text>\n</g>\n<!-- 0&#45;&gt;1 -->\n<g id=\"edge1\" class=\"edge\">\n<title>0&#45;&gt;1</title>\n<path fill=\"none\" stroke=\"black\" d=\"M2190.28,-1443.27C2049.73,-1422.35 1729.16,-1374.63 1568.49,-1350.71\"/>\n<polygon fill=\"black\" stroke=\"black\" points=\"1568.55,-1347.18 1558.14,-1349.17 1567.52,-1354.11 1568.55,-1347.18\"/>\n<text text-anchor=\"middle\" x=\"1573.03\" y=\"-1365.56\" font-family=\"Helvetica,sans-Serif\" font-size=\"14.00\">True</text>\n</g>\n<!-- 76 -->\n<g id=\"node77\" class=\"node\">\n<title>76</title>\n<path fill=\"#5eafea\" stroke=\"black\" d=\"M2871.5,-1377C2871.5,-1377 2758.5,-1377 2758.5,-1377 2752.5,-1377 2746.5,-1371 2746.5,-1365 2746.5,-1365 2746.5,-1306 2746.5,-1306 2746.5,-1300 2752.5,-1294 2758.5,-1294 2758.5,-1294 2871.5,-1294 2871.5,-1294 2877.5,-1294 2883.5,-1300 2883.5,-1306 2883.5,-1306 2883.5,-1365 2883.5,-1365 2883.5,-1371 2877.5,-1377 2871.5,-1377\"/>\n<text text-anchor=\"start\" x=\"2777.5\" y=\"-1361.8\" font-family=\"Helvetica,sans-Serif\" font-size=\"14.00\">IMC ≤ 29.85</text>\n<text text-anchor=\"start\" x=\"2779.5\" y=\"-1346.8\" font-family=\"Helvetica,sans-Serif\" font-size=\"14.00\">gini = 0.264</text>\n<text text-anchor=\"start\" x=\"2770\" y=\"-1331.8\" font-family=\"Helvetica,sans-Serif\" font-size=\"14.00\">samples = 147</text>\n<text text-anchor=\"start\" x=\"2764.5\" y=\"-1316.8\" font-family=\"Helvetica,sans-Serif\" font-size=\"14.00\">value = [23, 124]</text>\n<text text-anchor=\"start\" x=\"2754.5\" y=\"-1301.8\" font-family=\"Helvetica,sans-Serif\" font-size=\"14.00\">class = DIABETICO</text>\n</g>\n<!-- 0&#45;&gt;76 -->\n<g id=\"edge76\" class=\"edge\">\n<title>0&#45;&gt;76</title>\n<path fill=\"none\" stroke=\"black\" d=\"M2327.73,-1439.04C2431.42,-1417.22 2627.28,-1376 2736.46,-1353.03\"/>\n<polygon fill=\"black\" stroke=\"black\" points=\"2737.36,-1356.42 2746.42,-1350.93 2735.92,-1349.57 2737.36,-1356.42\"/>\n<text text-anchor=\"middle\" x=\"2732.76\" y=\"-1368.17\" font-family=\"Helvetica,sans-Serif\" font-size=\"14.00\">False</text>\n</g>\n<!-- 2 -->\n<g id=\"node3\" class=\"node\">\n<title>2</title>\n<path fill=\"#e88f50\" stroke=\"black\" d=\"M1015,-1258C1015,-1258 869,-1258 869,-1258 863,-1258 857,-1252 857,-1246 857,-1246 857,-1187 857,-1187 857,-1181 863,-1175 869,-1175 869,-1175 1015,-1175 1015,-1175 1021,-1175 1027,-1181 1027,-1187 1027,-1187 1027,-1246 1027,-1246 1027,-1252 1021,-1258 1015,-1258\"/>\n<text text-anchor=\"start\" x=\"908.5\" y=\"-1242.8\" font-family=\"Helvetica,sans-Serif\" font-size=\"14.00\">IMC ≤ 42.8</text>\n<text text-anchor=\"start\" x=\"906.5\" y=\"-1227.8\" font-family=\"Helvetica,sans-Serif\" font-size=\"14.00\">gini = 0.184</text>\n<text text-anchor=\"start\" x=\"897\" y=\"-1212.8\" font-family=\"Helvetica,sans-Serif\" font-size=\"14.00\">samples = 107</text>\n<text text-anchor=\"start\" x=\"895\" y=\"-1197.8\" font-family=\"Helvetica,sans-Serif\" font-size=\"14.00\">value = [96, 11]</text>\n<text text-anchor=\"start\" x=\"865\" y=\"-1182.8\" font-family=\"Helvetica,sans-Serif\" font-size=\"14.00\">class = NÃO DIABETICO</text>\n</g>\n<!-- 1&#45;&gt;2 -->\n<g id=\"edge2\" class=\"edge\">\n<title>1&#45;&gt;2</title>\n<path fill=\"none\" stroke=\"black\" d=\"M1387.98,-1315.77C1292.14,-1294.65 1136.73,-1260.41 1036.98,-1238.43\"/>\n<polygon fill=\"black\" stroke=\"black\" points=\"1037.72,-1235.01 1027.2,-1236.27 1036.22,-1241.84 1037.72,-1235.01\"/>\n</g>\n<!-- 27 -->\n<g id=\"node28\" class=\"node\">\n<title>27</title>\n<path fill=\"#fbeade\" stroke=\"black\" d=\"M1546,-1258C1546,-1258 1400,-1258 1400,-1258 1394,-1258 1388,-1252 1388,-1246 1388,-1246 1388,-1187 1388,-1187 1388,-1181 1394,-1175 1400,-1175 1400,-1175 1546,-1175 1546,-1175 1552,-1175 1558,-1181 1558,-1187 1558,-1187 1558,-1246 1558,-1246 1558,-1252 1552,-1258 1546,-1258\"/>\n<text text-anchor=\"start\" x=\"1439.5\" y=\"-1242.8\" font-family=\"Helvetica,sans-Serif\" font-size=\"14.00\">IMC ≤ 26.8</text>\n<text text-anchor=\"start\" x=\"1437.5\" y=\"-1227.8\" font-family=\"Helvetica,sans-Serif\" font-size=\"14.00\">gini = 0.496</text>\n<text text-anchor=\"start\" x=\"1428\" y=\"-1212.8\" font-family=\"Helvetica,sans-Serif\" font-size=\"14.00\">samples = 110</text>\n<text text-anchor=\"start\" x=\"1426\" y=\"-1197.8\" font-family=\"Helvetica,sans-Serif\" font-size=\"14.00\">value = [60, 50]</text>\n<text text-anchor=\"start\" x=\"1396\" y=\"-1182.8\" font-family=\"Helvetica,sans-Serif\" font-size=\"14.00\">class = NÃO DIABETICO</text>\n</g>\n<!-- 1&#45;&gt;27 -->\n<g id=\"edge27\" class=\"edge\">\n<title>1&#45;&gt;27</title>\n<path fill=\"none\" stroke=\"black\" d=\"M1473,-1293.91C1473,-1285.65 1473,-1276.86 1473,-1268.3\"/>\n<polygon fill=\"black\" stroke=\"black\" points=\"1476.5,-1268.02 1473,-1258.02 1469.5,-1268.02 1476.5,-1268.02\"/>\n</g>\n<!-- 3 -->\n<g id=\"node4\" class=\"node\">\n<title>3</title>\n<path fill=\"#e78c4a\" stroke=\"black\" d=\"M757.5,-1139C757.5,-1139 574.5,-1139 574.5,-1139 568.5,-1139 562.5,-1133 562.5,-1127 562.5,-1127 562.5,-1068 562.5,-1068 562.5,-1062 568.5,-1056 574.5,-1056 574.5,-1056 757.5,-1056 757.5,-1056 763.5,-1056 769.5,-1062 769.5,-1068 769.5,-1068 769.5,-1127 769.5,-1127 769.5,-1133 763.5,-1139 757.5,-1139\"/>\n<text text-anchor=\"start\" x=\"570.5\" y=\"-1123.8\" font-family=\"Helvetica,sans-Serif\" font-size=\"14.00\">predisposicao_diabetes ≤ 0.666</text>\n<text text-anchor=\"start\" x=\"630.5\" y=\"-1108.8\" font-family=\"Helvetica,sans-Serif\" font-size=\"14.00\">gini = 0.143</text>\n<text text-anchor=\"start\" x=\"621\" y=\"-1093.8\" font-family=\"Helvetica,sans-Serif\" font-size=\"14.00\">samples = 103</text>\n<text text-anchor=\"start\" x=\"623\" y=\"-1078.8\" font-family=\"Helvetica,sans-Serif\" font-size=\"14.00\">value = [95, 8]</text>\n<text text-anchor=\"start\" x=\"589\" y=\"-1063.8\" font-family=\"Helvetica,sans-Serif\" font-size=\"14.00\">class = NÃO DIABETICO</text>\n</g>\n<!-- 2&#45;&gt;3 -->\n<g id=\"edge3\" class=\"edge\">\n<title>2&#45;&gt;3</title>\n<path fill=\"none\" stroke=\"black\" d=\"M856.94,-1179.44C829.9,-1167.98 799.67,-1155.16 771.38,-1143.17\"/>\n<polygon fill=\"black\" stroke=\"black\" points=\"772.44,-1139.82 761.86,-1139.14 769.7,-1146.26 772.44,-1139.82\"/>\n</g>\n<!-- 24 -->\n<g id=\"node25\" class=\"node\">\n<title>24</title>\n<path fill=\"#7bbeee\" stroke=\"black\" d=\"M998.5,-1139C998.5,-1139 885.5,-1139 885.5,-1139 879.5,-1139 873.5,-1133 873.5,-1127 873.5,-1127 873.5,-1068 873.5,-1068 873.5,-1062 879.5,-1056 885.5,-1056 885.5,-1056 998.5,-1056 998.5,-1056 1004.5,-1056 1010.5,-1062 1010.5,-1068 1010.5,-1068 1010.5,-1127 1010.5,-1127 1010.5,-1133 1004.5,-1139 998.5,-1139\"/>\n<text text-anchor=\"start\" x=\"896.5\" y=\"-1123.8\" font-family=\"Helvetica,sans-Serif\" font-size=\"14.00\">glicose ≤ 120.5</text>\n<text text-anchor=\"start\" x=\"906.5\" y=\"-1108.8\" font-family=\"Helvetica,sans-Serif\" font-size=\"14.00\">gini = 0.375</text>\n<text text-anchor=\"start\" x=\"904.5\" y=\"-1093.8\" font-family=\"Helvetica,sans-Serif\" font-size=\"14.00\">samples = 4</text>\n<text text-anchor=\"start\" x=\"902.5\" y=\"-1078.8\" font-family=\"Helvetica,sans-Serif\" font-size=\"14.00\">value = [1, 3]</text>\n<text text-anchor=\"start\" x=\"881.5\" y=\"-1063.8\" font-family=\"Helvetica,sans-Serif\" font-size=\"14.00\">class = DIABETICO</text>\n</g>\n<!-- 2&#45;&gt;24 -->\n<g id=\"edge24\" class=\"edge\">\n<title>2&#45;&gt;24</title>\n<path fill=\"none\" stroke=\"black\" d=\"M942,-1174.91C942,-1166.65 942,-1157.86 942,-1149.3\"/>\n<polygon fill=\"black\" stroke=\"black\" points=\"945.5,-1149.02 942,-1139.02 938.5,-1149.02 945.5,-1149.02\"/>\n</g>\n<!-- 4 -->\n<g id=\"node5\" class=\"node\">\n<title>4</title>\n<path fill=\"#e68742\" stroke=\"black\" d=\"M532,-1020C532,-1020 386,-1020 386,-1020 380,-1020 374,-1014 374,-1008 374,-1008 374,-949 374,-949 374,-943 380,-937 386,-937 386,-937 532,-937 532,-937 538,-937 544,-943 544,-949 544,-949 544,-1008 544,-1008 544,-1014 538,-1020 532,-1020\"/>\n<text text-anchor=\"start\" x=\"413.5\" y=\"-1004.8\" font-family=\"Helvetica,sans-Serif\" font-size=\"14.00\">glicose ≤ 112.5</text>\n<text text-anchor=\"start\" x=\"423.5\" y=\"-989.8\" font-family=\"Helvetica,sans-Serif\" font-size=\"14.00\">gini = 0.086</text>\n<text text-anchor=\"start\" x=\"418\" y=\"-974.8\" font-family=\"Helvetica,sans-Serif\" font-size=\"14.00\">samples = 89</text>\n<text text-anchor=\"start\" x=\"416\" y=\"-959.8\" font-family=\"Helvetica,sans-Serif\" font-size=\"14.00\">value = [85, 4]</text>\n<text text-anchor=\"start\" x=\"382\" y=\"-944.8\" font-family=\"Helvetica,sans-Serif\" font-size=\"14.00\">class = NÃO DIABETICO</text>\n</g>\n<!-- 3&#45;&gt;4 -->\n<g id=\"edge4\" class=\"edge\">\n<title>3&#45;&gt;4</title>\n<path fill=\"none\" stroke=\"black\" d=\"M594.18,-1055.91C576.52,-1045.92 557.5,-1035.17 539.46,-1024.98\"/>\n<polygon fill=\"black\" stroke=\"black\" points=\"541.12,-1021.89 530.69,-1020.02 537.67,-1027.99 541.12,-1021.89\"/>\n</g>\n<!-- 15 -->\n<g id=\"node16\" class=\"node\">\n<title>15</title>\n<path fill=\"#efb388\" stroke=\"black\" d=\"M757.5,-1020C757.5,-1020 574.5,-1020 574.5,-1020 568.5,-1020 562.5,-1014 562.5,-1008 562.5,-1008 562.5,-949 562.5,-949 562.5,-943 568.5,-937 574.5,-937 574.5,-937 757.5,-937 757.5,-937 763.5,-937 769.5,-943 769.5,-949 769.5,-949 769.5,-1008 769.5,-1008 769.5,-1014 763.5,-1020 757.5,-1020\"/>\n<text text-anchor=\"start\" x=\"570.5\" y=\"-1004.8\" font-family=\"Helvetica,sans-Serif\" font-size=\"14.00\">predisposicao_diabetes ≤ 0.691</text>\n<text text-anchor=\"start\" x=\"630.5\" y=\"-989.8\" font-family=\"Helvetica,sans-Serif\" font-size=\"14.00\">gini = 0.408</text>\n<text text-anchor=\"start\" x=\"625\" y=\"-974.8\" font-family=\"Helvetica,sans-Serif\" font-size=\"14.00\">samples = 14</text>\n<text text-anchor=\"start\" x=\"623\" y=\"-959.8\" font-family=\"Helvetica,sans-Serif\" font-size=\"14.00\">value = [10, 4]</text>\n<text text-anchor=\"start\" x=\"589\" y=\"-944.8\" font-family=\"Helvetica,sans-Serif\" font-size=\"14.00\">class = NÃO DIABETICO</text>\n</g>\n<!-- 3&#45;&gt;15 -->\n<g id=\"edge15\" class=\"edge\">\n<title>3&#45;&gt;15</title>\n<path fill=\"none\" stroke=\"black\" d=\"M666,-1055.91C666,-1047.65 666,-1038.86 666,-1030.3\"/>\n<polygon fill=\"black\" stroke=\"black\" points=\"669.5,-1030.02 666,-1020.02 662.5,-1030.02 669.5,-1030.02\"/>\n</g>\n<!-- 5 -->\n<g id=\"node6\" class=\"node\">\n<title>5</title>\n<path fill=\"#e5833c\" stroke=\"black\" d=\"M345,-901C345,-901 199,-901 199,-901 193,-901 187,-895 187,-889 187,-889 187,-830 187,-830 187,-824 193,-818 199,-818 199,-818 345,-818 345,-818 351,-818 357,-824 357,-830 357,-830 357,-889 357,-889 357,-895 351,-901 345,-901\"/>\n<text text-anchor=\"start\" x=\"203.5\" y=\"-885.8\" font-family=\"Helvetica,sans-Serif\" font-size=\"14.00\">espessura_pele ≤ 41.0</text>\n<text text-anchor=\"start\" x=\"236.5\" y=\"-870.8\" font-family=\"Helvetica,sans-Serif\" font-size=\"14.00\">gini = 0.028</text>\n<text text-anchor=\"start\" x=\"231\" y=\"-855.8\" font-family=\"Helvetica,sans-Serif\" font-size=\"14.00\">samples = 70</text>\n<text text-anchor=\"start\" x=\"229\" y=\"-840.8\" font-family=\"Helvetica,sans-Serif\" font-size=\"14.00\">value = [69, 1]</text>\n<text text-anchor=\"start\" x=\"195\" y=\"-825.8\" font-family=\"Helvetica,sans-Serif\" font-size=\"14.00\">class = NÃO DIABETICO</text>\n</g>\n<!-- 4&#45;&gt;5 -->\n<g id=\"edge5\" class=\"edge\">\n<title>4&#45;&gt;5</title>\n<path fill=\"none\" stroke=\"black\" d=\"M394.12,-936.91C378.46,-927.11 361.6,-916.56 345.57,-906.53\"/>\n<polygon fill=\"black\" stroke=\"black\" points=\"347.1,-903.36 336.76,-901.02 343.39,-909.29 347.1,-903.36\"/>\n</g>\n<!-- 10 -->\n<g id=\"node11\" class=\"node\">\n<title>10</title>\n<path fill=\"#ea995e\" stroke=\"black\" d=\"M533,-901C533,-901 387,-901 387,-901 381,-901 375,-895 375,-889 375,-889 375,-830 375,-830 375,-824 381,-818 387,-818 387,-818 533,-818 533,-818 539,-818 545,-824 545,-830 545,-830 545,-889 545,-889 545,-895 539,-901 533,-901\"/>\n<text text-anchor=\"start\" x=\"395\" y=\"-885.8\" font-family=\"Helvetica,sans-Serif\" font-size=\"14.00\">espessura_pele ≤ 5.0</text>\n<text text-anchor=\"start\" x=\"424.5\" y=\"-870.8\" font-family=\"Helvetica,sans-Serif\" font-size=\"14.00\">gini = 0.266</text>\n<text text-anchor=\"start\" x=\"419\" y=\"-855.8\" font-family=\"Helvetica,sans-Serif\" font-size=\"14.00\">samples = 19</text>\n<text text-anchor=\"start\" x=\"417\" y=\"-840.8\" font-family=\"Helvetica,sans-Serif\" font-size=\"14.00\">value = [16, 3]</text>\n<text text-anchor=\"start\" x=\"383\" y=\"-825.8\" font-family=\"Helvetica,sans-Serif\" font-size=\"14.00\">class = NÃO DIABETICO</text>\n</g>\n<!-- 4&#45;&gt;10 -->\n<g id=\"edge10\" class=\"edge\">\n<title>4&#45;&gt;10</title>\n<path fill=\"none\" stroke=\"black\" d=\"M459.35,-936.91C459.42,-928.65 459.49,-919.86 459.57,-911.3\"/>\n<polygon fill=\"black\" stroke=\"black\" points=\"463.07,-911.05 459.65,-901.02 456.07,-910.99 463.07,-911.05\"/>\n</g>\n<!-- 6 -->\n<g id=\"node7\" class=\"node\">\n<title>6</title>\n<path fill=\"#e58139\" stroke=\"black\" d=\"M158,-774.5C158,-774.5 12,-774.5 12,-774.5 6,-774.5 0,-768.5 0,-762.5 0,-762.5 0,-718.5 0,-718.5 0,-712.5 6,-706.5 12,-706.5 12,-706.5 158,-706.5 158,-706.5 164,-706.5 170,-712.5 170,-718.5 170,-718.5 170,-762.5 170,-762.5 170,-768.5 164,-774.5 158,-774.5\"/>\n<text text-anchor=\"start\" x=\"57\" y=\"-759.3\" font-family=\"Helvetica,sans-Serif\" font-size=\"14.00\">gini = 0.0</text>\n<text text-anchor=\"start\" x=\"44\" y=\"-744.3\" font-family=\"Helvetica,sans-Serif\" font-size=\"14.00\">samples = 67</text>\n<text text-anchor=\"start\" x=\"42\" y=\"-729.3\" font-family=\"Helvetica,sans-Serif\" font-size=\"14.00\">value = [67, 0]</text>\n<text text-anchor=\"start\" x=\"8\" y=\"-714.3\" font-family=\"Helvetica,sans-Serif\" font-size=\"14.00\">class = NÃO DIABETICO</text>\n</g>\n<!-- 5&#45;&gt;6 -->\n<g id=\"edge6\" class=\"edge\">\n<title>5&#45;&gt;6</title>\n<path fill=\"none\" stroke=\"black\" d=\"M207.12,-817.91C187.54,-805.66 166.12,-792.25 146.75,-780.13\"/>\n<polygon fill=\"black\" stroke=\"black\" points=\"148.34,-777 138.01,-774.67 144.63,-782.94 148.34,-777\"/>\n</g>\n<!-- 7 -->\n<g id=\"node8\" class=\"node\">\n<title>7</title>\n<path fill=\"#f2c09c\" stroke=\"black\" d=\"M346,-782C346,-782 200,-782 200,-782 194,-782 188,-776 188,-770 188,-770 188,-711 188,-711 188,-705 194,-699 200,-699 200,-699 346,-699 346,-699 352,-699 358,-705 358,-711 358,-711 358,-770 358,-770 358,-776 352,-782 346,-782\"/>\n<text text-anchor=\"start\" x=\"230.5\" y=\"-766.8\" font-family=\"Helvetica,sans-Serif\" font-size=\"14.00\">gravidez ≤ 1.5</text>\n<text text-anchor=\"start\" x=\"237.5\" y=\"-751.8\" font-family=\"Helvetica,sans-Serif\" font-size=\"14.00\">gini = 0.444</text>\n<text text-anchor=\"start\" x=\"235.5\" y=\"-736.8\" font-family=\"Helvetica,sans-Serif\" font-size=\"14.00\">samples = 3</text>\n<text text-anchor=\"start\" x=\"233.5\" y=\"-721.8\" font-family=\"Helvetica,sans-Serif\" font-size=\"14.00\">value = [2, 1]</text>\n<text text-anchor=\"start\" x=\"196\" y=\"-706.8\" font-family=\"Helvetica,sans-Serif\" font-size=\"14.00\">class = NÃO DIABETICO</text>\n</g>\n<!-- 5&#45;&gt;7 -->\n<g id=\"edge7\" class=\"edge\">\n<title>5&#45;&gt;7</title>\n<path fill=\"none\" stroke=\"black\" d=\"M272.35,-817.91C272.42,-809.65 272.49,-800.86 272.57,-792.3\"/>\n<polygon fill=\"black\" stroke=\"black\" points=\"276.07,-792.05 272.65,-782.02 269.07,-791.99 276.07,-792.05\"/>\n</g>\n<!-- 8 -->\n<g id=\"node9\" class=\"node\">\n<title>8</title>\n<path fill=\"#e58139\" stroke=\"black\" d=\"M174,-655.5C174,-655.5 28,-655.5 28,-655.5 22,-655.5 16,-649.5 16,-643.5 16,-643.5 16,-599.5 16,-599.5 16,-593.5 22,-587.5 28,-587.5 28,-587.5 174,-587.5 174,-587.5 180,-587.5 186,-593.5 186,-599.5 186,-599.5 186,-643.5 186,-643.5 186,-649.5 180,-655.5 174,-655.5\"/>\n<text text-anchor=\"start\" x=\"73\" y=\"-640.3\" font-family=\"Helvetica,sans-Serif\" font-size=\"14.00\">gini = 0.0</text>\n<text text-anchor=\"start\" x=\"63.5\" y=\"-625.3\" font-family=\"Helvetica,sans-Serif\" font-size=\"14.00\">samples = 2</text>\n<text text-anchor=\"start\" x=\"61.5\" y=\"-610.3\" font-family=\"Helvetica,sans-Serif\" font-size=\"14.00\">value = [2, 0]</text>\n<text text-anchor=\"start\" x=\"24\" y=\"-595.3\" font-family=\"Helvetica,sans-Serif\" font-size=\"14.00\">class = NÃO DIABETICO</text>\n</g>\n<!-- 7&#45;&gt;8 -->\n<g id=\"edge8\" class=\"edge\">\n<title>7&#45;&gt;8</title>\n<path fill=\"none\" stroke=\"black\" d=\"M213.33,-698.91C195.48,-686.77 175.96,-673.49 158.28,-661.46\"/>\n<polygon fill=\"black\" stroke=\"black\" points=\"160,-658.4 149.76,-655.67 156.06,-664.19 160,-658.4\"/>\n</g>\n<!-- 9 -->\n<g id=\"node10\" class=\"node\">\n<title>9</title>\n<path fill=\"#399de5\" stroke=\"black\" d=\"M329.5,-655.5C329.5,-655.5 216.5,-655.5 216.5,-655.5 210.5,-655.5 204.5,-649.5 204.5,-643.5 204.5,-643.5 204.5,-599.5 204.5,-599.5 204.5,-593.5 210.5,-587.5 216.5,-587.5 216.5,-587.5 329.5,-587.5 329.5,-587.5 335.5,-587.5 341.5,-593.5 341.5,-599.5 341.5,-599.5 341.5,-643.5 341.5,-643.5 341.5,-649.5 335.5,-655.5 329.5,-655.5\"/>\n<text text-anchor=\"start\" x=\"245\" y=\"-640.3\" font-family=\"Helvetica,sans-Serif\" font-size=\"14.00\">gini = 0.0</text>\n<text text-anchor=\"start\" x=\"235.5\" y=\"-625.3\" font-family=\"Helvetica,sans-Serif\" font-size=\"14.00\">samples = 1</text>\n<text text-anchor=\"start\" x=\"233.5\" y=\"-610.3\" font-family=\"Helvetica,sans-Serif\" font-size=\"14.00\">value = [0, 1]</text>\n<text text-anchor=\"start\" x=\"212.5\" y=\"-595.3\" font-family=\"Helvetica,sans-Serif\" font-size=\"14.00\">class = DIABETICO</text>\n</g>\n<!-- 7&#45;&gt;9 -->\n<g id=\"edge9\" class=\"edge\">\n<title>7&#45;&gt;9</title>\n<path fill=\"none\" stroke=\"black\" d=\"M273,-698.91C273,-688.2 273,-676.62 273,-665.78\"/>\n<polygon fill=\"black\" stroke=\"black\" points=\"276.5,-665.67 273,-655.67 269.5,-665.67 276.5,-665.67\"/>\n</g>\n<!-- 11 -->\n<g id=\"node12\" class=\"node\">\n<title>11</title>\n<path fill=\"#7bbeee\" stroke=\"black\" d=\"M508.5,-782C508.5,-782 395.5,-782 395.5,-782 389.5,-782 383.5,-776 383.5,-770 383.5,-770 383.5,-711 383.5,-711 383.5,-705 389.5,-699 395.5,-699 395.5,-699 508.5,-699 508.5,-699 514.5,-699 520.5,-705 520.5,-711 520.5,-711 520.5,-770 520.5,-770 520.5,-776 514.5,-782 508.5,-782\"/>\n<text text-anchor=\"start\" x=\"418.5\" y=\"-766.8\" font-family=\"Helvetica,sans-Serif\" font-size=\"14.00\">IMC ≤ 28.5</text>\n<text text-anchor=\"start\" x=\"416.5\" y=\"-751.8\" font-family=\"Helvetica,sans-Serif\" font-size=\"14.00\">gini = 0.375</text>\n<text text-anchor=\"start\" x=\"414.5\" y=\"-736.8\" font-family=\"Helvetica,sans-Serif\" font-size=\"14.00\">samples = 4</text>\n<text text-anchor=\"start\" x=\"412.5\" y=\"-721.8\" font-family=\"Helvetica,sans-Serif\" font-size=\"14.00\">value = [1, 3]</text>\n<text text-anchor=\"start\" x=\"391.5\" y=\"-706.8\" font-family=\"Helvetica,sans-Serif\" font-size=\"14.00\">class = DIABETICO</text>\n</g>\n<!-- 10&#45;&gt;11 -->\n<g id=\"edge11\" class=\"edge\">\n<title>10&#45;&gt;11</title>\n<path fill=\"none\" stroke=\"black\" d=\"M457.22,-817.91C456.65,-809.56 456.05,-800.67 455.45,-792.02\"/>\n<polygon fill=\"black\" stroke=\"black\" points=\"458.94,-791.76 454.77,-782.02 451.96,-792.24 458.94,-791.76\"/>\n</g>\n<!-- 14 -->\n<g id=\"node15\" class=\"node\">\n<title>14</title>\n<path fill=\"#e58139\" stroke=\"black\" d=\"M697,-774.5C697,-774.5 551,-774.5 551,-774.5 545,-774.5 539,-768.5 539,-762.5 539,-762.5 539,-718.5 539,-718.5 539,-712.5 545,-706.5 551,-706.5 551,-706.5 697,-706.5 697,-706.5 703,-706.5 709,-712.5 709,-718.5 709,-718.5 709,-762.5 709,-762.5 709,-768.5 703,-774.5 697,-774.5\"/>\n<text text-anchor=\"start\" x=\"596\" y=\"-759.3\" font-family=\"Helvetica,sans-Serif\" font-size=\"14.00\">gini = 0.0</text>\n<text text-anchor=\"start\" x=\"583\" y=\"-744.3\" font-family=\"Helvetica,sans-Serif\" font-size=\"14.00\">samples = 15</text>\n<text text-anchor=\"start\" x=\"581\" y=\"-729.3\" font-family=\"Helvetica,sans-Serif\" font-size=\"14.00\">value = [15, 0]</text>\n<text text-anchor=\"start\" x=\"547\" y=\"-714.3\" font-family=\"Helvetica,sans-Serif\" font-size=\"14.00\">class = NÃO DIABETICO</text>\n</g>\n<!-- 10&#45;&gt;14 -->\n<g id=\"edge14\" class=\"edge\">\n<title>10&#45;&gt;14</title>\n<path fill=\"none\" stroke=\"black\" d=\"M516.9,-817.91C533.76,-805.88 552.18,-792.73 568.93,-780.79\"/>\n<polygon fill=\"black\" stroke=\"black\" points=\"571.4,-783.32 577.51,-774.67 567.34,-777.63 571.4,-783.32\"/>\n</g>\n<!-- 12 -->\n<g id=\"node13\" class=\"node\">\n<title>12</title>\n<path fill=\"#e58139\" stroke=\"black\" d=\"M518,-655.5C518,-655.5 372,-655.5 372,-655.5 366,-655.5 360,-649.5 360,-643.5 360,-643.5 360,-599.5 360,-599.5 360,-593.5 366,-587.5 372,-587.5 372,-587.5 518,-587.5 518,-587.5 524,-587.5 530,-593.5 530,-599.5 530,-599.5 530,-643.5 530,-643.5 530,-649.5 524,-655.5 518,-655.5\"/>\n<text text-anchor=\"start\" x=\"417\" y=\"-640.3\" font-family=\"Helvetica,sans-Serif\" font-size=\"14.00\">gini = 0.0</text>\n<text text-anchor=\"start\" x=\"407.5\" y=\"-625.3\" font-family=\"Helvetica,sans-Serif\" font-size=\"14.00\">samples = 1</text>\n<text text-anchor=\"start\" x=\"405.5\" y=\"-610.3\" font-family=\"Helvetica,sans-Serif\" font-size=\"14.00\">value = [1, 0]</text>\n<text text-anchor=\"start\" x=\"368\" y=\"-595.3\" font-family=\"Helvetica,sans-Serif\" font-size=\"14.00\">class = NÃO DIABETICO</text>\n</g>\n<!-- 11&#45;&gt;12 -->\n<g id=\"edge12\" class=\"edge\">\n<title>11&#45;&gt;12</title>\n<path fill=\"none\" stroke=\"black\" d=\"M449.57,-698.91C448.93,-688.2 448.24,-676.62 447.59,-665.78\"/>\n<polygon fill=\"black\" stroke=\"black\" points=\"451.08,-665.44 446.98,-655.67 444.09,-665.86 451.08,-665.44\"/>\n</g>\n<!-- 13 -->\n<g id=\"node14\" class=\"node\">\n<title>13</title>\n<path fill=\"#399de5\" stroke=\"black\" d=\"M673.5,-655.5C673.5,-655.5 560.5,-655.5 560.5,-655.5 554.5,-655.5 548.5,-649.5 548.5,-643.5 548.5,-643.5 548.5,-599.5 548.5,-599.5 548.5,-593.5 554.5,-587.5 560.5,-587.5 560.5,-587.5 673.5,-587.5 673.5,-587.5 679.5,-587.5 685.5,-593.5 685.5,-599.5 685.5,-599.5 685.5,-643.5 685.5,-643.5 685.5,-649.5 679.5,-655.5 673.5,-655.5\"/>\n<text text-anchor=\"start\" x=\"589\" y=\"-640.3\" font-family=\"Helvetica,sans-Serif\" font-size=\"14.00\">gini = 0.0</text>\n<text text-anchor=\"start\" x=\"579.5\" y=\"-625.3\" font-family=\"Helvetica,sans-Serif\" font-size=\"14.00\">samples = 3</text>\n<text text-anchor=\"start\" x=\"577.5\" y=\"-610.3\" font-family=\"Helvetica,sans-Serif\" font-size=\"14.00\">value = [0, 3]</text>\n<text text-anchor=\"start\" x=\"556.5\" y=\"-595.3\" font-family=\"Helvetica,sans-Serif\" font-size=\"14.00\">class = DIABETICO</text>\n</g>\n<!-- 11&#45;&gt;13 -->\n<g id=\"edge13\" class=\"edge\">\n<title>11&#45;&gt;13</title>\n<path fill=\"none\" stroke=\"black\" d=\"M509.25,-698.91C526.36,-686.77 545.09,-673.49 562.05,-661.46\"/>\n<polygon fill=\"black\" stroke=\"black\" points=\"564.09,-664.31 570.23,-655.67 560.04,-658.6 564.09,-664.31\"/>\n</g>\n<!-- 16 -->\n<g id=\"node17\" class=\"node\">\n<title>16</title>\n<path fill=\"#399de5\" stroke=\"black\" d=\"M709.5,-893.5C709.5,-893.5 596.5,-893.5 596.5,-893.5 590.5,-893.5 584.5,-887.5 584.5,-881.5 584.5,-881.5 584.5,-837.5 584.5,-837.5 584.5,-831.5 590.5,-825.5 596.5,-825.5 596.5,-825.5 709.5,-825.5 709.5,-825.5 715.5,-825.5 721.5,-831.5 721.5,-837.5 721.5,-837.5 721.5,-881.5 721.5,-881.5 721.5,-887.5 715.5,-893.5 709.5,-893.5\"/>\n<text text-anchor=\"start\" x=\"625\" y=\"-878.3\" font-family=\"Helvetica,sans-Serif\" font-size=\"14.00\">gini = 0.0</text>\n<text text-anchor=\"start\" x=\"615.5\" y=\"-863.3\" font-family=\"Helvetica,sans-Serif\" font-size=\"14.00\">samples = 2</text>\n<text text-anchor=\"start\" x=\"613.5\" y=\"-848.3\" font-family=\"Helvetica,sans-Serif\" font-size=\"14.00\">value = [0, 2]</text>\n<text text-anchor=\"start\" x=\"592.5\" y=\"-833.3\" font-family=\"Helvetica,sans-Serif\" font-size=\"14.00\">class = DIABETICO</text>\n</g>\n<!-- 15&#45;&gt;16 -->\n<g id=\"edge16\" class=\"edge\">\n<title>15&#45;&gt;16</title>\n<path fill=\"none\" stroke=\"black\" d=\"M661.49,-936.91C660.3,-926.2 659.01,-914.62 657.81,-903.78\"/>\n<polygon fill=\"black\" stroke=\"black\" points=\"661.27,-903.22 656.69,-893.67 654.31,-903.99 661.27,-903.22\"/>\n</g>\n<!-- 17 -->\n<g id=\"node18\" class=\"node\">\n<title>17</title>\n<path fill=\"#ea9a61\" stroke=\"black\" d=\"M898,-901C898,-901 752,-901 752,-901 746,-901 740,-895 740,-889 740,-889 740,-830 740,-830 740,-824 746,-818 752,-818 752,-818 898,-818 898,-818 904,-818 910,-824 910,-830 910,-830 910,-889 910,-889 910,-895 904,-901 898,-901\"/>\n<text text-anchor=\"start\" x=\"782.5\" y=\"-885.8\" font-family=\"Helvetica,sans-Serif\" font-size=\"14.00\">gravidez ≤ 3.5</text>\n<text text-anchor=\"start\" x=\"789.5\" y=\"-870.8\" font-family=\"Helvetica,sans-Serif\" font-size=\"14.00\">gini = 0.278</text>\n<text text-anchor=\"start\" x=\"784\" y=\"-855.8\" font-family=\"Helvetica,sans-Serif\" font-size=\"14.00\">samples = 12</text>\n<text text-anchor=\"start\" x=\"782\" y=\"-840.8\" font-family=\"Helvetica,sans-Serif\" font-size=\"14.00\">value = [10, 2]</text>\n<text text-anchor=\"start\" x=\"748\" y=\"-825.8\" font-family=\"Helvetica,sans-Serif\" font-size=\"14.00\">class = NÃO DIABETICO</text>\n</g>\n<!-- 15&#45;&gt;17 -->\n<g id=\"edge17\" class=\"edge\">\n<title>15&#45;&gt;17</title>\n<path fill=\"none\" stroke=\"black\" d=\"M721.16,-936.91C734.24,-927.29 748.28,-916.95 761.68,-907.09\"/>\n<polygon fill=\"black\" stroke=\"black\" points=\"763.95,-909.77 769.93,-901.02 759.8,-904.13 763.95,-909.77\"/>\n</g>\n<!-- 18 -->\n<g id=\"node19\" class=\"node\">\n<title>18</title>\n<path fill=\"#e88e4d\" stroke=\"black\" d=\"M892,-782C892,-782 746,-782 746,-782 740,-782 734,-776 734,-770 734,-770 734,-711 734,-711 734,-705 740,-699 746,-699 746,-699 892,-699 892,-699 898,-699 904,-705 904,-711 904,-711 904,-770 904,-770 904,-776 898,-782 892,-782\"/>\n<text text-anchor=\"start\" x=\"781.5\" y=\"-766.8\" font-family=\"Helvetica,sans-Serif\" font-size=\"14.00\">idade ≤ 27.5</text>\n<text text-anchor=\"start\" x=\"783.5\" y=\"-751.8\" font-family=\"Helvetica,sans-Serif\" font-size=\"14.00\">gini = 0.165</text>\n<text text-anchor=\"start\" x=\"778\" y=\"-736.8\" font-family=\"Helvetica,sans-Serif\" font-size=\"14.00\">samples = 11</text>\n<text text-anchor=\"start\" x=\"776\" y=\"-721.8\" font-family=\"Helvetica,sans-Serif\" font-size=\"14.00\">value = [10, 1]</text>\n<text text-anchor=\"start\" x=\"742\" y=\"-706.8\" font-family=\"Helvetica,sans-Serif\" font-size=\"14.00\">class = NÃO DIABETICO</text>\n</g>\n<!-- 17&#45;&gt;18 -->\n<g id=\"edge18\" class=\"edge\">\n<title>17&#45;&gt;18</title>\n<path fill=\"none\" stroke=\"black\" d=\"M822.92,-817.91C822.49,-809.56 822.03,-800.67 821.59,-792.02\"/>\n<polygon fill=\"black\" stroke=\"black\" points=\"825.09,-791.83 821.08,-782.02 818.09,-792.19 825.09,-791.83\"/>\n</g>\n<!-- 23 -->\n<g id=\"node24\" class=\"node\">\n<title>23</title>\n<path fill=\"#399de5\" stroke=\"black\" d=\"M1047.5,-774.5C1047.5,-774.5 934.5,-774.5 934.5,-774.5 928.5,-774.5 922.5,-768.5 922.5,-762.5 922.5,-762.5 922.5,-718.5 922.5,-718.5 922.5,-712.5 928.5,-706.5 934.5,-706.5 934.5,-706.5 1047.5,-706.5 1047.5,-706.5 1053.5,-706.5 1059.5,-712.5 1059.5,-718.5 1059.5,-718.5 1059.5,-762.5 1059.5,-762.5 1059.5,-768.5 1053.5,-774.5 1047.5,-774.5\"/>\n<text text-anchor=\"start\" x=\"963\" y=\"-759.3\" font-family=\"Helvetica,sans-Serif\" font-size=\"14.00\">gini = 0.0</text>\n<text text-anchor=\"start\" x=\"953.5\" y=\"-744.3\" font-family=\"Helvetica,sans-Serif\" font-size=\"14.00\">samples = 1</text>\n<text text-anchor=\"start\" x=\"951.5\" y=\"-729.3\" font-family=\"Helvetica,sans-Serif\" font-size=\"14.00\">value = [0, 1]</text>\n<text text-anchor=\"start\" x=\"930.5\" y=\"-714.3\" font-family=\"Helvetica,sans-Serif\" font-size=\"14.00\">class = DIABETICO</text>\n</g>\n<!-- 17&#45;&gt;23 -->\n<g id=\"edge23\" class=\"edge\">\n<title>17&#45;&gt;23</title>\n<path fill=\"none\" stroke=\"black\" d=\"M882.59,-817.91C899.81,-805.77 918.65,-792.49 935.72,-780.46\"/>\n<polygon fill=\"black\" stroke=\"black\" points=\"937.79,-783.29 943.94,-774.67 933.75,-777.57 937.79,-783.29\"/>\n</g>\n<!-- 19 -->\n<g id=\"node20\" class=\"node\">\n<title>19</title>\n<path fill=\"#e58139\" stroke=\"black\" d=\"M864,-655.5C864,-655.5 718,-655.5 718,-655.5 712,-655.5 706,-649.5 706,-643.5 706,-643.5 706,-599.5 706,-599.5 706,-593.5 712,-587.5 718,-587.5 718,-587.5 864,-587.5 864,-587.5 870,-587.5 876,-593.5 876,-599.5 876,-599.5 876,-643.5 876,-643.5 876,-649.5 870,-655.5 864,-655.5\"/>\n<text text-anchor=\"start\" x=\"763\" y=\"-640.3\" font-family=\"Helvetica,sans-Serif\" font-size=\"14.00\">gini = 0.0</text>\n<text text-anchor=\"start\" x=\"753.5\" y=\"-625.3\" font-family=\"Helvetica,sans-Serif\" font-size=\"14.00\">samples = 9</text>\n<text text-anchor=\"start\" x=\"751.5\" y=\"-610.3\" font-family=\"Helvetica,sans-Serif\" font-size=\"14.00\">value = [9, 0]</text>\n<text text-anchor=\"start\" x=\"714\" y=\"-595.3\" font-family=\"Helvetica,sans-Serif\" font-size=\"14.00\">class = NÃO DIABETICO</text>\n</g>\n<!-- 18&#45;&gt;19 -->\n<g id=\"edge19\" class=\"edge\">\n<title>18&#45;&gt;19</title>\n<path fill=\"none\" stroke=\"black\" d=\"M809.29,-698.91C806.7,-688.09 803.89,-676.38 801.28,-665.44\"/>\n<polygon fill=\"black\" stroke=\"black\" points=\"804.67,-664.58 798.94,-655.67 797.86,-666.21 804.67,-664.58\"/>\n</g>\n<!-- 20 -->\n<g id=\"node21\" class=\"node\">\n<title>20</title>\n<path fill=\"#ffffff\" stroke=\"black\" d=\"M1052,-663C1052,-663 906,-663 906,-663 900,-663 894,-657 894,-651 894,-651 894,-592 894,-592 894,-586 900,-580 906,-580 906,-580 1052,-580 1052,-580 1058,-580 1064,-586 1064,-592 1064,-592 1064,-651 1064,-651 1064,-657 1058,-663 1052,-663\"/>\n<text text-anchor=\"start\" x=\"937\" y=\"-647.8\" font-family=\"Helvetica,sans-Serif\" font-size=\"14.00\">glicose ≤ 96.0</text>\n<text text-anchor=\"start\" x=\"951\" y=\"-632.8\" font-family=\"Helvetica,sans-Serif\" font-size=\"14.00\">gini = 0.5</text>\n<text text-anchor=\"start\" x=\"941.5\" y=\"-617.8\" font-family=\"Helvetica,sans-Serif\" font-size=\"14.00\">samples = 2</text>\n<text text-anchor=\"start\" x=\"939.5\" y=\"-602.8\" font-family=\"Helvetica,sans-Serif\" font-size=\"14.00\">value = [1, 1]</text>\n<text text-anchor=\"start\" x=\"902\" y=\"-587.8\" font-family=\"Helvetica,sans-Serif\" font-size=\"14.00\">class = NÃO DIABETICO</text>\n</g>\n<!-- 18&#45;&gt;20 -->\n<g id=\"edge20\" class=\"edge\">\n<title>18&#45;&gt;20</title>\n<path fill=\"none\" stroke=\"black\" d=\"M874.51,-698.91C887.67,-689.29 901.8,-678.95 915.29,-669.09\"/>\n<polygon fill=\"black\" stroke=\"black\" points=\"917.58,-671.75 923.59,-663.02 913.45,-666.1 917.58,-671.75\"/>\n</g>\n<!-- 21 -->\n<g id=\"node22\" class=\"node\">\n<title>21</title>\n<path fill=\"#e58139\" stroke=\"black\" d=\"M880,-536.5C880,-536.5 734,-536.5 734,-536.5 728,-536.5 722,-530.5 722,-524.5 722,-524.5 722,-480.5 722,-480.5 722,-474.5 728,-468.5 734,-468.5 734,-468.5 880,-468.5 880,-468.5 886,-468.5 892,-474.5 892,-480.5 892,-480.5 892,-524.5 892,-524.5 892,-530.5 886,-536.5 880,-536.5\"/>\n<text text-anchor=\"start\" x=\"779\" y=\"-521.3\" font-family=\"Helvetica,sans-Serif\" font-size=\"14.00\">gini = 0.0</text>\n<text text-anchor=\"start\" x=\"769.5\" y=\"-506.3\" font-family=\"Helvetica,sans-Serif\" font-size=\"14.00\">samples = 1</text>\n<text text-anchor=\"start\" x=\"767.5\" y=\"-491.3\" font-family=\"Helvetica,sans-Serif\" font-size=\"14.00\">value = [1, 0]</text>\n<text text-anchor=\"start\" x=\"730\" y=\"-476.3\" font-family=\"Helvetica,sans-Serif\" font-size=\"14.00\">class = NÃO DIABETICO</text>\n</g>\n<!-- 20&#45;&gt;21 -->\n<g id=\"edge21\" class=\"edge\">\n<title>20&#45;&gt;21</title>\n<path fill=\"none\" stroke=\"black\" d=\"M919.33,-579.91C901.48,-567.77 881.96,-554.49 864.28,-542.46\"/>\n<polygon fill=\"black\" stroke=\"black\" points=\"866,-539.4 855.76,-536.67 862.06,-545.19 866,-539.4\"/>\n</g>\n<!-- 22 -->\n<g id=\"node23\" class=\"node\">\n<title>22</title>\n<path fill=\"#399de5\" stroke=\"black\" d=\"M1035.5,-536.5C1035.5,-536.5 922.5,-536.5 922.5,-536.5 916.5,-536.5 910.5,-530.5 910.5,-524.5 910.5,-524.5 910.5,-480.5 910.5,-480.5 910.5,-474.5 916.5,-468.5 922.5,-468.5 922.5,-468.5 1035.5,-468.5 1035.5,-468.5 1041.5,-468.5 1047.5,-474.5 1047.5,-480.5 1047.5,-480.5 1047.5,-524.5 1047.5,-524.5 1047.5,-530.5 1041.5,-536.5 1035.5,-536.5\"/>\n<text text-anchor=\"start\" x=\"951\" y=\"-521.3\" font-family=\"Helvetica,sans-Serif\" font-size=\"14.00\">gini = 0.0</text>\n<text text-anchor=\"start\" x=\"941.5\" y=\"-506.3\" font-family=\"Helvetica,sans-Serif\" font-size=\"14.00\">samples = 1</text>\n<text text-anchor=\"start\" x=\"939.5\" y=\"-491.3\" font-family=\"Helvetica,sans-Serif\" font-size=\"14.00\">value = [0, 1]</text>\n<text text-anchor=\"start\" x=\"918.5\" y=\"-476.3\" font-family=\"Helvetica,sans-Serif\" font-size=\"14.00\">class = DIABETICO</text>\n</g>\n<!-- 20&#45;&gt;22 -->\n<g id=\"edge22\" class=\"edge\">\n<title>20&#45;&gt;22</title>\n<path fill=\"none\" stroke=\"black\" d=\"M979,-579.91C979,-569.2 979,-557.62 979,-546.78\"/>\n<polygon fill=\"black\" stroke=\"black\" points=\"982.5,-546.67 979,-536.67 975.5,-546.67 982.5,-546.67\"/>\n</g>\n<!-- 25 -->\n<g id=\"node26\" class=\"node\">\n<title>25</title>\n<path fill=\"#399de5\" stroke=\"black\" d=\"M912.5,-1012.5C912.5,-1012.5 799.5,-1012.5 799.5,-1012.5 793.5,-1012.5 787.5,-1006.5 787.5,-1000.5 787.5,-1000.5 787.5,-956.5 787.5,-956.5 787.5,-950.5 793.5,-944.5 799.5,-944.5 799.5,-944.5 912.5,-944.5 912.5,-944.5 918.5,-944.5 924.5,-950.5 924.5,-956.5 924.5,-956.5 924.5,-1000.5 924.5,-1000.5 924.5,-1006.5 918.5,-1012.5 912.5,-1012.5\"/>\n<text text-anchor=\"start\" x=\"828\" y=\"-997.3\" font-family=\"Helvetica,sans-Serif\" font-size=\"14.00\">gini = 0.0</text>\n<text text-anchor=\"start\" x=\"818.5\" y=\"-982.3\" font-family=\"Helvetica,sans-Serif\" font-size=\"14.00\">samples = 3</text>\n<text text-anchor=\"start\" x=\"816.5\" y=\"-967.3\" font-family=\"Helvetica,sans-Serif\" font-size=\"14.00\">value = [0, 3]</text>\n<text text-anchor=\"start\" x=\"795.5\" y=\"-952.3\" font-family=\"Helvetica,sans-Serif\" font-size=\"14.00\">class = DIABETICO</text>\n</g>\n<!-- 24&#45;&gt;25 -->\n<g id=\"edge25\" class=\"edge\">\n<title>24&#45;&gt;25</title>\n<path fill=\"none\" stroke=\"black\" d=\"M912.16,-1055.91C903.81,-1044.54 894.72,-1032.18 886.34,-1020.77\"/>\n<polygon fill=\"black\" stroke=\"black\" points=\"889.12,-1018.65 880.38,-1012.67 883.48,-1022.8 889.12,-1018.65\"/>\n</g>\n<!-- 26 -->\n<g id=\"node27\" class=\"node\">\n<title>26</title>\n<path fill=\"#e58139\" stroke=\"black\" d=\"M1101,-1012.5C1101,-1012.5 955,-1012.5 955,-1012.5 949,-1012.5 943,-1006.5 943,-1000.5 943,-1000.5 943,-956.5 943,-956.5 943,-950.5 949,-944.5 955,-944.5 955,-944.5 1101,-944.5 1101,-944.5 1107,-944.5 1113,-950.5 1113,-956.5 1113,-956.5 1113,-1000.5 1113,-1000.5 1113,-1006.5 1107,-1012.5 1101,-1012.5\"/>\n<text text-anchor=\"start\" x=\"1000\" y=\"-997.3\" font-family=\"Helvetica,sans-Serif\" font-size=\"14.00\">gini = 0.0</text>\n<text text-anchor=\"start\" x=\"990.5\" y=\"-982.3\" font-family=\"Helvetica,sans-Serif\" font-size=\"14.00\">samples = 1</text>\n<text text-anchor=\"start\" x=\"988.5\" y=\"-967.3\" font-family=\"Helvetica,sans-Serif\" font-size=\"14.00\">value = [1, 0]</text>\n<text text-anchor=\"start\" x=\"951\" y=\"-952.3\" font-family=\"Helvetica,sans-Serif\" font-size=\"14.00\">class = NÃO DIABETICO</text>\n</g>\n<!-- 24&#45;&gt;26 -->\n<g id=\"edge26\" class=\"edge\">\n<title>24&#45;&gt;26</title>\n<path fill=\"none\" stroke=\"black\" d=\"M971.84,-1055.91C980.19,-1044.54 989.28,-1032.18 997.66,-1020.77\"/>\n<polygon fill=\"black\" stroke=\"black\" points=\"1000.52,-1022.8 1003.62,-1012.67 994.88,-1018.65 1000.52,-1022.8\"/>\n</g>\n<!-- 28 -->\n<g id=\"node29\" class=\"node\">\n<title>28</title>\n<path fill=\"#e68843\" stroke=\"black\" d=\"M1445,-1139C1445,-1139 1299,-1139 1299,-1139 1293,-1139 1287,-1133 1287,-1127 1287,-1127 1287,-1068 1287,-1068 1287,-1062 1293,-1056 1299,-1056 1299,-1056 1445,-1056 1445,-1056 1451,-1056 1457,-1062 1457,-1068 1457,-1068 1457,-1127 1457,-1127 1457,-1133 1451,-1139 1445,-1139\"/>\n<text text-anchor=\"start\" x=\"1338.5\" y=\"-1123.8\" font-family=\"Helvetica,sans-Serif\" font-size=\"14.00\">IMC ≤ 9.65</text>\n<text text-anchor=\"start\" x=\"1336.5\" y=\"-1108.8\" font-family=\"Helvetica,sans-Serif\" font-size=\"14.00\">gini = 0.095</text>\n<text text-anchor=\"start\" x=\"1331\" y=\"-1093.8\" font-family=\"Helvetica,sans-Serif\" font-size=\"14.00\">samples = 20</text>\n<text text-anchor=\"start\" x=\"1329\" y=\"-1078.8\" font-family=\"Helvetica,sans-Serif\" font-size=\"14.00\">value = [19, 1]</text>\n<text text-anchor=\"start\" x=\"1295\" y=\"-1063.8\" font-family=\"Helvetica,sans-Serif\" font-size=\"14.00\">class = NÃO DIABETICO</text>\n</g>\n<!-- 27&#45;&gt;28 -->\n<g id=\"edge28\" class=\"edge\">\n<title>27&#45;&gt;28</title>\n<path fill=\"none\" stroke=\"black\" d=\"M1437.96,-1174.91C1430.12,-1165.83 1421.74,-1156.12 1413.67,-1146.77\"/>\n<polygon fill=\"black\" stroke=\"black\" points=\"1416.16,-1144.3 1406.98,-1139.02 1410.86,-1148.88 1416.16,-1144.3\"/>\n</g>\n<!-- 31 -->\n<g id=\"node32\" class=\"node\">\n<title>31</title>\n<path fill=\"#dfeffb\" stroke=\"black\" d=\"M1631.5,-1139C1631.5,-1139 1518.5,-1139 1518.5,-1139 1512.5,-1139 1506.5,-1133 1506.5,-1127 1506.5,-1127 1506.5,-1068 1506.5,-1068 1506.5,-1062 1512.5,-1056 1518.5,-1056 1518.5,-1056 1631.5,-1056 1631.5,-1056 1637.5,-1056 1643.5,-1062 1643.5,-1068 1643.5,-1068 1643.5,-1127 1643.5,-1127 1643.5,-1133 1637.5,-1139 1631.5,-1139\"/>\n<text text-anchor=\"start\" x=\"1533\" y=\"-1123.8\" font-family=\"Helvetica,sans-Serif\" font-size=\"14.00\">glicose ≤ 91.0</text>\n<text text-anchor=\"start\" x=\"1539.5\" y=\"-1108.8\" font-family=\"Helvetica,sans-Serif\" font-size=\"14.00\">gini = 0.496</text>\n<text text-anchor=\"start\" x=\"1534\" y=\"-1093.8\" font-family=\"Helvetica,sans-Serif\" font-size=\"14.00\">samples = 90</text>\n<text text-anchor=\"start\" x=\"1528\" y=\"-1078.8\" font-family=\"Helvetica,sans-Serif\" font-size=\"14.00\">value = [41, 49]</text>\n<text text-anchor=\"start\" x=\"1514.5\" y=\"-1063.8\" font-family=\"Helvetica,sans-Serif\" font-size=\"14.00\">class = DIABETICO</text>\n</g>\n<!-- 27&#45;&gt;31 -->\n<g id=\"edge31\" class=\"edge\">\n<title>27&#45;&gt;31</title>\n<path fill=\"none\" stroke=\"black\" d=\"M1508.39,-1174.91C1516.3,-1165.83 1524.77,-1156.12 1532.92,-1146.77\"/>\n<polygon fill=\"black\" stroke=\"black\" points=\"1535.74,-1148.86 1539.67,-1139.02 1530.46,-1144.26 1535.74,-1148.86\"/>\n</g>\n<!-- 29 -->\n<g id=\"node30\" class=\"node\">\n<title>29</title>\n<path fill=\"#399de5\" stroke=\"black\" d=\"M1256.5,-1012.5C1256.5,-1012.5 1143.5,-1012.5 1143.5,-1012.5 1137.5,-1012.5 1131.5,-1006.5 1131.5,-1000.5 1131.5,-1000.5 1131.5,-956.5 1131.5,-956.5 1131.5,-950.5 1137.5,-944.5 1143.5,-944.5 1143.5,-944.5 1256.5,-944.5 1256.5,-944.5 1262.5,-944.5 1268.5,-950.5 1268.5,-956.5 1268.5,-956.5 1268.5,-1000.5 1268.5,-1000.5 1268.5,-1006.5 1262.5,-1012.5 1256.5,-1012.5\"/>\n<text text-anchor=\"start\" x=\"1172\" y=\"-997.3\" font-family=\"Helvetica,sans-Serif\" font-size=\"14.00\">gini = 0.0</text>\n<text text-anchor=\"start\" x=\"1162.5\" y=\"-982.3\" font-family=\"Helvetica,sans-Serif\" font-size=\"14.00\">samples = 1</text>\n<text text-anchor=\"start\" x=\"1160.5\" y=\"-967.3\" font-family=\"Helvetica,sans-Serif\" font-size=\"14.00\">value = [0, 1]</text>\n<text text-anchor=\"start\" x=\"1139.5\" y=\"-952.3\" font-family=\"Helvetica,sans-Serif\" font-size=\"14.00\">class = DIABETICO</text>\n</g>\n<!-- 28&#45;&gt;29 -->\n<g id=\"edge29\" class=\"edge\">\n<title>28&#45;&gt;29</title>\n<path fill=\"none\" stroke=\"black\" d=\"M1312.33,-1055.91C1294.48,-1043.77 1274.96,-1030.49 1257.28,-1018.46\"/>\n<polygon fill=\"black\" stroke=\"black\" points=\"1259,-1015.4 1248.76,-1012.67 1255.06,-1021.19 1259,-1015.4\"/>\n</g>\n<!-- 30 -->\n<g id=\"node31\" class=\"node\">\n<title>30</title>\n<path fill=\"#e58139\" stroke=\"black\" d=\"M1445,-1012.5C1445,-1012.5 1299,-1012.5 1299,-1012.5 1293,-1012.5 1287,-1006.5 1287,-1000.5 1287,-1000.5 1287,-956.5 1287,-956.5 1287,-950.5 1293,-944.5 1299,-944.5 1299,-944.5 1445,-944.5 1445,-944.5 1451,-944.5 1457,-950.5 1457,-956.5 1457,-956.5 1457,-1000.5 1457,-1000.5 1457,-1006.5 1451,-1012.5 1445,-1012.5\"/>\n<text text-anchor=\"start\" x=\"1344\" y=\"-997.3\" font-family=\"Helvetica,sans-Serif\" font-size=\"14.00\">gini = 0.0</text>\n<text text-anchor=\"start\" x=\"1331\" y=\"-982.3\" font-family=\"Helvetica,sans-Serif\" font-size=\"14.00\">samples = 19</text>\n<text text-anchor=\"start\" x=\"1329\" y=\"-967.3\" font-family=\"Helvetica,sans-Serif\" font-size=\"14.00\">value = [19, 0]</text>\n<text text-anchor=\"start\" x=\"1295\" y=\"-952.3\" font-family=\"Helvetica,sans-Serif\" font-size=\"14.00\">class = NÃO DIABETICO</text>\n</g>\n<!-- 28&#45;&gt;30 -->\n<g id=\"edge30\" class=\"edge\">\n<title>28&#45;&gt;30</title>\n<path fill=\"none\" stroke=\"black\" d=\"M1372,-1055.91C1372,-1045.2 1372,-1033.62 1372,-1022.78\"/>\n<polygon fill=\"black\" stroke=\"black\" points=\"1375.5,-1022.67 1372,-1012.67 1368.5,-1022.67 1375.5,-1022.67\"/>\n</g>\n<!-- 32 -->\n<g id=\"node33\" class=\"node\">\n<title>32</title>\n<path fill=\"#e78b48\" stroke=\"black\" d=\"M1663,-1020C1663,-1020 1487,-1020 1487,-1020 1481,-1020 1475,-1014 1475,-1008 1475,-1008 1475,-949 1475,-949 1475,-943 1481,-937 1487,-937 1487,-937 1663,-937 1663,-937 1669,-937 1675,-943 1675,-949 1675,-949 1675,-1008 1675,-1008 1675,-1014 1669,-1020 1663,-1020\"/>\n<text text-anchor=\"start\" x=\"1483\" y=\"-1004.8\" font-family=\"Helvetica,sans-Serif\" font-size=\"14.00\">predisposicao_diabetes ≤ 1.16</text>\n<text text-anchor=\"start\" x=\"1539.5\" y=\"-989.8\" font-family=\"Helvetica,sans-Serif\" font-size=\"14.00\">gini = 0.133</text>\n<text text-anchor=\"start\" x=\"1534\" y=\"-974.8\" font-family=\"Helvetica,sans-Serif\" font-size=\"14.00\">samples = 14</text>\n<text text-anchor=\"start\" x=\"1532\" y=\"-959.8\" font-family=\"Helvetica,sans-Serif\" font-size=\"14.00\">value = [13, 1]</text>\n<text text-anchor=\"start\" x=\"1498\" y=\"-944.8\" font-family=\"Helvetica,sans-Serif\" font-size=\"14.00\">class = NÃO DIABETICO</text>\n</g>\n<!-- 31&#45;&gt;32 -->\n<g id=\"edge32\" class=\"edge\">\n<title>31&#45;&gt;32</title>\n<path fill=\"none\" stroke=\"black\" d=\"M1575,-1055.91C1575,-1047.65 1575,-1038.86 1575,-1030.3\"/>\n<polygon fill=\"black\" stroke=\"black\" points=\"1578.5,-1030.02 1575,-1020.02 1571.5,-1030.02 1578.5,-1030.02\"/>\n</g>\n<!-- 35 -->\n<g id=\"node36\" class=\"node\">\n<title>35</title>\n<path fill=\"#acd6f4\" stroke=\"black\" d=\"M1818.5,-1020C1818.5,-1020 1705.5,-1020 1705.5,-1020 1699.5,-1020 1693.5,-1014 1693.5,-1008 1693.5,-1008 1693.5,-949 1693.5,-949 1693.5,-943 1699.5,-937 1705.5,-937 1705.5,-937 1818.5,-937 1818.5,-937 1824.5,-937 1830.5,-943 1830.5,-949 1830.5,-949 1830.5,-1008 1830.5,-1008 1830.5,-1014 1824.5,-1020 1818.5,-1020\"/>\n<text text-anchor=\"start\" x=\"1724.5\" y=\"-1004.8\" font-family=\"Helvetica,sans-Serif\" font-size=\"14.00\">idade ≤ 34.5</text>\n<text text-anchor=\"start\" x=\"1726.5\" y=\"-989.8\" font-family=\"Helvetica,sans-Serif\" font-size=\"14.00\">gini = 0.465</text>\n<text text-anchor=\"start\" x=\"1721\" y=\"-974.8\" font-family=\"Helvetica,sans-Serif\" font-size=\"14.00\">samples = 76</text>\n<text text-anchor=\"start\" x=\"1715\" y=\"-959.8\" font-family=\"Helvetica,sans-Serif\" font-size=\"14.00\">value = [28, 48]</text>\n<text text-anchor=\"start\" x=\"1701.5\" y=\"-944.8\" font-family=\"Helvetica,sans-Serif\" font-size=\"14.00\">class = DIABETICO</text>\n</g>\n<!-- 31&#45;&gt;35 -->\n<g id=\"edge35\" class=\"edge\">\n<title>31&#45;&gt;35</title>\n<path fill=\"none\" stroke=\"black\" d=\"M1639.88,-1055.91C1655.54,-1046.11 1672.4,-1035.56 1688.43,-1025.53\"/>\n<polygon fill=\"black\" stroke=\"black\" points=\"1690.61,-1028.29 1697.24,-1020.02 1686.9,-1022.36 1690.61,-1028.29\"/>\n</g>\n<!-- 33 -->\n<g id=\"node34\" class=\"node\">\n<title>33</title>\n<path fill=\"#e58139\" stroke=\"black\" d=\"M1476,-893.5C1476,-893.5 1330,-893.5 1330,-893.5 1324,-893.5 1318,-887.5 1318,-881.5 1318,-881.5 1318,-837.5 1318,-837.5 1318,-831.5 1324,-825.5 1330,-825.5 1330,-825.5 1476,-825.5 1476,-825.5 1482,-825.5 1488,-831.5 1488,-837.5 1488,-837.5 1488,-881.5 1488,-881.5 1488,-887.5 1482,-893.5 1476,-893.5\"/>\n<text text-anchor=\"start\" x=\"1375\" y=\"-878.3\" font-family=\"Helvetica,sans-Serif\" font-size=\"14.00\">gini = 0.0</text>\n<text text-anchor=\"start\" x=\"1362\" y=\"-863.3\" font-family=\"Helvetica,sans-Serif\" font-size=\"14.00\">samples = 13</text>\n<text text-anchor=\"start\" x=\"1360\" y=\"-848.3\" font-family=\"Helvetica,sans-Serif\" font-size=\"14.00\">value = [13, 0]</text>\n<text text-anchor=\"start\" x=\"1326\" y=\"-833.3\" font-family=\"Helvetica,sans-Serif\" font-size=\"14.00\">class = NÃO DIABETICO</text>\n</g>\n<!-- 32&#45;&gt;33 -->\n<g id=\"edge33\" class=\"edge\">\n<title>32&#45;&gt;33</title>\n<path fill=\"none\" stroke=\"black\" d=\"M1515.33,-936.91C1497.48,-924.77 1477.96,-911.49 1460.28,-899.46\"/>\n<polygon fill=\"black\" stroke=\"black\" points=\"1462,-896.4 1451.76,-893.67 1458.06,-902.19 1462,-896.4\"/>\n</g>\n<!-- 34 -->\n<g id=\"node35\" class=\"node\">\n<title>34</title>\n<path fill=\"#399de5\" stroke=\"black\" d=\"M1631.5,-893.5C1631.5,-893.5 1518.5,-893.5 1518.5,-893.5 1512.5,-893.5 1506.5,-887.5 1506.5,-881.5 1506.5,-881.5 1506.5,-837.5 1506.5,-837.5 1506.5,-831.5 1512.5,-825.5 1518.5,-825.5 1518.5,-825.5 1631.5,-825.5 1631.5,-825.5 1637.5,-825.5 1643.5,-831.5 1643.5,-837.5 1643.5,-837.5 1643.5,-881.5 1643.5,-881.5 1643.5,-887.5 1637.5,-893.5 1631.5,-893.5\"/>\n<text text-anchor=\"start\" x=\"1547\" y=\"-878.3\" font-family=\"Helvetica,sans-Serif\" font-size=\"14.00\">gini = 0.0</text>\n<text text-anchor=\"start\" x=\"1537.5\" y=\"-863.3\" font-family=\"Helvetica,sans-Serif\" font-size=\"14.00\">samples = 1</text>\n<text text-anchor=\"start\" x=\"1535.5\" y=\"-848.3\" font-family=\"Helvetica,sans-Serif\" font-size=\"14.00\">value = [0, 1]</text>\n<text text-anchor=\"start\" x=\"1514.5\" y=\"-833.3\" font-family=\"Helvetica,sans-Serif\" font-size=\"14.00\">class = DIABETICO</text>\n</g>\n<!-- 32&#45;&gt;34 -->\n<g id=\"edge34\" class=\"edge\">\n<title>32&#45;&gt;34</title>\n<path fill=\"none\" stroke=\"black\" d=\"M1575,-936.91C1575,-926.2 1575,-914.62 1575,-903.78\"/>\n<polygon fill=\"black\" stroke=\"black\" points=\"1578.5,-903.67 1575,-893.67 1571.5,-903.67 1578.5,-903.67\"/>\n</g>\n<!-- 36 -->\n<g id=\"node37\" class=\"node\">\n<title>36</title>\n<path fill=\"#ffffff\" stroke=\"black\" d=\"M1820,-901C1820,-901 1674,-901 1674,-901 1668,-901 1662,-895 1662,-889 1662,-889 1662,-830 1662,-830 1662,-824 1668,-818 1674,-818 1674,-818 1820,-818 1820,-818 1826,-818 1832,-824 1832,-830 1832,-830 1832,-889 1832,-889 1832,-895 1826,-901 1820,-901\"/>\n<text text-anchor=\"start\" x=\"1704.5\" y=\"-885.8\" font-family=\"Helvetica,sans-Serif\" font-size=\"14.00\">gravidez ≤ 6.5</text>\n<text text-anchor=\"start\" x=\"1719\" y=\"-870.8\" font-family=\"Helvetica,sans-Serif\" font-size=\"14.00\">gini = 0.5</text>\n<text text-anchor=\"start\" x=\"1706\" y=\"-855.8\" font-family=\"Helvetica,sans-Serif\" font-size=\"14.00\">samples = 34</text>\n<text text-anchor=\"start\" x=\"1700\" y=\"-840.8\" font-family=\"Helvetica,sans-Serif\" font-size=\"14.00\">value = [17, 17]</text>\n<text text-anchor=\"start\" x=\"1670\" y=\"-825.8\" font-family=\"Helvetica,sans-Serif\" font-size=\"14.00\">class = NÃO DIABETICO</text>\n</g>\n<!-- 35&#45;&gt;36 -->\n<g id=\"edge36\" class=\"edge\">\n<title>35&#45;&gt;36</title>\n<path fill=\"none\" stroke=\"black\" d=\"M1756.8,-936.91C1755.73,-928.56 1754.59,-919.67 1753.48,-911.02\"/>\n<polygon fill=\"black\" stroke=\"black\" points=\"1756.94,-910.49 1752.19,-901.02 1750,-911.38 1756.94,-910.49\"/>\n</g>\n<!-- 53 -->\n<g id=\"node54\" class=\"node\">\n<title>53</title>\n<path fill=\"#7fc0ee\" stroke=\"black\" d=\"M1996,-901C1996,-901 1862,-901 1862,-901 1856,-901 1850,-895 1850,-889 1850,-889 1850,-830 1850,-830 1850,-824 1856,-818 1862,-818 1862,-818 1996,-818 1996,-818 2002,-818 2008,-824 2008,-830 2008,-830 2008,-889 2008,-889 2008,-895 2002,-901 1996,-901\"/>\n<text text-anchor=\"start\" x=\"1858\" y=\"-885.8\" font-family=\"Helvetica,sans-Serif\" font-size=\"14.00\">pressao_sangue ≤ 59.0</text>\n<text text-anchor=\"start\" x=\"1893.5\" y=\"-870.8\" font-family=\"Helvetica,sans-Serif\" font-size=\"14.00\">gini = 0.387</text>\n<text text-anchor=\"start\" x=\"1888\" y=\"-855.8\" font-family=\"Helvetica,sans-Serif\" font-size=\"14.00\">samples = 42</text>\n<text text-anchor=\"start\" x=\"1882\" y=\"-840.8\" font-family=\"Helvetica,sans-Serif\" font-size=\"14.00\">value = [11, 31]</text>\n<text text-anchor=\"start\" x=\"1868.5\" y=\"-825.8\" font-family=\"Helvetica,sans-Serif\" font-size=\"14.00\">class = DIABETICO</text>\n</g>\n<!-- 35&#45;&gt;53 -->\n<g id=\"edge53\" class=\"edge\">\n<title>35&#45;&gt;53</title>\n<path fill=\"none\" stroke=\"black\" d=\"M1819.94,-936.91C1833.8,-927.2 1848.7,-916.76 1862.9,-906.81\"/>\n<polygon fill=\"black\" stroke=\"black\" points=\"1864.98,-909.63 1871.16,-901.02 1860.96,-903.89 1864.98,-909.63\"/>\n</g>\n<!-- 37 -->\n<g id=\"node38\" class=\"node\">\n<title>37</title>\n<path fill=\"#f5d0b5\" stroke=\"black\" d=\"M1607,-782C1607,-782 1461,-782 1461,-782 1455,-782 1449,-776 1449,-770 1449,-770 1449,-711 1449,-711 1449,-705 1455,-699 1461,-699 1461,-699 1607,-699 1607,-699 1613,-699 1619,-705 1619,-711 1619,-711 1619,-770 1619,-770 1619,-776 1613,-782 1607,-782\"/>\n<text text-anchor=\"start\" x=\"1486.5\" y=\"-766.8\" font-family=\"Helvetica,sans-Serif\" font-size=\"14.00\">insulina ≤ 148.0</text>\n<text text-anchor=\"start\" x=\"1498.5\" y=\"-751.8\" font-family=\"Helvetica,sans-Serif\" font-size=\"14.00\">gini = 0.473</text>\n<text text-anchor=\"start\" x=\"1493\" y=\"-736.8\" font-family=\"Helvetica,sans-Serif\" font-size=\"14.00\">samples = 26</text>\n<text text-anchor=\"start\" x=\"1487\" y=\"-721.8\" font-family=\"Helvetica,sans-Serif\" font-size=\"14.00\">value = [16, 10]</text>\n<text text-anchor=\"start\" x=\"1457\" y=\"-706.8\" font-family=\"Helvetica,sans-Serif\" font-size=\"14.00\">class = NÃO DIABETICO</text>\n</g>\n<!-- 36&#45;&gt;37 -->\n<g id=\"edge37\" class=\"edge\">\n<title>36&#45;&gt;37</title>\n<path fill=\"none\" stroke=\"black\" d=\"M1673.1,-817.91C1654.84,-807.88 1635.17,-797.07 1616.54,-786.84\"/>\n<polygon fill=\"black\" stroke=\"black\" points=\"1618.22,-783.77 1607.77,-782.02 1614.85,-789.9 1618.22,-783.77\"/>\n</g>\n<!-- 50 -->\n<g id=\"node51\" class=\"node\">\n<title>50</title>\n<path fill=\"#55abe9\" stroke=\"black\" d=\"M1803.5,-782C1803.5,-782 1690.5,-782 1690.5,-782 1684.5,-782 1678.5,-776 1678.5,-770 1678.5,-770 1678.5,-711 1678.5,-711 1678.5,-705 1684.5,-699 1690.5,-699 1690.5,-699 1803.5,-699 1803.5,-699 1809.5,-699 1815.5,-705 1815.5,-711 1815.5,-711 1815.5,-770 1815.5,-770 1815.5,-776 1809.5,-782 1803.5,-782\"/>\n<text text-anchor=\"start\" x=\"1701.5\" y=\"-766.8\" font-family=\"Helvetica,sans-Serif\" font-size=\"14.00\">glicose ≤ 123.0</text>\n<text text-anchor=\"start\" x=\"1711.5\" y=\"-751.8\" font-family=\"Helvetica,sans-Serif\" font-size=\"14.00\">gini = 0.219</text>\n<text text-anchor=\"start\" x=\"1709.5\" y=\"-736.8\" font-family=\"Helvetica,sans-Serif\" font-size=\"14.00\">samples = 8</text>\n<text text-anchor=\"start\" x=\"1707.5\" y=\"-721.8\" font-family=\"Helvetica,sans-Serif\" font-size=\"14.00\">value = [1, 7]</text>\n<text text-anchor=\"start\" x=\"1686.5\" y=\"-706.8\" font-family=\"Helvetica,sans-Serif\" font-size=\"14.00\">class = DIABETICO</text>\n</g>\n<!-- 36&#45;&gt;50 -->\n<g id=\"edge50\" class=\"edge\">\n<title>36&#45;&gt;50</title>\n<path fill=\"none\" stroke=\"black\" d=\"M1747,-817.91C1747,-809.65 1747,-800.86 1747,-792.3\"/>\n<polygon fill=\"black\" stroke=\"black\" points=\"1750.5,-792.02 1747,-782.02 1743.5,-792.02 1750.5,-792.02\"/>\n</g>\n<!-- 38 -->\n<g id=\"node39\" class=\"node\">\n<title>38</title>\n<path fill=\"#eb9c63\" stroke=\"black\" d=\"M1387,-663C1387,-663 1241,-663 1241,-663 1235,-663 1229,-657 1229,-651 1229,-651 1229,-592 1229,-592 1229,-586 1235,-580 1241,-580 1241,-580 1387,-580 1387,-580 1393,-580 1399,-586 1399,-592 1399,-592 1399,-651 1399,-651 1399,-657 1393,-663 1387,-663\"/>\n<text text-anchor=\"start\" x=\"1272\" y=\"-647.8\" font-family=\"Helvetica,sans-Serif\" font-size=\"14.00\">glicose ≤ 97.0</text>\n<text text-anchor=\"start\" x=\"1278.5\" y=\"-632.8\" font-family=\"Helvetica,sans-Serif\" font-size=\"14.00\">gini = 0.291</text>\n<text text-anchor=\"start\" x=\"1273\" y=\"-617.8\" font-family=\"Helvetica,sans-Serif\" font-size=\"14.00\">samples = 17</text>\n<text text-anchor=\"start\" x=\"1271\" y=\"-602.8\" font-family=\"Helvetica,sans-Serif\" font-size=\"14.00\">value = [14, 3]</text>\n<text text-anchor=\"start\" x=\"1237\" y=\"-587.8\" font-family=\"Helvetica,sans-Serif\" font-size=\"14.00\">class = NÃO DIABETICO</text>\n</g>\n<!-- 37&#45;&gt;38 -->\n<g id=\"edge38\" class=\"edge\">\n<title>37&#45;&gt;38</title>\n<path fill=\"none\" stroke=\"black\" d=\"M1457.67,-698.91C1438.82,-688.88 1418.5,-678.07 1399.25,-667.84\"/>\n<polygon fill=\"black\" stroke=\"black\" points=\"1400.67,-664.63 1390.19,-663.02 1397.38,-670.81 1400.67,-664.63\"/>\n</g>\n<!-- 47 -->\n<g id=\"node48\" class=\"node\">\n<title>47</title>\n<path fill=\"#72b9ec\" stroke=\"black\" d=\"M1590.5,-663C1590.5,-663 1477.5,-663 1477.5,-663 1471.5,-663 1465.5,-657 1465.5,-651 1465.5,-651 1465.5,-592 1465.5,-592 1465.5,-586 1471.5,-580 1477.5,-580 1477.5,-580 1590.5,-580 1590.5,-580 1596.5,-580 1602.5,-586 1602.5,-592 1602.5,-592 1602.5,-651 1602.5,-651 1602.5,-657 1596.5,-663 1590.5,-663\"/>\n<text text-anchor=\"start\" x=\"1496.5\" y=\"-647.8\" font-family=\"Helvetica,sans-Serif\" font-size=\"14.00\">idade ≤ 33.5</text>\n<text text-anchor=\"start\" x=\"1498.5\" y=\"-632.8\" font-family=\"Helvetica,sans-Serif\" font-size=\"14.00\">gini = 0.346</text>\n<text text-anchor=\"start\" x=\"1496.5\" y=\"-617.8\" font-family=\"Helvetica,sans-Serif\" font-size=\"14.00\">samples = 9</text>\n<text text-anchor=\"start\" x=\"1494.5\" y=\"-602.8\" font-family=\"Helvetica,sans-Serif\" font-size=\"14.00\">value = [2, 7]</text>\n<text text-anchor=\"start\" x=\"1473.5\" y=\"-587.8\" font-family=\"Helvetica,sans-Serif\" font-size=\"14.00\">class = DIABETICO</text>\n</g>\n<!-- 37&#45;&gt;47 -->\n<g id=\"edge47\" class=\"edge\">\n<title>37&#45;&gt;47</title>\n<path fill=\"none\" stroke=\"black\" d=\"M1534,-698.91C1534,-690.65 1534,-681.86 1534,-673.3\"/>\n<polygon fill=\"black\" stroke=\"black\" points=\"1537.5,-673.02 1534,-663.02 1530.5,-673.02 1537.5,-673.02\"/>\n</g>\n<!-- 39 -->\n<g id=\"node40\" class=\"node\">\n<title>39</title>\n<path fill=\"#399de5\" stroke=\"black\" d=\"M1198.5,-536.5C1198.5,-536.5 1085.5,-536.5 1085.5,-536.5 1079.5,-536.5 1073.5,-530.5 1073.5,-524.5 1073.5,-524.5 1073.5,-480.5 1073.5,-480.5 1073.5,-474.5 1079.5,-468.5 1085.5,-468.5 1085.5,-468.5 1198.5,-468.5 1198.5,-468.5 1204.5,-468.5 1210.5,-474.5 1210.5,-480.5 1210.5,-480.5 1210.5,-524.5 1210.5,-524.5 1210.5,-530.5 1204.5,-536.5 1198.5,-536.5\"/>\n<text text-anchor=\"start\" x=\"1114\" y=\"-521.3\" font-family=\"Helvetica,sans-Serif\" font-size=\"14.00\">gini = 0.0</text>\n<text text-anchor=\"start\" x=\"1104.5\" y=\"-506.3\" font-family=\"Helvetica,sans-Serif\" font-size=\"14.00\">samples = 1</text>\n<text text-anchor=\"start\" x=\"1102.5\" y=\"-491.3\" font-family=\"Helvetica,sans-Serif\" font-size=\"14.00\">value = [0, 1]</text>\n<text text-anchor=\"start\" x=\"1081.5\" y=\"-476.3\" font-family=\"Helvetica,sans-Serif\" font-size=\"14.00\">class = DIABETICO</text>\n</g>\n<!-- 38&#45;&gt;39 -->\n<g id=\"edge39\" class=\"edge\">\n<title>38&#45;&gt;39</title>\n<path fill=\"none\" stroke=\"black\" d=\"M1254.33,-579.91C1236.48,-567.77 1216.96,-554.49 1199.28,-542.46\"/>\n<polygon fill=\"black\" stroke=\"black\" points=\"1201,-539.4 1190.76,-536.67 1197.06,-545.19 1201,-539.4\"/>\n</g>\n<!-- 40 -->\n<g id=\"node41\" class=\"node\">\n<title>40</title>\n<path fill=\"#e99355\" stroke=\"black\" d=\"M1387,-544C1387,-544 1241,-544 1241,-544 1235,-544 1229,-538 1229,-532 1229,-532 1229,-473 1229,-473 1229,-467 1235,-461 1241,-461 1241,-461 1387,-461 1387,-461 1393,-461 1399,-467 1399,-473 1399,-473 1399,-532 1399,-532 1399,-538 1393,-544 1387,-544\"/>\n<text text-anchor=\"start\" x=\"1276.5\" y=\"-528.8\" font-family=\"Helvetica,sans-Serif\" font-size=\"14.00\">IMC ≤ 27.95</text>\n<text text-anchor=\"start\" x=\"1278.5\" y=\"-513.8\" font-family=\"Helvetica,sans-Serif\" font-size=\"14.00\">gini = 0.219</text>\n<text text-anchor=\"start\" x=\"1273\" y=\"-498.8\" font-family=\"Helvetica,sans-Serif\" font-size=\"14.00\">samples = 16</text>\n<text text-anchor=\"start\" x=\"1271\" y=\"-483.8\" font-family=\"Helvetica,sans-Serif\" font-size=\"14.00\">value = [14, 2]</text>\n<text text-anchor=\"start\" x=\"1237\" y=\"-468.8\" font-family=\"Helvetica,sans-Serif\" font-size=\"14.00\">class = NÃO DIABETICO</text>\n</g>\n<!-- 38&#45;&gt;40 -->\n<g id=\"edge40\" class=\"edge\">\n<title>38&#45;&gt;40</title>\n<path fill=\"none\" stroke=\"black\" d=\"M1314,-579.91C1314,-571.65 1314,-562.86 1314,-554.3\"/>\n<polygon fill=\"black\" stroke=\"black\" points=\"1317.5,-554.02 1314,-544.02 1310.5,-554.02 1317.5,-554.02\"/>\n</g>\n<!-- 41 -->\n<g id=\"node42\" class=\"node\">\n<title>41</title>\n<path fill=\"#399de5\" stroke=\"black\" d=\"M1198.5,-417.5C1198.5,-417.5 1085.5,-417.5 1085.5,-417.5 1079.5,-417.5 1073.5,-411.5 1073.5,-405.5 1073.5,-405.5 1073.5,-361.5 1073.5,-361.5 1073.5,-355.5 1079.5,-349.5 1085.5,-349.5 1085.5,-349.5 1198.5,-349.5 1198.5,-349.5 1204.5,-349.5 1210.5,-355.5 1210.5,-361.5 1210.5,-361.5 1210.5,-405.5 1210.5,-405.5 1210.5,-411.5 1204.5,-417.5 1198.5,-417.5\"/>\n<text text-anchor=\"start\" x=\"1114\" y=\"-402.3\" font-family=\"Helvetica,sans-Serif\" font-size=\"14.00\">gini = 0.0</text>\n<text text-anchor=\"start\" x=\"1104.5\" y=\"-387.3\" font-family=\"Helvetica,sans-Serif\" font-size=\"14.00\">samples = 1</text>\n<text text-anchor=\"start\" x=\"1102.5\" y=\"-372.3\" font-family=\"Helvetica,sans-Serif\" font-size=\"14.00\">value = [0, 1]</text>\n<text text-anchor=\"start\" x=\"1081.5\" y=\"-357.3\" font-family=\"Helvetica,sans-Serif\" font-size=\"14.00\">class = DIABETICO</text>\n</g>\n<!-- 40&#45;&gt;41 -->\n<g id=\"edge41\" class=\"edge\">\n<title>40&#45;&gt;41</title>\n<path fill=\"none\" stroke=\"black\" d=\"M1254.33,-460.91C1236.48,-448.77 1216.96,-435.49 1199.28,-423.46\"/>\n<polygon fill=\"black\" stroke=\"black\" points=\"1201,-420.4 1190.76,-417.67 1197.06,-426.19 1201,-420.4\"/>\n</g>\n<!-- 42 -->\n<g id=\"node43\" class=\"node\">\n<title>42</title>\n<path fill=\"#e78a47\" stroke=\"black\" d=\"M1387,-425C1387,-425 1241,-425 1241,-425 1235,-425 1229,-419 1229,-413 1229,-413 1229,-354 1229,-354 1229,-348 1235,-342 1241,-342 1241,-342 1387,-342 1387,-342 1393,-342 1399,-348 1399,-354 1399,-354 1399,-413 1399,-413 1399,-419 1393,-425 1387,-425\"/>\n<text text-anchor=\"start\" x=\"1243\" y=\"-409.8\" font-family=\"Helvetica,sans-Serif\" font-size=\"14.00\">pressao_sangue ≤ 64.0</text>\n<text text-anchor=\"start\" x=\"1278.5\" y=\"-394.8\" font-family=\"Helvetica,sans-Serif\" font-size=\"14.00\">gini = 0.124</text>\n<text text-anchor=\"start\" x=\"1273\" y=\"-379.8\" font-family=\"Helvetica,sans-Serif\" font-size=\"14.00\">samples = 15</text>\n<text text-anchor=\"start\" x=\"1271\" y=\"-364.8\" font-family=\"Helvetica,sans-Serif\" font-size=\"14.00\">value = [14, 1]</text>\n<text text-anchor=\"start\" x=\"1237\" y=\"-349.8\" font-family=\"Helvetica,sans-Serif\" font-size=\"14.00\">class = NÃO DIABETICO</text>\n</g>\n<!-- 40&#45;&gt;42 -->\n<g id=\"edge42\" class=\"edge\">\n<title>40&#45;&gt;42</title>\n<path fill=\"none\" stroke=\"black\" d=\"M1314,-460.91C1314,-452.65 1314,-443.86 1314,-435.3\"/>\n<polygon fill=\"black\" stroke=\"black\" points=\"1317.5,-435.02 1314,-425.02 1310.5,-435.02 1317.5,-435.02\"/>\n</g>\n<!-- 43 -->\n<g id=\"node44\" class=\"node\">\n<title>43</title>\n<path fill=\"#eca06a\" stroke=\"black\" d=\"M1199,-306C1199,-306 1053,-306 1053,-306 1047,-306 1041,-300 1041,-294 1041,-294 1041,-235 1041,-235 1041,-229 1047,-223 1053,-223 1053,-223 1199,-223 1199,-223 1205,-223 1211,-229 1211,-235 1211,-235 1211,-294 1211,-294 1211,-300 1205,-306 1199,-306\"/>\n<text text-anchor=\"start\" x=\"1057.5\" y=\"-290.8\" font-family=\"Helvetica,sans-Serif\" font-size=\"14.00\">espessura_pele ≤ 15.5</text>\n<text text-anchor=\"start\" x=\"1094\" y=\"-275.8\" font-family=\"Helvetica,sans-Serif\" font-size=\"14.00\">gini = 0.32</text>\n<text text-anchor=\"start\" x=\"1088.5\" y=\"-260.8\" font-family=\"Helvetica,sans-Serif\" font-size=\"14.00\">samples = 5</text>\n<text text-anchor=\"start\" x=\"1086.5\" y=\"-245.8\" font-family=\"Helvetica,sans-Serif\" font-size=\"14.00\">value = [4, 1]</text>\n<text text-anchor=\"start\" x=\"1049\" y=\"-230.8\" font-family=\"Helvetica,sans-Serif\" font-size=\"14.00\">class = NÃO DIABETICO</text>\n</g>\n<!-- 42&#45;&gt;43 -->\n<g id=\"edge43\" class=\"edge\">\n<title>42&#45;&gt;43</title>\n<path fill=\"none\" stroke=\"black\" d=\"M1248.77,-341.91C1233.03,-332.11 1216.08,-321.56 1199.97,-311.53\"/>\n<polygon fill=\"black\" stroke=\"black\" points=\"1201.45,-308.33 1191.11,-306.02 1197.75,-314.28 1201.45,-308.33\"/>\n</g>\n<!-- 46 -->\n<g id=\"node47\" class=\"node\">\n<title>46</title>\n<path fill=\"#e58139\" stroke=\"black\" d=\"M1387,-298.5C1387,-298.5 1241,-298.5 1241,-298.5 1235,-298.5 1229,-292.5 1229,-286.5 1229,-286.5 1229,-242.5 1229,-242.5 1229,-236.5 1235,-230.5 1241,-230.5 1241,-230.5 1387,-230.5 1387,-230.5 1393,-230.5 1399,-236.5 1399,-242.5 1399,-242.5 1399,-286.5 1399,-286.5 1399,-292.5 1393,-298.5 1387,-298.5\"/>\n<text text-anchor=\"start\" x=\"1286\" y=\"-283.3\" font-family=\"Helvetica,sans-Serif\" font-size=\"14.00\">gini = 0.0</text>\n<text text-anchor=\"start\" x=\"1273\" y=\"-268.3\" font-family=\"Helvetica,sans-Serif\" font-size=\"14.00\">samples = 10</text>\n<text text-anchor=\"start\" x=\"1271\" y=\"-253.3\" font-family=\"Helvetica,sans-Serif\" font-size=\"14.00\">value = [10, 0]</text>\n<text text-anchor=\"start\" x=\"1237\" y=\"-238.3\" font-family=\"Helvetica,sans-Serif\" font-size=\"14.00\">class = NÃO DIABETICO</text>\n</g>\n<!-- 42&#45;&gt;46 -->\n<g id=\"edge46\" class=\"edge\">\n<title>42&#45;&gt;46</title>\n<path fill=\"none\" stroke=\"black\" d=\"M1314,-341.91C1314,-331.2 1314,-319.62 1314,-308.78\"/>\n<polygon fill=\"black\" stroke=\"black\" points=\"1317.5,-308.67 1314,-298.67 1310.5,-308.67 1317.5,-308.67\"/>\n</g>\n<!-- 44 -->\n<g id=\"node45\" class=\"node\">\n<title>44</title>\n<path fill=\"#399de5\" stroke=\"black\" d=\"M1096.5,-179.5C1096.5,-179.5 983.5,-179.5 983.5,-179.5 977.5,-179.5 971.5,-173.5 971.5,-167.5 971.5,-167.5 971.5,-123.5 971.5,-123.5 971.5,-117.5 977.5,-111.5 983.5,-111.5 983.5,-111.5 1096.5,-111.5 1096.5,-111.5 1102.5,-111.5 1108.5,-117.5 1108.5,-123.5 1108.5,-123.5 1108.5,-167.5 1108.5,-167.5 1108.5,-173.5 1102.5,-179.5 1096.5,-179.5\"/>\n<text text-anchor=\"start\" x=\"1012\" y=\"-164.3\" font-family=\"Helvetica,sans-Serif\" font-size=\"14.00\">gini = 0.0</text>\n<text text-anchor=\"start\" x=\"1002.5\" y=\"-149.3\" font-family=\"Helvetica,sans-Serif\" font-size=\"14.00\">samples = 1</text>\n<text text-anchor=\"start\" x=\"1000.5\" y=\"-134.3\" font-family=\"Helvetica,sans-Serif\" font-size=\"14.00\">value = [0, 1]</text>\n<text text-anchor=\"start\" x=\"979.5\" y=\"-119.3\" font-family=\"Helvetica,sans-Serif\" font-size=\"14.00\">class = DIABETICO</text>\n</g>\n<!-- 43&#45;&gt;44 -->\n<g id=\"edge44\" class=\"edge\">\n<title>43&#45;&gt;44</title>\n<path fill=\"none\" stroke=\"black\" d=\"M1096.16,-222.91C1087.81,-211.54 1078.72,-199.18 1070.34,-187.77\"/>\n<polygon fill=\"black\" stroke=\"black\" points=\"1073.12,-185.65 1064.38,-179.67 1067.48,-189.8 1073.12,-185.65\"/>\n</g>\n<!-- 45 -->\n<g id=\"node46\" class=\"node\">\n<title>45</title>\n<path fill=\"#e58139\" stroke=\"black\" d=\"M1285,-179.5C1285,-179.5 1139,-179.5 1139,-179.5 1133,-179.5 1127,-173.5 1127,-167.5 1127,-167.5 1127,-123.5 1127,-123.5 1127,-117.5 1133,-111.5 1139,-111.5 1139,-111.5 1285,-111.5 1285,-111.5 1291,-111.5 1297,-117.5 1297,-123.5 1297,-123.5 1297,-167.5 1297,-167.5 1297,-173.5 1291,-179.5 1285,-179.5\"/>\n<text text-anchor=\"start\" x=\"1184\" y=\"-164.3\" font-family=\"Helvetica,sans-Serif\" font-size=\"14.00\">gini = 0.0</text>\n<text text-anchor=\"start\" x=\"1174.5\" y=\"-149.3\" font-family=\"Helvetica,sans-Serif\" font-size=\"14.00\">samples = 4</text>\n<text text-anchor=\"start\" x=\"1172.5\" y=\"-134.3\" font-family=\"Helvetica,sans-Serif\" font-size=\"14.00\">value = [4, 0]</text>\n<text text-anchor=\"start\" x=\"1135\" y=\"-119.3\" font-family=\"Helvetica,sans-Serif\" font-size=\"14.00\">class = NÃO DIABETICO</text>\n</g>\n<!-- 43&#45;&gt;45 -->\n<g id=\"edge45\" class=\"edge\">\n<title>43&#45;&gt;45</title>\n<path fill=\"none\" stroke=\"black\" d=\"M1155.84,-222.91C1164.19,-211.54 1173.28,-199.18 1181.66,-187.77\"/>\n<polygon fill=\"black\" stroke=\"black\" points=\"1184.52,-189.8 1187.62,-179.67 1178.88,-185.65 1184.52,-189.8\"/>\n</g>\n<!-- 48 -->\n<g id=\"node49\" class=\"node\">\n<title>48</title>\n<path fill=\"#399de5\" stroke=\"black\" d=\"M1576.5,-536.5C1576.5,-536.5 1463.5,-536.5 1463.5,-536.5 1457.5,-536.5 1451.5,-530.5 1451.5,-524.5 1451.5,-524.5 1451.5,-480.5 1451.5,-480.5 1451.5,-474.5 1457.5,-468.5 1463.5,-468.5 1463.5,-468.5 1576.5,-468.5 1576.5,-468.5 1582.5,-468.5 1588.5,-474.5 1588.5,-480.5 1588.5,-480.5 1588.5,-524.5 1588.5,-524.5 1588.5,-530.5 1582.5,-536.5 1576.5,-536.5\"/>\n<text text-anchor=\"start\" x=\"1492\" y=\"-521.3\" font-family=\"Helvetica,sans-Serif\" font-size=\"14.00\">gini = 0.0</text>\n<text text-anchor=\"start\" x=\"1482.5\" y=\"-506.3\" font-family=\"Helvetica,sans-Serif\" font-size=\"14.00\">samples = 7</text>\n<text text-anchor=\"start\" x=\"1480.5\" y=\"-491.3\" font-family=\"Helvetica,sans-Serif\" font-size=\"14.00\">value = [0, 7]</text>\n<text text-anchor=\"start\" x=\"1459.5\" y=\"-476.3\" font-family=\"Helvetica,sans-Serif\" font-size=\"14.00\">class = DIABETICO</text>\n</g>\n<!-- 47&#45;&gt;48 -->\n<g id=\"edge48\" class=\"edge\">\n<title>47&#45;&gt;48</title>\n<path fill=\"none\" stroke=\"black\" d=\"M1529.14,-579.91C1527.86,-569.2 1526.48,-557.62 1525.18,-546.78\"/>\n<polygon fill=\"black\" stroke=\"black\" points=\"1528.63,-546.18 1523.97,-536.67 1521.68,-547.01 1528.63,-546.18\"/>\n</g>\n<!-- 49 -->\n<g id=\"node50\" class=\"node\">\n<title>49</title>\n<path fill=\"#e58139\" stroke=\"black\" d=\"M1765,-536.5C1765,-536.5 1619,-536.5 1619,-536.5 1613,-536.5 1607,-530.5 1607,-524.5 1607,-524.5 1607,-480.5 1607,-480.5 1607,-474.5 1613,-468.5 1619,-468.5 1619,-468.5 1765,-468.5 1765,-468.5 1771,-468.5 1777,-474.5 1777,-480.5 1777,-480.5 1777,-524.5 1777,-524.5 1777,-530.5 1771,-536.5 1765,-536.5\"/>\n<text text-anchor=\"start\" x=\"1664\" y=\"-521.3\" font-family=\"Helvetica,sans-Serif\" font-size=\"14.00\">gini = 0.0</text>\n<text text-anchor=\"start\" x=\"1654.5\" y=\"-506.3\" font-family=\"Helvetica,sans-Serif\" font-size=\"14.00\">samples = 2</text>\n<text text-anchor=\"start\" x=\"1652.5\" y=\"-491.3\" font-family=\"Helvetica,sans-Serif\" font-size=\"14.00\">value = [2, 0]</text>\n<text text-anchor=\"start\" x=\"1615\" y=\"-476.3\" font-family=\"Helvetica,sans-Serif\" font-size=\"14.00\">class = NÃO DIABETICO</text>\n</g>\n<!-- 47&#45;&gt;49 -->\n<g id=\"edge49\" class=\"edge\">\n<title>47&#45;&gt;49</title>\n<path fill=\"none\" stroke=\"black\" d=\"M1588.82,-579.91C1605.06,-567.88 1622.81,-554.73 1638.94,-542.79\"/>\n<polygon fill=\"black\" stroke=\"black\" points=\"1641.26,-545.43 1647.21,-536.67 1637.09,-539.81 1641.26,-545.43\"/>\n</g>\n<!-- 51 -->\n<g id=\"node52\" class=\"node\">\n<title>51</title>\n<path fill=\"#399de5\" stroke=\"black\" d=\"M1772.5,-655.5C1772.5,-655.5 1659.5,-655.5 1659.5,-655.5 1653.5,-655.5 1647.5,-649.5 1647.5,-643.5 1647.5,-643.5 1647.5,-599.5 1647.5,-599.5 1647.5,-593.5 1653.5,-587.5 1659.5,-587.5 1659.5,-587.5 1772.5,-587.5 1772.5,-587.5 1778.5,-587.5 1784.5,-593.5 1784.5,-599.5 1784.5,-599.5 1784.5,-643.5 1784.5,-643.5 1784.5,-649.5 1778.5,-655.5 1772.5,-655.5\"/>\n<text text-anchor=\"start\" x=\"1688\" y=\"-640.3\" font-family=\"Helvetica,sans-Serif\" font-size=\"14.00\">gini = 0.0</text>\n<text text-anchor=\"start\" x=\"1678.5\" y=\"-625.3\" font-family=\"Helvetica,sans-Serif\" font-size=\"14.00\">samples = 7</text>\n<text text-anchor=\"start\" x=\"1676.5\" y=\"-610.3\" font-family=\"Helvetica,sans-Serif\" font-size=\"14.00\">value = [0, 7]</text>\n<text text-anchor=\"start\" x=\"1655.5\" y=\"-595.3\" font-family=\"Helvetica,sans-Serif\" font-size=\"14.00\">class = DIABETICO</text>\n</g>\n<!-- 50&#45;&gt;51 -->\n<g id=\"edge51\" class=\"edge\">\n<title>50&#45;&gt;51</title>\n<path fill=\"none\" stroke=\"black\" d=\"M1736.24,-698.91C1733.38,-688.09 1730.27,-676.38 1727.38,-665.44\"/>\n<polygon fill=\"black\" stroke=\"black\" points=\"1730.73,-664.44 1724.79,-655.67 1723.97,-666.23 1730.73,-664.44\"/>\n</g>\n<!-- 52 -->\n<g id=\"node53\" class=\"node\">\n<title>52</title>\n<path fill=\"#e58139\" stroke=\"black\" d=\"M1961,-655.5C1961,-655.5 1815,-655.5 1815,-655.5 1809,-655.5 1803,-649.5 1803,-643.5 1803,-643.5 1803,-599.5 1803,-599.5 1803,-593.5 1809,-587.5 1815,-587.5 1815,-587.5 1961,-587.5 1961,-587.5 1967,-587.5 1973,-593.5 1973,-599.5 1973,-599.5 1973,-643.5 1973,-643.5 1973,-649.5 1967,-655.5 1961,-655.5\"/>\n<text text-anchor=\"start\" x=\"1860\" y=\"-640.3\" font-family=\"Helvetica,sans-Serif\" font-size=\"14.00\">gini = 0.0</text>\n<text text-anchor=\"start\" x=\"1850.5\" y=\"-625.3\" font-family=\"Helvetica,sans-Serif\" font-size=\"14.00\">samples = 1</text>\n<text text-anchor=\"start\" x=\"1848.5\" y=\"-610.3\" font-family=\"Helvetica,sans-Serif\" font-size=\"14.00\">value = [1, 0]</text>\n<text text-anchor=\"start\" x=\"1811\" y=\"-595.3\" font-family=\"Helvetica,sans-Serif\" font-size=\"14.00\">class = NÃO DIABETICO</text>\n</g>\n<!-- 50&#45;&gt;52 -->\n<g id=\"edge52\" class=\"edge\">\n<title>50&#45;&gt;52</title>\n<path fill=\"none\" stroke=\"black\" d=\"M1795.92,-698.91C1810.28,-686.99 1825.97,-673.98 1840.25,-662.12\"/>\n<polygon fill=\"black\" stroke=\"black\" points=\"1842.57,-664.75 1848.03,-655.67 1838.1,-659.36 1842.57,-664.75\"/>\n</g>\n<!-- 54 -->\n<g id=\"node55\" class=\"node\">\n<title>54</title>\n<path fill=\"#e58139\" stroke=\"black\" d=\"M1997,-774.5C1997,-774.5 1851,-774.5 1851,-774.5 1845,-774.5 1839,-768.5 1839,-762.5 1839,-762.5 1839,-718.5 1839,-718.5 1839,-712.5 1845,-706.5 1851,-706.5 1851,-706.5 1997,-706.5 1997,-706.5 2003,-706.5 2009,-712.5 2009,-718.5 2009,-718.5 2009,-762.5 2009,-762.5 2009,-768.5 2003,-774.5 1997,-774.5\"/>\n<text text-anchor=\"start\" x=\"1896\" y=\"-759.3\" font-family=\"Helvetica,sans-Serif\" font-size=\"14.00\">gini = 0.0</text>\n<text text-anchor=\"start\" x=\"1886.5\" y=\"-744.3\" font-family=\"Helvetica,sans-Serif\" font-size=\"14.00\">samples = 2</text>\n<text text-anchor=\"start\" x=\"1884.5\" y=\"-729.3\" font-family=\"Helvetica,sans-Serif\" font-size=\"14.00\">value = [2, 0]</text>\n<text text-anchor=\"start\" x=\"1847\" y=\"-714.3\" font-family=\"Helvetica,sans-Serif\" font-size=\"14.00\">class = NÃO DIABETICO</text>\n</g>\n<!-- 53&#45;&gt;54 -->\n<g id=\"edge54\" class=\"edge\">\n<title>53&#45;&gt;54</title>\n<path fill=\"none\" stroke=\"black\" d=\"M1927.27,-817.91C1926.81,-807.2 1926.31,-795.62 1925.85,-784.78\"/>\n<polygon fill=\"black\" stroke=\"black\" points=\"1929.34,-784.51 1925.42,-774.67 1922.35,-784.81 1929.34,-784.51\"/>\n</g>\n<!-- 55 -->\n<g id=\"node56\" class=\"node\">\n<title>55</title>\n<path fill=\"#72b9ed\" stroke=\"black\" d=\"M2168.5,-782C2168.5,-782 2039.5,-782 2039.5,-782 2033.5,-782 2027.5,-776 2027.5,-770 2027.5,-770 2027.5,-711 2027.5,-711 2027.5,-705 2033.5,-699 2039.5,-699 2039.5,-699 2168.5,-699 2168.5,-699 2174.5,-699 2180.5,-705 2180.5,-711 2180.5,-711 2180.5,-770 2180.5,-770 2180.5,-776 2174.5,-782 2168.5,-782\"/>\n<text text-anchor=\"start\" x=\"2035.5\" y=\"-766.8\" font-family=\"Helvetica,sans-Serif\" font-size=\"14.00\">espessura_pele ≤ 39.5</text>\n<text text-anchor=\"start\" x=\"2068.5\" y=\"-751.8\" font-family=\"Helvetica,sans-Serif\" font-size=\"14.00\">gini = 0.349</text>\n<text text-anchor=\"start\" x=\"2063\" y=\"-736.8\" font-family=\"Helvetica,sans-Serif\" font-size=\"14.00\">samples = 40</text>\n<text text-anchor=\"start\" x=\"2061\" y=\"-721.8\" font-family=\"Helvetica,sans-Serif\" font-size=\"14.00\">value = [9, 31]</text>\n<text text-anchor=\"start\" x=\"2043.5\" y=\"-706.8\" font-family=\"Helvetica,sans-Serif\" font-size=\"14.00\">class = DIABETICO</text>\n</g>\n<!-- 53&#45;&gt;55 -->\n<g id=\"edge55\" class=\"edge\">\n<title>53&#45;&gt;55</title>\n<path fill=\"none\" stroke=\"black\" d=\"M1989.72,-817.91C2004.24,-808.2 2019.85,-797.76 2034.73,-787.81\"/>\n<polygon fill=\"black\" stroke=\"black\" points=\"2037.02,-790.49 2043.39,-782.02 2033.13,-784.67 2037.02,-790.49\"/>\n</g>\n<!-- 56 -->\n<g id=\"node57\" class=\"node\">\n<title>56</title>\n<path fill=\"#62b1ea\" stroke=\"black\" d=\"M2129.5,-663C2129.5,-663 2016.5,-663 2016.5,-663 2010.5,-663 2004.5,-657 2004.5,-651 2004.5,-651 2004.5,-592 2004.5,-592 2004.5,-586 2010.5,-580 2016.5,-580 2016.5,-580 2129.5,-580 2129.5,-580 2135.5,-580 2141.5,-586 2141.5,-592 2141.5,-592 2141.5,-651 2141.5,-651 2141.5,-657 2135.5,-663 2129.5,-663\"/>\n<text text-anchor=\"start\" x=\"2035.5\" y=\"-647.8\" font-family=\"Helvetica,sans-Serif\" font-size=\"14.00\">idade ≤ 53.0</text>\n<text text-anchor=\"start\" x=\"2037.5\" y=\"-632.8\" font-family=\"Helvetica,sans-Serif\" font-size=\"14.00\">gini = 0.284</text>\n<text text-anchor=\"start\" x=\"2032\" y=\"-617.8\" font-family=\"Helvetica,sans-Serif\" font-size=\"14.00\">samples = 35</text>\n<text text-anchor=\"start\" x=\"2030\" y=\"-602.8\" font-family=\"Helvetica,sans-Serif\" font-size=\"14.00\">value = [6, 29]</text>\n<text text-anchor=\"start\" x=\"2012.5\" y=\"-587.8\" font-family=\"Helvetica,sans-Serif\" font-size=\"14.00\">class = DIABETICO</text>\n</g>\n<!-- 55&#45;&gt;56 -->\n<g id=\"edge56\" class=\"edge\">\n<title>55&#45;&gt;56</title>\n<path fill=\"none\" stroke=\"black\" d=\"M2093.24,-698.91C2091.01,-690.47 2088.63,-681.48 2086.31,-672.74\"/>\n<polygon fill=\"black\" stroke=\"black\" points=\"2089.68,-671.79 2083.74,-663.02 2082.91,-673.58 2089.68,-671.79\"/>\n</g>\n<!-- 73 -->\n<g id=\"node74\" class=\"node\">\n<title>73</title>\n<path fill=\"#f6d5bd\" stroke=\"black\" d=\"M2334,-663C2334,-663 2188,-663 2188,-663 2182,-663 2176,-657 2176,-651 2176,-651 2176,-592 2176,-592 2176,-586 2182,-580 2188,-580 2188,-580 2334,-580 2334,-580 2340,-580 2346,-586 2346,-592 2346,-592 2346,-651 2346,-651 2346,-657 2340,-663 2334,-663\"/>\n<text text-anchor=\"start\" x=\"2213.5\" y=\"-647.8\" font-family=\"Helvetica,sans-Serif\" font-size=\"14.00\">insulina ≤ 203.5</text>\n<text text-anchor=\"start\" x=\"2229\" y=\"-632.8\" font-family=\"Helvetica,sans-Serif\" font-size=\"14.00\">gini = 0.48</text>\n<text text-anchor=\"start\" x=\"2223.5\" y=\"-617.8\" font-family=\"Helvetica,sans-Serif\" font-size=\"14.00\">samples = 5</text>\n<text text-anchor=\"start\" x=\"2221.5\" y=\"-602.8\" font-family=\"Helvetica,sans-Serif\" font-size=\"14.00\">value = [3, 2]</text>\n<text text-anchor=\"start\" x=\"2184\" y=\"-587.8\" font-family=\"Helvetica,sans-Serif\" font-size=\"14.00\">class = NÃO DIABETICO</text>\n</g>\n<!-- 55&#45;&gt;73 -->\n<g id=\"edge73\" class=\"edge\">\n<title>55&#45;&gt;73</title>\n<path fill=\"none\" stroke=\"black\" d=\"M2158.47,-698.91C2171.38,-689.29 2185.25,-678.95 2198.48,-669.09\"/>\n<polygon fill=\"black\" stroke=\"black\" points=\"2200.7,-671.8 2206.63,-663.02 2196.52,-666.19 2200.7,-671.8\"/>\n</g>\n<!-- 57 -->\n<g id=\"node58\" class=\"node\">\n<title>57</title>\n<path fill=\"#4fa8e8\" stroke=\"black\" d=\"M1953.5,-544C1953.5,-544 1840.5,-544 1840.5,-544 1834.5,-544 1828.5,-538 1828.5,-532 1828.5,-532 1828.5,-473 1828.5,-473 1828.5,-467 1834.5,-461 1840.5,-461 1840.5,-461 1953.5,-461 1953.5,-461 1959.5,-461 1965.5,-467 1965.5,-473 1965.5,-473 1965.5,-532 1965.5,-532 1965.5,-538 1959.5,-544 1953.5,-544\"/>\n<text text-anchor=\"start\" x=\"1855\" y=\"-528.8\" font-family=\"Helvetica,sans-Serif\" font-size=\"14.00\">glicose ≤ 95.5</text>\n<text text-anchor=\"start\" x=\"1865\" y=\"-513.8\" font-family=\"Helvetica,sans-Serif\" font-size=\"14.00\">gini = 0.18</text>\n<text text-anchor=\"start\" x=\"1856\" y=\"-498.8\" font-family=\"Helvetica,sans-Serif\" font-size=\"14.00\">samples = 30</text>\n<text text-anchor=\"start\" x=\"1854\" y=\"-483.8\" font-family=\"Helvetica,sans-Serif\" font-size=\"14.00\">value = [3, 27]</text>\n<text text-anchor=\"start\" x=\"1836.5\" y=\"-468.8\" font-family=\"Helvetica,sans-Serif\" font-size=\"14.00\">class = DIABETICO</text>\n</g>\n<!-- 56&#45;&gt;57 -->\n<g id=\"edge57\" class=\"edge\">\n<title>56&#45;&gt;57</title>\n<path fill=\"none\" stroke=\"black\" d=\"M2011.94,-579.91C1997.33,-570.2 1981.63,-559.76 1966.66,-549.81\"/>\n<polygon fill=\"black\" stroke=\"black\" points=\"1968.22,-546.64 1957.95,-544.02 1964.34,-552.47 1968.22,-546.64\"/>\n</g>\n<!-- 68 -->\n<g id=\"node69\" class=\"node\">\n<title>68</title>\n<path fill=\"#f6d5bd\" stroke=\"black\" d=\"M2146,-544C2146,-544 2000,-544 2000,-544 1994,-544 1988,-538 1988,-532 1988,-532 1988,-473 1988,-473 1988,-467 1994,-461 2000,-461 2000,-461 2146,-461 2146,-461 2152,-461 2158,-467 2158,-473 2158,-473 2158,-532 2158,-532 2158,-538 2152,-544 2146,-544\"/>\n<text text-anchor=\"start\" x=\"2030.5\" y=\"-528.8\" font-family=\"Helvetica,sans-Serif\" font-size=\"14.00\">gravidez ≤ 7.0</text>\n<text text-anchor=\"start\" x=\"2041\" y=\"-513.8\" font-family=\"Helvetica,sans-Serif\" font-size=\"14.00\">gini = 0.48</text>\n<text text-anchor=\"start\" x=\"2035.5\" y=\"-498.8\" font-family=\"Helvetica,sans-Serif\" font-size=\"14.00\">samples = 5</text>\n<text text-anchor=\"start\" x=\"2033.5\" y=\"-483.8\" font-family=\"Helvetica,sans-Serif\" font-size=\"14.00\">value = [3, 2]</text>\n<text text-anchor=\"start\" x=\"1996\" y=\"-468.8\" font-family=\"Helvetica,sans-Serif\" font-size=\"14.00\">class = NÃO DIABETICO</text>\n</g>\n<!-- 56&#45;&gt;68 -->\n<g id=\"edge68\" class=\"edge\">\n<title>56&#45;&gt;68</title>\n<path fill=\"none\" stroke=\"black\" d=\"M2073,-579.91C2073,-571.65 2073,-562.86 2073,-554.3\"/>\n<polygon fill=\"black\" stroke=\"black\" points=\"2076.5,-554.02 2073,-544.02 2069.5,-554.02 2076.5,-554.02\"/>\n</g>\n<!-- 58 -->\n<g id=\"node59\" class=\"node\">\n<title>58</title>\n<path fill=\"#ffffff\" stroke=\"black\" d=\"M1747,-425C1747,-425 1601,-425 1601,-425 1595,-425 1589,-419 1589,-413 1589,-413 1589,-354 1589,-354 1589,-348 1595,-342 1601,-342 1601,-342 1747,-342 1747,-342 1753,-342 1759,-348 1759,-354 1759,-354 1759,-413 1759,-413 1759,-419 1753,-425 1747,-425\"/>\n<text text-anchor=\"start\" x=\"1626.5\" y=\"-409.8\" font-family=\"Helvetica,sans-Serif\" font-size=\"14.00\">insulina ≤ 168.5</text>\n<text text-anchor=\"start\" x=\"1646\" y=\"-394.8\" font-family=\"Helvetica,sans-Serif\" font-size=\"14.00\">gini = 0.5</text>\n<text text-anchor=\"start\" x=\"1636.5\" y=\"-379.8\" font-family=\"Helvetica,sans-Serif\" font-size=\"14.00\">samples = 2</text>\n<text text-anchor=\"start\" x=\"1634.5\" y=\"-364.8\" font-family=\"Helvetica,sans-Serif\" font-size=\"14.00\">value = [1, 1]</text>\n<text text-anchor=\"start\" x=\"1597\" y=\"-349.8\" font-family=\"Helvetica,sans-Serif\" font-size=\"14.00\">class = NÃO DIABETICO</text>\n</g>\n<!-- 57&#45;&gt;58 -->\n<g id=\"edge58\" class=\"edge\">\n<title>57&#45;&gt;58</title>\n<path fill=\"none\" stroke=\"black\" d=\"M1828.27,-465.44C1806.81,-454.18 1782.85,-441.61 1760.33,-429.8\"/>\n<polygon fill=\"black\" stroke=\"black\" points=\"1761.94,-426.68 1751.45,-425.14 1758.68,-432.88 1761.94,-426.68\"/>\n</g>\n<!-- 61 -->\n<g id=\"node62\" class=\"node\">\n<title>61</title>\n<path fill=\"#48a5e7\" stroke=\"black\" d=\"M1988.5,-425C1988.5,-425 1805.5,-425 1805.5,-425 1799.5,-425 1793.5,-419 1793.5,-413 1793.5,-413 1793.5,-354 1793.5,-354 1793.5,-348 1799.5,-342 1805.5,-342 1805.5,-342 1988.5,-342 1988.5,-342 1994.5,-342 2000.5,-348 2000.5,-354 2000.5,-354 2000.5,-413 2000.5,-413 2000.5,-419 1994.5,-425 1988.5,-425\"/>\n<text text-anchor=\"start\" x=\"1801.5\" y=\"-409.8\" font-family=\"Helvetica,sans-Serif\" font-size=\"14.00\">predisposicao_diabetes ≤ 0.258</text>\n<text text-anchor=\"start\" x=\"1861.5\" y=\"-394.8\" font-family=\"Helvetica,sans-Serif\" font-size=\"14.00\">gini = 0.133</text>\n<text text-anchor=\"start\" x=\"1856\" y=\"-379.8\" font-family=\"Helvetica,sans-Serif\" font-size=\"14.00\">samples = 28</text>\n<text text-anchor=\"start\" x=\"1854\" y=\"-364.8\" font-family=\"Helvetica,sans-Serif\" font-size=\"14.00\">value = [2, 26]</text>\n<text text-anchor=\"start\" x=\"1836.5\" y=\"-349.8\" font-family=\"Helvetica,sans-Serif\" font-size=\"14.00\">class = DIABETICO</text>\n</g>\n<!-- 57&#45;&gt;61 -->\n<g id=\"edge61\" class=\"edge\">\n<title>57&#45;&gt;61</title>\n<path fill=\"none\" stroke=\"black\" d=\"M1897,-460.91C1897,-452.65 1897,-443.86 1897,-435.3\"/>\n<polygon fill=\"black\" stroke=\"black\" points=\"1900.5,-435.02 1897,-425.02 1893.5,-435.02 1900.5,-435.02\"/>\n</g>\n<!-- 59 -->\n<g id=\"node60\" class=\"node\">\n<title>59</title>\n<path fill=\"#e58139\" stroke=\"black\" d=\"M1575,-298.5C1575,-298.5 1429,-298.5 1429,-298.5 1423,-298.5 1417,-292.5 1417,-286.5 1417,-286.5 1417,-242.5 1417,-242.5 1417,-236.5 1423,-230.5 1429,-230.5 1429,-230.5 1575,-230.5 1575,-230.5 1581,-230.5 1587,-236.5 1587,-242.5 1587,-242.5 1587,-286.5 1587,-286.5 1587,-292.5 1581,-298.5 1575,-298.5\"/>\n<text text-anchor=\"start\" x=\"1474\" y=\"-283.3\" font-family=\"Helvetica,sans-Serif\" font-size=\"14.00\">gini = 0.0</text>\n<text text-anchor=\"start\" x=\"1464.5\" y=\"-268.3\" font-family=\"Helvetica,sans-Serif\" font-size=\"14.00\">samples = 1</text>\n<text text-anchor=\"start\" x=\"1462.5\" y=\"-253.3\" font-family=\"Helvetica,sans-Serif\" font-size=\"14.00\">value = [1, 0]</text>\n<text text-anchor=\"start\" x=\"1425\" y=\"-238.3\" font-family=\"Helvetica,sans-Serif\" font-size=\"14.00\">class = NÃO DIABETICO</text>\n</g>\n<!-- 58&#45;&gt;59 -->\n<g id=\"edge59\" class=\"edge\">\n<title>58&#45;&gt;59</title>\n<path fill=\"none\" stroke=\"black\" d=\"M1614.33,-341.91C1596.48,-329.77 1576.96,-316.49 1559.28,-304.46\"/>\n<polygon fill=\"black\" stroke=\"black\" points=\"1561,-301.4 1550.76,-298.67 1557.06,-307.19 1561,-301.4\"/>\n</g>\n<!-- 60 -->\n<g id=\"node61\" class=\"node\">\n<title>60</title>\n<path fill=\"#399de5\" stroke=\"black\" d=\"M1730.5,-298.5C1730.5,-298.5 1617.5,-298.5 1617.5,-298.5 1611.5,-298.5 1605.5,-292.5 1605.5,-286.5 1605.5,-286.5 1605.5,-242.5 1605.5,-242.5 1605.5,-236.5 1611.5,-230.5 1617.5,-230.5 1617.5,-230.5 1730.5,-230.5 1730.5,-230.5 1736.5,-230.5 1742.5,-236.5 1742.5,-242.5 1742.5,-242.5 1742.5,-286.5 1742.5,-286.5 1742.5,-292.5 1736.5,-298.5 1730.5,-298.5\"/>\n<text text-anchor=\"start\" x=\"1646\" y=\"-283.3\" font-family=\"Helvetica,sans-Serif\" font-size=\"14.00\">gini = 0.0</text>\n<text text-anchor=\"start\" x=\"1636.5\" y=\"-268.3\" font-family=\"Helvetica,sans-Serif\" font-size=\"14.00\">samples = 1</text>\n<text text-anchor=\"start\" x=\"1634.5\" y=\"-253.3\" font-family=\"Helvetica,sans-Serif\" font-size=\"14.00\">value = [0, 1]</text>\n<text text-anchor=\"start\" x=\"1613.5\" y=\"-238.3\" font-family=\"Helvetica,sans-Serif\" font-size=\"14.00\">class = DIABETICO</text>\n</g>\n<!-- 58&#45;&gt;60 -->\n<g id=\"edge60\" class=\"edge\">\n<title>58&#45;&gt;60</title>\n<path fill=\"none\" stroke=\"black\" d=\"M1674,-341.91C1674,-331.2 1674,-319.62 1674,-308.78\"/>\n<polygon fill=\"black\" stroke=\"black\" points=\"1677.5,-308.67 1674,-298.67 1670.5,-308.67 1677.5,-308.67\"/>\n</g>\n<!-- 62 -->\n<g id=\"node63\" class=\"node\">\n<title>62</title>\n<path fill=\"#6ab6ec\" stroke=\"black\" d=\"M1885.5,-306C1885.5,-306 1772.5,-306 1772.5,-306 1766.5,-306 1760.5,-300 1760.5,-294 1760.5,-294 1760.5,-235 1760.5,-235 1760.5,-229 1766.5,-223 1772.5,-223 1772.5,-223 1885.5,-223 1885.5,-223 1891.5,-223 1897.5,-229 1897.5,-235 1897.5,-235 1897.5,-294 1897.5,-294 1897.5,-300 1891.5,-306 1885.5,-306\"/>\n<text text-anchor=\"start\" x=\"1795.5\" y=\"-290.8\" font-family=\"Helvetica,sans-Serif\" font-size=\"14.00\">IMC ≤ 32.0</text>\n<text text-anchor=\"start\" x=\"1797\" y=\"-275.8\" font-family=\"Helvetica,sans-Serif\" font-size=\"14.00\">gini = 0.32</text>\n<text text-anchor=\"start\" x=\"1788\" y=\"-260.8\" font-family=\"Helvetica,sans-Serif\" font-size=\"14.00\">samples = 10</text>\n<text text-anchor=\"start\" x=\"1789.5\" y=\"-245.8\" font-family=\"Helvetica,sans-Serif\" font-size=\"14.00\">value = [2, 8]</text>\n<text text-anchor=\"start\" x=\"1768.5\" y=\"-230.8\" font-family=\"Helvetica,sans-Serif\" font-size=\"14.00\">class = DIABETICO</text>\n</g>\n<!-- 61&#45;&gt;62 -->\n<g id=\"edge62\" class=\"edge\">\n<title>61&#45;&gt;62</title>\n<path fill=\"none\" stroke=\"black\" d=\"M1873.41,-341.91C1868.34,-333.2 1862.94,-323.9 1857.71,-314.89\"/>\n<polygon fill=\"black\" stroke=\"black\" points=\"1860.6,-312.91 1852.55,-306.02 1854.55,-316.43 1860.6,-312.91\"/>\n</g>\n<!-- 67 -->\n<g id=\"node68\" class=\"node\">\n<title>67</title>\n<path fill=\"#399de5\" stroke=\"black\" d=\"M2040.5,-298.5C2040.5,-298.5 1927.5,-298.5 1927.5,-298.5 1921.5,-298.5 1915.5,-292.5 1915.5,-286.5 1915.5,-286.5 1915.5,-242.5 1915.5,-242.5 1915.5,-236.5 1921.5,-230.5 1927.5,-230.5 1927.5,-230.5 2040.5,-230.5 2040.5,-230.5 2046.5,-230.5 2052.5,-236.5 2052.5,-242.5 2052.5,-242.5 2052.5,-286.5 2052.5,-286.5 2052.5,-292.5 2046.5,-298.5 2040.5,-298.5\"/>\n<text text-anchor=\"start\" x=\"1956\" y=\"-283.3\" font-family=\"Helvetica,sans-Serif\" font-size=\"14.00\">gini = 0.0</text>\n<text text-anchor=\"start\" x=\"1943\" y=\"-268.3\" font-family=\"Helvetica,sans-Serif\" font-size=\"14.00\">samples = 18</text>\n<text text-anchor=\"start\" x=\"1941\" y=\"-253.3\" font-family=\"Helvetica,sans-Serif\" font-size=\"14.00\">value = [0, 18]</text>\n<text text-anchor=\"start\" x=\"1923.5\" y=\"-238.3\" font-family=\"Helvetica,sans-Serif\" font-size=\"14.00\">class = DIABETICO</text>\n</g>\n<!-- 61&#45;&gt;67 -->\n<g id=\"edge67\" class=\"edge\">\n<title>61&#45;&gt;67</title>\n<path fill=\"none\" stroke=\"black\" d=\"M1927.18,-341.91C1935.64,-330.54 1944.83,-318.18 1953.31,-306.77\"/>\n<polygon fill=\"black\" stroke=\"black\" points=\"1956.18,-308.78 1959.34,-298.67 1950.56,-304.6 1956.18,-308.78\"/>\n</g>\n<!-- 63 -->\n<g id=\"node64\" class=\"node\">\n<title>63</title>\n<path fill=\"#bddef6\" stroke=\"black\" d=\"M1807.5,-187C1807.5,-187 1694.5,-187 1694.5,-187 1688.5,-187 1682.5,-181 1682.5,-175 1682.5,-175 1682.5,-116 1682.5,-116 1682.5,-110 1688.5,-104 1694.5,-104 1694.5,-104 1807.5,-104 1807.5,-104 1813.5,-104 1819.5,-110 1819.5,-116 1819.5,-116 1819.5,-175 1819.5,-175 1819.5,-181 1813.5,-187 1807.5,-187\"/>\n<text text-anchor=\"start\" x=\"1713.5\" y=\"-171.8\" font-family=\"Helvetica,sans-Serif\" font-size=\"14.00\">idade ≤ 40.5</text>\n<text text-anchor=\"start\" x=\"1719\" y=\"-156.8\" font-family=\"Helvetica,sans-Serif\" font-size=\"14.00\">gini = 0.48</text>\n<text text-anchor=\"start\" x=\"1713.5\" y=\"-141.8\" font-family=\"Helvetica,sans-Serif\" font-size=\"14.00\">samples = 5</text>\n<text text-anchor=\"start\" x=\"1711.5\" y=\"-126.8\" font-family=\"Helvetica,sans-Serif\" font-size=\"14.00\">value = [2, 3]</text>\n<text text-anchor=\"start\" x=\"1690.5\" y=\"-111.8\" font-family=\"Helvetica,sans-Serif\" font-size=\"14.00\">class = DIABETICO</text>\n</g>\n<!-- 62&#45;&gt;63 -->\n<g id=\"edge63\" class=\"edge\">\n<title>62&#45;&gt;63</title>\n<path fill=\"none\" stroke=\"black\" d=\"M1801.94,-222.91C1796.07,-214.1 1789.8,-204.7 1783.74,-195.61\"/>\n<polygon fill=\"black\" stroke=\"black\" points=\"1786.47,-193.4 1778.01,-187.02 1780.65,-197.28 1786.47,-193.4\"/>\n</g>\n<!-- 66 -->\n<g id=\"node67\" class=\"node\">\n<title>66</title>\n<path fill=\"#399de5\" stroke=\"black\" d=\"M1962.5,-179.5C1962.5,-179.5 1849.5,-179.5 1849.5,-179.5 1843.5,-179.5 1837.5,-173.5 1837.5,-167.5 1837.5,-167.5 1837.5,-123.5 1837.5,-123.5 1837.5,-117.5 1843.5,-111.5 1849.5,-111.5 1849.5,-111.5 1962.5,-111.5 1962.5,-111.5 1968.5,-111.5 1974.5,-117.5 1974.5,-123.5 1974.5,-123.5 1974.5,-167.5 1974.5,-167.5 1974.5,-173.5 1968.5,-179.5 1962.5,-179.5\"/>\n<text text-anchor=\"start\" x=\"1878\" y=\"-164.3\" font-family=\"Helvetica,sans-Serif\" font-size=\"14.00\">gini = 0.0</text>\n<text text-anchor=\"start\" x=\"1868.5\" y=\"-149.3\" font-family=\"Helvetica,sans-Serif\" font-size=\"14.00\">samples = 5</text>\n<text text-anchor=\"start\" x=\"1866.5\" y=\"-134.3\" font-family=\"Helvetica,sans-Serif\" font-size=\"14.00\">value = [0, 5]</text>\n<text text-anchor=\"start\" x=\"1845.5\" y=\"-119.3\" font-family=\"Helvetica,sans-Serif\" font-size=\"14.00\">class = DIABETICO</text>\n</g>\n<!-- 62&#45;&gt;66 -->\n<g id=\"edge66\" class=\"edge\">\n<title>62&#45;&gt;66</title>\n<path fill=\"none\" stroke=\"black\" d=\"M1855.71,-222.91C1863.12,-211.65 1871.17,-199.42 1878.62,-188.11\"/>\n<polygon fill=\"black\" stroke=\"black\" points=\"1881.6,-189.94 1884.17,-179.67 1875.75,-186.1 1881.6,-189.94\"/>\n</g>\n<!-- 64 -->\n<g id=\"node65\" class=\"node\">\n<title>64</title>\n<path fill=\"#399de5\" stroke=\"black\" d=\"M1721.5,-68C1721.5,-68 1608.5,-68 1608.5,-68 1602.5,-68 1596.5,-62 1596.5,-56 1596.5,-56 1596.5,-12 1596.5,-12 1596.5,-6 1602.5,0 1608.5,0 1608.5,0 1721.5,0 1721.5,0 1727.5,0 1733.5,-6 1733.5,-12 1733.5,-12 1733.5,-56 1733.5,-56 1733.5,-62 1727.5,-68 1721.5,-68\"/>\n<text text-anchor=\"start\" x=\"1637\" y=\"-52.8\" font-family=\"Helvetica,sans-Serif\" font-size=\"14.00\">gini = 0.0</text>\n<text text-anchor=\"start\" x=\"1627.5\" y=\"-37.8\" font-family=\"Helvetica,sans-Serif\" font-size=\"14.00\">samples = 3</text>\n<text text-anchor=\"start\" x=\"1625.5\" y=\"-22.8\" font-family=\"Helvetica,sans-Serif\" font-size=\"14.00\">value = [0, 3]</text>\n<text text-anchor=\"start\" x=\"1604.5\" y=\"-7.8\" font-family=\"Helvetica,sans-Serif\" font-size=\"14.00\">class = DIABETICO</text>\n</g>\n<!-- 63&#45;&gt;64 -->\n<g id=\"edge64\" class=\"edge\">\n<title>63&#45;&gt;64</title>\n<path fill=\"none\" stroke=\"black\" d=\"M1718.98,-103.73C1711.96,-94.79 1704.52,-85.32 1697.48,-76.36\"/>\n<polygon fill=\"black\" stroke=\"black\" points=\"1700.08,-74 1691.15,-68.3 1694.58,-78.33 1700.08,-74\"/>\n</g>\n<!-- 65 -->\n<g id=\"node66\" class=\"node\">\n<title>65</title>\n<path fill=\"#e58139\" stroke=\"black\" d=\"M1910,-68C1910,-68 1764,-68 1764,-68 1758,-68 1752,-62 1752,-56 1752,-56 1752,-12 1752,-12 1752,-6 1758,0 1764,0 1764,0 1910,0 1910,0 1916,0 1922,-6 1922,-12 1922,-12 1922,-56 1922,-56 1922,-62 1916,-68 1910,-68\"/>\n<text text-anchor=\"start\" x=\"1809\" y=\"-52.8\" font-family=\"Helvetica,sans-Serif\" font-size=\"14.00\">gini = 0.0</text>\n<text text-anchor=\"start\" x=\"1799.5\" y=\"-37.8\" font-family=\"Helvetica,sans-Serif\" font-size=\"14.00\">samples = 2</text>\n<text text-anchor=\"start\" x=\"1797.5\" y=\"-22.8\" font-family=\"Helvetica,sans-Serif\" font-size=\"14.00\">value = [2, 0]</text>\n<text text-anchor=\"start\" x=\"1760\" y=\"-7.8\" font-family=\"Helvetica,sans-Serif\" font-size=\"14.00\">class = NÃO DIABETICO</text>\n</g>\n<!-- 63&#45;&gt;65 -->\n<g id=\"edge65\" class=\"edge\">\n<title>63&#45;&gt;65</title>\n<path fill=\"none\" stroke=\"black\" d=\"M1783.02,-103.73C1790.04,-94.79 1797.48,-85.32 1804.52,-76.36\"/>\n<polygon fill=\"black\" stroke=\"black\" points=\"1807.42,-78.33 1810.85,-68.3 1801.92,-74 1807.42,-78.33\"/>\n</g>\n<!-- 69 -->\n<g id=\"node70\" class=\"node\">\n<title>69</title>\n<path fill=\"#9ccef2\" stroke=\"black\" d=\"M2222.5,-425C2222.5,-425 2039.5,-425 2039.5,-425 2033.5,-425 2027.5,-419 2027.5,-413 2027.5,-413 2027.5,-354 2027.5,-354 2027.5,-348 2033.5,-342 2039.5,-342 2039.5,-342 2222.5,-342 2222.5,-342 2228.5,-342 2234.5,-348 2234.5,-354 2234.5,-354 2234.5,-413 2234.5,-413 2234.5,-419 2228.5,-425 2222.5,-425\"/>\n<text text-anchor=\"start\" x=\"2035.5\" y=\"-409.8\" font-family=\"Helvetica,sans-Serif\" font-size=\"14.00\">predisposicao_diabetes ≤ 0.793</text>\n<text text-anchor=\"start\" x=\"2095.5\" y=\"-394.8\" font-family=\"Helvetica,sans-Serif\" font-size=\"14.00\">gini = 0.444</text>\n<text text-anchor=\"start\" x=\"2093.5\" y=\"-379.8\" font-family=\"Helvetica,sans-Serif\" font-size=\"14.00\">samples = 3</text>\n<text text-anchor=\"start\" x=\"2091.5\" y=\"-364.8\" font-family=\"Helvetica,sans-Serif\" font-size=\"14.00\">value = [1, 2]</text>\n<text text-anchor=\"start\" x=\"2070.5\" y=\"-349.8\" font-family=\"Helvetica,sans-Serif\" font-size=\"14.00\">class = DIABETICO</text>\n</g>\n<!-- 68&#45;&gt;69 -->\n<g id=\"edge69\" class=\"edge\">\n<title>68&#45;&gt;69</title>\n<path fill=\"none\" stroke=\"black\" d=\"M2093.12,-460.91C2097.4,-452.29 2101.96,-443.09 2106.37,-434.17\"/>\n<polygon fill=\"black\" stroke=\"black\" points=\"2109.61,-435.53 2110.91,-425.02 2103.34,-432.43 2109.61,-435.53\"/>\n</g>\n<!-- 72 -->\n<g id=\"node73\" class=\"node\">\n<title>72</title>\n<path fill=\"#e58139\" stroke=\"black\" d=\"M2411,-417.5C2411,-417.5 2265,-417.5 2265,-417.5 2259,-417.5 2253,-411.5 2253,-405.5 2253,-405.5 2253,-361.5 2253,-361.5 2253,-355.5 2259,-349.5 2265,-349.5 2265,-349.5 2411,-349.5 2411,-349.5 2417,-349.5 2423,-355.5 2423,-361.5 2423,-361.5 2423,-405.5 2423,-405.5 2423,-411.5 2417,-417.5 2411,-417.5\"/>\n<text text-anchor=\"start\" x=\"2310\" y=\"-402.3\" font-family=\"Helvetica,sans-Serif\" font-size=\"14.00\">gini = 0.0</text>\n<text text-anchor=\"start\" x=\"2300.5\" y=\"-387.3\" font-family=\"Helvetica,sans-Serif\" font-size=\"14.00\">samples = 2</text>\n<text text-anchor=\"start\" x=\"2298.5\" y=\"-372.3\" font-family=\"Helvetica,sans-Serif\" font-size=\"14.00\">value = [2, 0]</text>\n<text text-anchor=\"start\" x=\"2261\" y=\"-357.3\" font-family=\"Helvetica,sans-Serif\" font-size=\"14.00\">class = NÃO DIABETICO</text>\n</g>\n<!-- 68&#45;&gt;72 -->\n<g id=\"edge72\" class=\"edge\">\n<title>68&#45;&gt;72</title>\n<path fill=\"none\" stroke=\"black\" d=\"M2158.31,-463.84C2188.88,-450.34 2223.32,-435.13 2253.8,-421.67\"/>\n<polygon fill=\"black\" stroke=\"black\" points=\"2255.39,-424.8 2263.13,-417.56 2252.57,-418.39 2255.39,-424.8\"/>\n</g>\n<!-- 70 -->\n<g id=\"node71\" class=\"node\">\n<title>70</title>\n<path fill=\"#399de5\" stroke=\"black\" d=\"M2195.5,-298.5C2195.5,-298.5 2082.5,-298.5 2082.5,-298.5 2076.5,-298.5 2070.5,-292.5 2070.5,-286.5 2070.5,-286.5 2070.5,-242.5 2070.5,-242.5 2070.5,-236.5 2076.5,-230.5 2082.5,-230.5 2082.5,-230.5 2195.5,-230.5 2195.5,-230.5 2201.5,-230.5 2207.5,-236.5 2207.5,-242.5 2207.5,-242.5 2207.5,-286.5 2207.5,-286.5 2207.5,-292.5 2201.5,-298.5 2195.5,-298.5\"/>\n<text text-anchor=\"start\" x=\"2111\" y=\"-283.3\" font-family=\"Helvetica,sans-Serif\" font-size=\"14.00\">gini = 0.0</text>\n<text text-anchor=\"start\" x=\"2101.5\" y=\"-268.3\" font-family=\"Helvetica,sans-Serif\" font-size=\"14.00\">samples = 2</text>\n<text text-anchor=\"start\" x=\"2099.5\" y=\"-253.3\" font-family=\"Helvetica,sans-Serif\" font-size=\"14.00\">value = [0, 2]</text>\n<text text-anchor=\"start\" x=\"2078.5\" y=\"-238.3\" font-family=\"Helvetica,sans-Serif\" font-size=\"14.00\">class = DIABETICO</text>\n</g>\n<!-- 69&#45;&gt;70 -->\n<g id=\"edge70\" class=\"edge\">\n<title>69&#45;&gt;70</title>\n<path fill=\"none\" stroke=\"black\" d=\"M2133.78,-341.91C2134.51,-331.2 2135.3,-319.62 2136.04,-308.78\"/>\n<polygon fill=\"black\" stroke=\"black\" points=\"2139.54,-308.88 2136.73,-298.67 2132.56,-308.4 2139.54,-308.88\"/>\n</g>\n<!-- 71 -->\n<g id=\"node72\" class=\"node\">\n<title>71</title>\n<path fill=\"#e58139\" stroke=\"black\" d=\"M2384,-298.5C2384,-298.5 2238,-298.5 2238,-298.5 2232,-298.5 2226,-292.5 2226,-286.5 2226,-286.5 2226,-242.5 2226,-242.5 2226,-236.5 2232,-230.5 2238,-230.5 2238,-230.5 2384,-230.5 2384,-230.5 2390,-230.5 2396,-236.5 2396,-242.5 2396,-242.5 2396,-286.5 2396,-286.5 2396,-292.5 2390,-298.5 2384,-298.5\"/>\n<text text-anchor=\"start\" x=\"2283\" y=\"-283.3\" font-family=\"Helvetica,sans-Serif\" font-size=\"14.00\">gini = 0.0</text>\n<text text-anchor=\"start\" x=\"2273.5\" y=\"-268.3\" font-family=\"Helvetica,sans-Serif\" font-size=\"14.00\">samples = 1</text>\n<text text-anchor=\"start\" x=\"2271.5\" y=\"-253.3\" font-family=\"Helvetica,sans-Serif\" font-size=\"14.00\">value = [1, 0]</text>\n<text text-anchor=\"start\" x=\"2234\" y=\"-238.3\" font-family=\"Helvetica,sans-Serif\" font-size=\"14.00\">class = NÃO DIABETICO</text>\n</g>\n<!-- 69&#45;&gt;71 -->\n<g id=\"edge71\" class=\"edge\">\n<title>69&#45;&gt;71</title>\n<path fill=\"none\" stroke=\"black\" d=\"M2193.45,-341.91C2212.29,-329.66 2232.92,-316.25 2251.56,-304.13\"/>\n<polygon fill=\"black\" stroke=\"black\" points=\"2253.5,-307.05 2259.97,-298.67 2249.68,-301.18 2253.5,-307.05\"/>\n</g>\n<!-- 74 -->\n<g id=\"node75\" class=\"node\">\n<title>74</title>\n<path fill=\"#e58139\" stroke=\"black\" d=\"M2334,-536.5C2334,-536.5 2188,-536.5 2188,-536.5 2182,-536.5 2176,-530.5 2176,-524.5 2176,-524.5 2176,-480.5 2176,-480.5 2176,-474.5 2182,-468.5 2188,-468.5 2188,-468.5 2334,-468.5 2334,-468.5 2340,-468.5 2346,-474.5 2346,-480.5 2346,-480.5 2346,-524.5 2346,-524.5 2346,-530.5 2340,-536.5 2334,-536.5\"/>\n<text text-anchor=\"start\" x=\"2233\" y=\"-521.3\" font-family=\"Helvetica,sans-Serif\" font-size=\"14.00\">gini = 0.0</text>\n<text text-anchor=\"start\" x=\"2223.5\" y=\"-506.3\" font-family=\"Helvetica,sans-Serif\" font-size=\"14.00\">samples = 3</text>\n<text text-anchor=\"start\" x=\"2221.5\" y=\"-491.3\" font-family=\"Helvetica,sans-Serif\" font-size=\"14.00\">value = [3, 0]</text>\n<text text-anchor=\"start\" x=\"2184\" y=\"-476.3\" font-family=\"Helvetica,sans-Serif\" font-size=\"14.00\">class = NÃO DIABETICO</text>\n</g>\n<!-- 73&#45;&gt;74 -->\n<g id=\"edge74\" class=\"edge\">\n<title>73&#45;&gt;74</title>\n<path fill=\"none\" stroke=\"black\" d=\"M2261,-579.91C2261,-569.2 2261,-557.62 2261,-546.78\"/>\n<polygon fill=\"black\" stroke=\"black\" points=\"2264.5,-546.67 2261,-536.67 2257.5,-546.67 2264.5,-546.67\"/>\n</g>\n<!-- 75 -->\n<g id=\"node76\" class=\"node\">\n<title>75</title>\n<path fill=\"#399de5\" stroke=\"black\" d=\"M2489.5,-536.5C2489.5,-536.5 2376.5,-536.5 2376.5,-536.5 2370.5,-536.5 2364.5,-530.5 2364.5,-524.5 2364.5,-524.5 2364.5,-480.5 2364.5,-480.5 2364.5,-474.5 2370.5,-468.5 2376.5,-468.5 2376.5,-468.5 2489.5,-468.5 2489.5,-468.5 2495.5,-468.5 2501.5,-474.5 2501.5,-480.5 2501.5,-480.5 2501.5,-524.5 2501.5,-524.5 2501.5,-530.5 2495.5,-536.5 2489.5,-536.5\"/>\n<text text-anchor=\"start\" x=\"2405\" y=\"-521.3\" font-family=\"Helvetica,sans-Serif\" font-size=\"14.00\">gini = 0.0</text>\n<text text-anchor=\"start\" x=\"2395.5\" y=\"-506.3\" font-family=\"Helvetica,sans-Serif\" font-size=\"14.00\">samples = 2</text>\n<text text-anchor=\"start\" x=\"2393.5\" y=\"-491.3\" font-family=\"Helvetica,sans-Serif\" font-size=\"14.00\">value = [0, 2]</text>\n<text text-anchor=\"start\" x=\"2372.5\" y=\"-476.3\" font-family=\"Helvetica,sans-Serif\" font-size=\"14.00\">class = DIABETICO</text>\n</g>\n<!-- 73&#45;&gt;75 -->\n<g id=\"edge75\" class=\"edge\">\n<title>73&#45;&gt;75</title>\n<path fill=\"none\" stroke=\"black\" d=\"M2320.67,-579.91C2338.52,-567.77 2358.04,-554.49 2375.72,-542.46\"/>\n<polygon fill=\"black\" stroke=\"black\" points=\"2377.94,-545.19 2384.24,-536.67 2374,-539.4 2377.94,-545.19\"/>\n</g>\n<!-- 77 -->\n<g id=\"node78\" class=\"node\">\n<title>77</title>\n<path fill=\"#fdf7f3\" stroke=\"black\" d=\"M2888,-1258C2888,-1258 2742,-1258 2742,-1258 2736,-1258 2730,-1252 2730,-1246 2730,-1246 2730,-1187 2730,-1187 2730,-1181 2736,-1175 2742,-1175 2742,-1175 2888,-1175 2888,-1175 2894,-1175 2900,-1181 2900,-1187 2900,-1187 2900,-1246 2900,-1246 2900,-1252 2894,-1258 2888,-1258\"/>\n<text text-anchor=\"start\" x=\"2769.5\" y=\"-1242.8\" font-family=\"Helvetica,sans-Serif\" font-size=\"14.00\">glicose ≤ 154.5</text>\n<text text-anchor=\"start\" x=\"2779.5\" y=\"-1227.8\" font-family=\"Helvetica,sans-Serif\" font-size=\"14.00\">gini = 0.499</text>\n<text text-anchor=\"start\" x=\"2774\" y=\"-1212.8\" font-family=\"Helvetica,sans-Serif\" font-size=\"14.00\">samples = 31</text>\n<text text-anchor=\"start\" x=\"2768\" y=\"-1197.8\" font-family=\"Helvetica,sans-Serif\" font-size=\"14.00\">value = [16, 15]</text>\n<text text-anchor=\"start\" x=\"2738\" y=\"-1182.8\" font-family=\"Helvetica,sans-Serif\" font-size=\"14.00\">class = NÃO DIABETICO</text>\n</g>\n<!-- 76&#45;&gt;77 -->\n<g id=\"edge77\" class=\"edge\">\n<title>76&#45;&gt;77</title>\n<path fill=\"none\" stroke=\"black\" d=\"M2815,-1293.91C2815,-1285.65 2815,-1276.86 2815,-1268.3\"/>\n<polygon fill=\"black\" stroke=\"black\" points=\"2818.5,-1268.02 2815,-1258.02 2811.5,-1268.02 2818.5,-1268.02\"/>\n</g>\n<!-- 92 -->\n<g id=\"node93\" class=\"node\">\n<title>92</title>\n<path fill=\"#46a3e7\" stroke=\"black\" d=\"M3299.5,-1258C3299.5,-1258 3186.5,-1258 3186.5,-1258 3180.5,-1258 3174.5,-1252 3174.5,-1246 3174.5,-1246 3174.5,-1187 3174.5,-1187 3174.5,-1181 3180.5,-1175 3186.5,-1175 3186.5,-1175 3299.5,-1175 3299.5,-1175 3305.5,-1175 3311.5,-1181 3311.5,-1187 3311.5,-1187 3311.5,-1246 3311.5,-1246 3311.5,-1252 3305.5,-1258 3299.5,-1258\"/>\n<text text-anchor=\"start\" x=\"3205.5\" y=\"-1242.8\" font-family=\"Helvetica,sans-Serif\" font-size=\"14.00\">IMC ≤ 35.15</text>\n<text text-anchor=\"start\" x=\"3207.5\" y=\"-1227.8\" font-family=\"Helvetica,sans-Serif\" font-size=\"14.00\">gini = 0.113</text>\n<text text-anchor=\"start\" x=\"3198\" y=\"-1212.8\" font-family=\"Helvetica,sans-Serif\" font-size=\"14.00\">samples = 116</text>\n<text text-anchor=\"start\" x=\"3196\" y=\"-1197.8\" font-family=\"Helvetica,sans-Serif\" font-size=\"14.00\">value = [7, 109]</text>\n<text text-anchor=\"start\" x=\"3182.5\" y=\"-1182.8\" font-family=\"Helvetica,sans-Serif\" font-size=\"14.00\">class = DIABETICO</text>\n</g>\n<!-- 76&#45;&gt;92 -->\n<g id=\"edge92\" class=\"edge\">\n<title>76&#45;&gt;92</title>\n<path fill=\"none\" stroke=\"black\" d=\"M2883.77,-1315.7C2960.36,-1294.76 3083.95,-1260.98 3164.34,-1239\"/>\n<polygon fill=\"black\" stroke=\"black\" points=\"3165.68,-1242.26 3174.41,-1236.25 3163.84,-1235.51 3165.68,-1242.26\"/>\n</g>\n<!-- 78 -->\n<g id=\"node79\" class=\"node\">\n<title>78</title>\n<path fill=\"#f0b78e\" stroke=\"black\" d=\"M2802,-1139C2802,-1139 2656,-1139 2656,-1139 2650,-1139 2644,-1133 2644,-1127 2644,-1127 2644,-1068 2644,-1068 2644,-1062 2650,-1056 2656,-1056 2656,-1056 2802,-1056 2802,-1056 2808,-1056 2814,-1062 2814,-1068 2814,-1068 2814,-1127 2814,-1127 2814,-1133 2808,-1139 2802,-1139\"/>\n<text text-anchor=\"start\" x=\"2686.5\" y=\"-1123.8\" font-family=\"Helvetica,sans-Serif\" font-size=\"14.00\">gravidez ≤ 9.0</text>\n<text text-anchor=\"start\" x=\"2697\" y=\"-1108.8\" font-family=\"Helvetica,sans-Serif\" font-size=\"14.00\">gini = 0.42</text>\n<text text-anchor=\"start\" x=\"2688\" y=\"-1093.8\" font-family=\"Helvetica,sans-Serif\" font-size=\"14.00\">samples = 20</text>\n<text text-anchor=\"start\" x=\"2686\" y=\"-1078.8\" font-family=\"Helvetica,sans-Serif\" font-size=\"14.00\">value = [14, 6]</text>\n<text text-anchor=\"start\" x=\"2652\" y=\"-1063.8\" font-family=\"Helvetica,sans-Serif\" font-size=\"14.00\">class = NÃO DIABETICO</text>\n</g>\n<!-- 77&#45;&gt;78 -->\n<g id=\"edge78\" class=\"edge\">\n<title>77&#45;&gt;78</title>\n<path fill=\"none\" stroke=\"black\" d=\"M2785.16,-1174.91C2778.63,-1166.01 2771.64,-1156.51 2764.89,-1147.33\"/>\n<polygon fill=\"black\" stroke=\"black\" points=\"2767.53,-1145.01 2758.78,-1139.02 2761.89,-1149.15 2767.53,-1145.01\"/>\n</g>\n<!-- 89 -->\n<g id=\"node90\" class=\"node\">\n<title>89</title>\n<path fill=\"#65b3eb\" stroke=\"black\" d=\"M2957.5,-1139C2957.5,-1139 2844.5,-1139 2844.5,-1139 2838.5,-1139 2832.5,-1133 2832.5,-1127 2832.5,-1127 2832.5,-1068 2832.5,-1068 2832.5,-1062 2838.5,-1056 2844.5,-1056 2844.5,-1056 2957.5,-1056 2957.5,-1056 2963.5,-1056 2969.5,-1062 2969.5,-1068 2969.5,-1068 2969.5,-1127 2969.5,-1127 2969.5,-1133 2963.5,-1139 2957.5,-1139\"/>\n<text text-anchor=\"start\" x=\"2863.5\" y=\"-1123.8\" font-family=\"Helvetica,sans-Serif\" font-size=\"14.00\">idade ≤ 61.0</text>\n<text text-anchor=\"start\" x=\"2865.5\" y=\"-1108.8\" font-family=\"Helvetica,sans-Serif\" font-size=\"14.00\">gini = 0.298</text>\n<text text-anchor=\"start\" x=\"2860\" y=\"-1093.8\" font-family=\"Helvetica,sans-Serif\" font-size=\"14.00\">samples = 11</text>\n<text text-anchor=\"start\" x=\"2861.5\" y=\"-1078.8\" font-family=\"Helvetica,sans-Serif\" font-size=\"14.00\">value = [2, 9]</text>\n<text text-anchor=\"start\" x=\"2840.5\" y=\"-1063.8\" font-family=\"Helvetica,sans-Serif\" font-size=\"14.00\">class = DIABETICO</text>\n</g>\n<!-- 77&#45;&gt;89 -->\n<g id=\"edge89\" class=\"edge\">\n<title>77&#45;&gt;89</title>\n<path fill=\"none\" stroke=\"black\" d=\"M2844.84,-1174.91C2851.37,-1166.01 2858.36,-1156.51 2865.11,-1147.33\"/>\n<polygon fill=\"black\" stroke=\"black\" points=\"2868.11,-1149.15 2871.22,-1139.02 2862.47,-1145.01 2868.11,-1149.15\"/>\n</g>\n<!-- 79 -->\n<g id=\"node80\" class=\"node\">\n<title>79</title>\n<path fill=\"#eca572\" stroke=\"black\" d=\"M2635,-1020C2635,-1020 2489,-1020 2489,-1020 2483,-1020 2477,-1014 2477,-1008 2477,-1008 2477,-949 2477,-949 2477,-943 2483,-937 2489,-937 2489,-937 2635,-937 2635,-937 2641,-937 2647,-943 2647,-949 2647,-949 2647,-1008 2647,-1008 2647,-1014 2641,-1020 2635,-1020\"/>\n<text text-anchor=\"start\" x=\"2491\" y=\"-1004.8\" font-family=\"Helvetica,sans-Serif\" font-size=\"14.00\">pressao_sangue ≤ 55.0</text>\n<text text-anchor=\"start\" x=\"2526.5\" y=\"-989.8\" font-family=\"Helvetica,sans-Serif\" font-size=\"14.00\">gini = 0.346</text>\n<text text-anchor=\"start\" x=\"2521\" y=\"-974.8\" font-family=\"Helvetica,sans-Serif\" font-size=\"14.00\">samples = 18</text>\n<text text-anchor=\"start\" x=\"2519\" y=\"-959.8\" font-family=\"Helvetica,sans-Serif\" font-size=\"14.00\">value = [14, 4]</text>\n<text text-anchor=\"start\" x=\"2485\" y=\"-944.8\" font-family=\"Helvetica,sans-Serif\" font-size=\"14.00\">class = NÃO DIABETICO</text>\n</g>\n<!-- 78&#45;&gt;79 -->\n<g id=\"edge79\" class=\"edge\">\n<title>78&#45;&gt;79</title>\n<path fill=\"none\" stroke=\"black\" d=\"M2671.06,-1055.91C2657.2,-1046.2 2642.3,-1035.76 2628.1,-1025.81\"/>\n<polygon fill=\"black\" stroke=\"black\" points=\"2630.04,-1022.89 2619.84,-1020.02 2626.02,-1028.63 2630.04,-1022.89\"/>\n</g>\n<!-- 88 -->\n<g id=\"node89\" class=\"node\">\n<title>88</title>\n<path fill=\"#399de5\" stroke=\"black\" d=\"M2790.5,-1012.5C2790.5,-1012.5 2677.5,-1012.5 2677.5,-1012.5 2671.5,-1012.5 2665.5,-1006.5 2665.5,-1000.5 2665.5,-1000.5 2665.5,-956.5 2665.5,-956.5 2665.5,-950.5 2671.5,-944.5 2677.5,-944.5 2677.5,-944.5 2790.5,-944.5 2790.5,-944.5 2796.5,-944.5 2802.5,-950.5 2802.5,-956.5 2802.5,-956.5 2802.5,-1000.5 2802.5,-1000.5 2802.5,-1006.5 2796.5,-1012.5 2790.5,-1012.5\"/>\n<text text-anchor=\"start\" x=\"2706\" y=\"-997.3\" font-family=\"Helvetica,sans-Serif\" font-size=\"14.00\">gini = 0.0</text>\n<text text-anchor=\"start\" x=\"2696.5\" y=\"-982.3\" font-family=\"Helvetica,sans-Serif\" font-size=\"14.00\">samples = 2</text>\n<text text-anchor=\"start\" x=\"2694.5\" y=\"-967.3\" font-family=\"Helvetica,sans-Serif\" font-size=\"14.00\">value = [0, 2]</text>\n<text text-anchor=\"start\" x=\"2673.5\" y=\"-952.3\" font-family=\"Helvetica,sans-Serif\" font-size=\"14.00\">class = DIABETICO</text>\n</g>\n<!-- 78&#45;&gt;88 -->\n<g id=\"edge88\" class=\"edge\">\n<title>78&#45;&gt;88</title>\n<path fill=\"none\" stroke=\"black\" d=\"M2730.73,-1055.91C2731.19,-1045.2 2731.69,-1033.62 2732.15,-1022.78\"/>\n<polygon fill=\"black\" stroke=\"black\" points=\"2735.65,-1022.81 2732.58,-1012.67 2728.66,-1022.51 2735.65,-1022.81\"/>\n</g>\n<!-- 80 -->\n<g id=\"node81\" class=\"node\">\n<title>80</title>\n<path fill=\"#399de5\" stroke=\"black\" d=\"M2617.5,-893.5C2617.5,-893.5 2504.5,-893.5 2504.5,-893.5 2498.5,-893.5 2492.5,-887.5 2492.5,-881.5 2492.5,-881.5 2492.5,-837.5 2492.5,-837.5 2492.5,-831.5 2498.5,-825.5 2504.5,-825.5 2504.5,-825.5 2617.5,-825.5 2617.5,-825.5 2623.5,-825.5 2629.5,-831.5 2629.5,-837.5 2629.5,-837.5 2629.5,-881.5 2629.5,-881.5 2629.5,-887.5 2623.5,-893.5 2617.5,-893.5\"/>\n<text text-anchor=\"start\" x=\"2533\" y=\"-878.3\" font-family=\"Helvetica,sans-Serif\" font-size=\"14.00\">gini = 0.0</text>\n<text text-anchor=\"start\" x=\"2523.5\" y=\"-863.3\" font-family=\"Helvetica,sans-Serif\" font-size=\"14.00\">samples = 2</text>\n<text text-anchor=\"start\" x=\"2521.5\" y=\"-848.3\" font-family=\"Helvetica,sans-Serif\" font-size=\"14.00\">value = [0, 2]</text>\n<text text-anchor=\"start\" x=\"2500.5\" y=\"-833.3\" font-family=\"Helvetica,sans-Serif\" font-size=\"14.00\">class = DIABETICO</text>\n</g>\n<!-- 79&#45;&gt;80 -->\n<g id=\"edge80\" class=\"edge\">\n<title>79&#45;&gt;80</title>\n<path fill=\"none\" stroke=\"black\" d=\"M2561.65,-936.91C2561.56,-926.2 2561.46,-914.62 2561.37,-903.78\"/>\n<polygon fill=\"black\" stroke=\"black\" points=\"2564.87,-903.64 2561.28,-893.67 2557.87,-903.7 2564.87,-903.64\"/>\n</g>\n<!-- 81 -->\n<g id=\"node82\" class=\"node\">\n<title>81</title>\n<path fill=\"#e99355\" stroke=\"black\" d=\"M2806,-901C2806,-901 2660,-901 2660,-901 2654,-901 2648,-895 2648,-889 2648,-889 2648,-830 2648,-830 2648,-824 2654,-818 2660,-818 2660,-818 2806,-818 2806,-818 2812,-818 2818,-824 2818,-830 2818,-830 2818,-889 2818,-889 2818,-895 2812,-901 2806,-901\"/>\n<text text-anchor=\"start\" x=\"2685.5\" y=\"-885.8\" font-family=\"Helvetica,sans-Serif\" font-size=\"14.00\">insulina ≤ 343.0</text>\n<text text-anchor=\"start\" x=\"2697.5\" y=\"-870.8\" font-family=\"Helvetica,sans-Serif\" font-size=\"14.00\">gini = 0.219</text>\n<text text-anchor=\"start\" x=\"2692\" y=\"-855.8\" font-family=\"Helvetica,sans-Serif\" font-size=\"14.00\">samples = 16</text>\n<text text-anchor=\"start\" x=\"2690\" y=\"-840.8\" font-family=\"Helvetica,sans-Serif\" font-size=\"14.00\">value = [14, 2]</text>\n<text text-anchor=\"start\" x=\"2656\" y=\"-825.8\" font-family=\"Helvetica,sans-Serif\" font-size=\"14.00\">class = NÃO DIABETICO</text>\n</g>\n<!-- 79&#45;&gt;81 -->\n<g id=\"edge81\" class=\"edge\">\n<title>79&#45;&gt;81</title>\n<path fill=\"none\" stroke=\"black\" d=\"M2621.33,-936.91C2635.52,-927.2 2650.78,-916.76 2665.31,-906.81\"/>\n<polygon fill=\"black\" stroke=\"black\" points=\"2667.5,-909.56 2673.78,-901.02 2663.55,-903.78 2667.5,-909.56\"/>\n</g>\n<!-- 82 -->\n<g id=\"node83\" class=\"node\">\n<title>82</title>\n<path fill=\"#e78a47\" stroke=\"black\" d=\"M2690,-782C2690,-782 2544,-782 2544,-782 2538,-782 2532,-776 2532,-770 2532,-770 2532,-711 2532,-711 2532,-705 2538,-699 2544,-699 2544,-699 2690,-699 2690,-699 2696,-699 2702,-705 2702,-711 2702,-711 2702,-770 2702,-770 2702,-776 2696,-782 2690,-782\"/>\n<text text-anchor=\"start\" x=\"2583.5\" y=\"-766.8\" font-family=\"Helvetica,sans-Serif\" font-size=\"14.00\">IMC ≤ 24.0</text>\n<text text-anchor=\"start\" x=\"2581.5\" y=\"-751.8\" font-family=\"Helvetica,sans-Serif\" font-size=\"14.00\">gini = 0.124</text>\n<text text-anchor=\"start\" x=\"2576\" y=\"-736.8\" font-family=\"Helvetica,sans-Serif\" font-size=\"14.00\">samples = 15</text>\n<text text-anchor=\"start\" x=\"2574\" y=\"-721.8\" font-family=\"Helvetica,sans-Serif\" font-size=\"14.00\">value = [14, 1]</text>\n<text text-anchor=\"start\" x=\"2540\" y=\"-706.8\" font-family=\"Helvetica,sans-Serif\" font-size=\"14.00\">class = NÃO DIABETICO</text>\n</g>\n<!-- 81&#45;&gt;82 -->\n<g id=\"edge82\" class=\"edge\">\n<title>81&#45;&gt;82</title>\n<path fill=\"none\" stroke=\"black\" d=\"M2692.75,-817.91C2683.58,-808.65 2673.74,-798.73 2664.3,-789.21\"/>\n<polygon fill=\"black\" stroke=\"black\" points=\"2666.7,-786.66 2657.17,-782.02 2661.73,-791.59 2666.7,-786.66\"/>\n</g>\n<!-- 87 -->\n<g id=\"node88\" class=\"node\">\n<title>87</title>\n<path fill=\"#399de5\" stroke=\"black\" d=\"M2845.5,-774.5C2845.5,-774.5 2732.5,-774.5 2732.5,-774.5 2726.5,-774.5 2720.5,-768.5 2720.5,-762.5 2720.5,-762.5 2720.5,-718.5 2720.5,-718.5 2720.5,-712.5 2726.5,-706.5 2732.5,-706.5 2732.5,-706.5 2845.5,-706.5 2845.5,-706.5 2851.5,-706.5 2857.5,-712.5 2857.5,-718.5 2857.5,-718.5 2857.5,-762.5 2857.5,-762.5 2857.5,-768.5 2851.5,-774.5 2845.5,-774.5\"/>\n<text text-anchor=\"start\" x=\"2761\" y=\"-759.3\" font-family=\"Helvetica,sans-Serif\" font-size=\"14.00\">gini = 0.0</text>\n<text text-anchor=\"start\" x=\"2751.5\" y=\"-744.3\" font-family=\"Helvetica,sans-Serif\" font-size=\"14.00\">samples = 1</text>\n<text text-anchor=\"start\" x=\"2749.5\" y=\"-729.3\" font-family=\"Helvetica,sans-Serif\" font-size=\"14.00\">value = [0, 1]</text>\n<text text-anchor=\"start\" x=\"2728.5\" y=\"-714.3\" font-family=\"Helvetica,sans-Serif\" font-size=\"14.00\">class = DIABETICO</text>\n</g>\n<!-- 81&#45;&gt;87 -->\n<g id=\"edge87\" class=\"edge\">\n<title>81&#45;&gt;87</title>\n<path fill=\"none\" stroke=\"black\" d=\"M2752.43,-817.91C2757.71,-806.87 2763.44,-794.9 2768.77,-783.77\"/>\n<polygon fill=\"black\" stroke=\"black\" points=\"2771.96,-785.2 2773.13,-774.67 2765.65,-782.18 2771.96,-785.2\"/>\n</g>\n<!-- 83 -->\n<g id=\"node84\" class=\"node\">\n<title>83</title>\n<path fill=\"#f2c09c\" stroke=\"black\" d=\"M2679.5,-663C2679.5,-663 2496.5,-663 2496.5,-663 2490.5,-663 2484.5,-657 2484.5,-651 2484.5,-651 2484.5,-592 2484.5,-592 2484.5,-586 2490.5,-580 2496.5,-580 2496.5,-580 2679.5,-580 2679.5,-580 2685.5,-580 2691.5,-586 2691.5,-592 2691.5,-592 2691.5,-651 2691.5,-651 2691.5,-657 2685.5,-663 2679.5,-663\"/>\n<text text-anchor=\"start\" x=\"2492.5\" y=\"-647.8\" font-family=\"Helvetica,sans-Serif\" font-size=\"14.00\">predisposicao_diabetes ≤ 0.296</text>\n<text text-anchor=\"start\" x=\"2552.5\" y=\"-632.8\" font-family=\"Helvetica,sans-Serif\" font-size=\"14.00\">gini = 0.444</text>\n<text text-anchor=\"start\" x=\"2550.5\" y=\"-617.8\" font-family=\"Helvetica,sans-Serif\" font-size=\"14.00\">samples = 3</text>\n<text text-anchor=\"start\" x=\"2548.5\" y=\"-602.8\" font-family=\"Helvetica,sans-Serif\" font-size=\"14.00\">value = [2, 1]</text>\n<text text-anchor=\"start\" x=\"2511\" y=\"-587.8\" font-family=\"Helvetica,sans-Serif\" font-size=\"14.00\">class = NÃO DIABETICO</text>\n</g>\n<!-- 82&#45;&gt;83 -->\n<g id=\"edge83\" class=\"edge\">\n<title>82&#45;&gt;83</title>\n<path fill=\"none\" stroke=\"black\" d=\"M2606.94,-698.91C2604.85,-690.47 2602.62,-681.48 2600.45,-672.74\"/>\n<polygon fill=\"black\" stroke=\"black\" points=\"2603.85,-671.89 2598.04,-663.02 2597.05,-673.57 2603.85,-671.89\"/>\n</g>\n<!-- 86 -->\n<g id=\"node87\" class=\"node\">\n<title>86</title>\n<path fill=\"#e58139\" stroke=\"black\" d=\"M2868,-655.5C2868,-655.5 2722,-655.5 2722,-655.5 2716,-655.5 2710,-649.5 2710,-643.5 2710,-643.5 2710,-599.5 2710,-599.5 2710,-593.5 2716,-587.5 2722,-587.5 2722,-587.5 2868,-587.5 2868,-587.5 2874,-587.5 2880,-593.5 2880,-599.5 2880,-599.5 2880,-643.5 2880,-643.5 2880,-649.5 2874,-655.5 2868,-655.5\"/>\n<text text-anchor=\"start\" x=\"2767\" y=\"-640.3\" font-family=\"Helvetica,sans-Serif\" font-size=\"14.00\">gini = 0.0</text>\n<text text-anchor=\"start\" x=\"2754\" y=\"-625.3\" font-family=\"Helvetica,sans-Serif\" font-size=\"14.00\">samples = 12</text>\n<text text-anchor=\"start\" x=\"2752\" y=\"-610.3\" font-family=\"Helvetica,sans-Serif\" font-size=\"14.00\">value = [12, 0]</text>\n<text text-anchor=\"start\" x=\"2718\" y=\"-595.3\" font-family=\"Helvetica,sans-Serif\" font-size=\"14.00\">class = NÃO DIABETICO</text>\n</g>\n<!-- 82&#45;&gt;86 -->\n<g id=\"edge86\" class=\"edge\">\n<title>82&#45;&gt;86</title>\n<path fill=\"none\" stroke=\"black\" d=\"M2678.76,-698.91C2697.22,-686.77 2717.42,-673.49 2735.72,-661.46\"/>\n<polygon fill=\"black\" stroke=\"black\" points=\"2738.11,-664.08 2744.54,-655.67 2734.26,-658.23 2738.11,-664.08\"/>\n</g>\n<!-- 84 -->\n<g id=\"node85\" class=\"node\">\n<title>84</title>\n<path fill=\"#399de5\" stroke=\"black\" d=\"M2644.5,-536.5C2644.5,-536.5 2531.5,-536.5 2531.5,-536.5 2525.5,-536.5 2519.5,-530.5 2519.5,-524.5 2519.5,-524.5 2519.5,-480.5 2519.5,-480.5 2519.5,-474.5 2525.5,-468.5 2531.5,-468.5 2531.5,-468.5 2644.5,-468.5 2644.5,-468.5 2650.5,-468.5 2656.5,-474.5 2656.5,-480.5 2656.5,-480.5 2656.5,-524.5 2656.5,-524.5 2656.5,-530.5 2650.5,-536.5 2644.5,-536.5\"/>\n<text text-anchor=\"start\" x=\"2560\" y=\"-521.3\" font-family=\"Helvetica,sans-Serif\" font-size=\"14.00\">gini = 0.0</text>\n<text text-anchor=\"start\" x=\"2550.5\" y=\"-506.3\" font-family=\"Helvetica,sans-Serif\" font-size=\"14.00\">samples = 1</text>\n<text text-anchor=\"start\" x=\"2548.5\" y=\"-491.3\" font-family=\"Helvetica,sans-Serif\" font-size=\"14.00\">value = [0, 1]</text>\n<text text-anchor=\"start\" x=\"2527.5\" y=\"-476.3\" font-family=\"Helvetica,sans-Serif\" font-size=\"14.00\">class = DIABETICO</text>\n</g>\n<!-- 83&#45;&gt;84 -->\n<g id=\"edge84\" class=\"edge\">\n<title>83&#45;&gt;84</title>\n<path fill=\"none\" stroke=\"black\" d=\"M2588,-579.91C2588,-569.2 2588,-557.62 2588,-546.78\"/>\n<polygon fill=\"black\" stroke=\"black\" points=\"2591.5,-546.67 2588,-536.67 2584.5,-546.67 2591.5,-546.67\"/>\n</g>\n<!-- 85 -->\n<g id=\"node86\" class=\"node\">\n<title>85</title>\n<path fill=\"#e58139\" stroke=\"black\" d=\"M2833,-536.5C2833,-536.5 2687,-536.5 2687,-536.5 2681,-536.5 2675,-530.5 2675,-524.5 2675,-524.5 2675,-480.5 2675,-480.5 2675,-474.5 2681,-468.5 2687,-468.5 2687,-468.5 2833,-468.5 2833,-468.5 2839,-468.5 2845,-474.5 2845,-480.5 2845,-480.5 2845,-524.5 2845,-524.5 2845,-530.5 2839,-536.5 2833,-536.5\"/>\n<text text-anchor=\"start\" x=\"2732\" y=\"-521.3\" font-family=\"Helvetica,sans-Serif\" font-size=\"14.00\">gini = 0.0</text>\n<text text-anchor=\"start\" x=\"2722.5\" y=\"-506.3\" font-family=\"Helvetica,sans-Serif\" font-size=\"14.00\">samples = 2</text>\n<text text-anchor=\"start\" x=\"2720.5\" y=\"-491.3\" font-family=\"Helvetica,sans-Serif\" font-size=\"14.00\">value = [2, 0]</text>\n<text text-anchor=\"start\" x=\"2683\" y=\"-476.3\" font-family=\"Helvetica,sans-Serif\" font-size=\"14.00\">class = NÃO DIABETICO</text>\n</g>\n<!-- 83&#45;&gt;85 -->\n<g id=\"edge85\" class=\"edge\">\n<title>83&#45;&gt;85</title>\n<path fill=\"none\" stroke=\"black\" d=\"M2647.67,-579.91C2665.52,-567.77 2685.04,-554.49 2702.72,-542.46\"/>\n<polygon fill=\"black\" stroke=\"black\" points=\"2704.94,-545.19 2711.24,-536.67 2701,-539.4 2704.94,-545.19\"/>\n</g>\n<!-- 90 -->\n<g id=\"node91\" class=\"node\">\n<title>90</title>\n<path fill=\"#399de5\" stroke=\"black\" d=\"M2952.5,-1012.5C2952.5,-1012.5 2839.5,-1012.5 2839.5,-1012.5 2833.5,-1012.5 2827.5,-1006.5 2827.5,-1000.5 2827.5,-1000.5 2827.5,-956.5 2827.5,-956.5 2827.5,-950.5 2833.5,-944.5 2839.5,-944.5 2839.5,-944.5 2952.5,-944.5 2952.5,-944.5 2958.5,-944.5 2964.5,-950.5 2964.5,-956.5 2964.5,-956.5 2964.5,-1000.5 2964.5,-1000.5 2964.5,-1006.5 2958.5,-1012.5 2952.5,-1012.5\"/>\n<text text-anchor=\"start\" x=\"2868\" y=\"-997.3\" font-family=\"Helvetica,sans-Serif\" font-size=\"14.00\">gini = 0.0</text>\n<text text-anchor=\"start\" x=\"2858.5\" y=\"-982.3\" font-family=\"Helvetica,sans-Serif\" font-size=\"14.00\">samples = 9</text>\n<text text-anchor=\"start\" x=\"2856.5\" y=\"-967.3\" font-family=\"Helvetica,sans-Serif\" font-size=\"14.00\">value = [0, 9]</text>\n<text text-anchor=\"start\" x=\"2835.5\" y=\"-952.3\" font-family=\"Helvetica,sans-Serif\" font-size=\"14.00\">class = DIABETICO</text>\n</g>\n<!-- 89&#45;&gt;90 -->\n<g id=\"edge90\" class=\"edge\">\n<title>89&#45;&gt;90</title>\n<path fill=\"none\" stroke=\"black\" d=\"M2899.27,-1055.91C2898.81,-1045.2 2898.31,-1033.62 2897.85,-1022.78\"/>\n<polygon fill=\"black\" stroke=\"black\" points=\"2901.34,-1022.51 2897.42,-1012.67 2894.35,-1022.81 2901.34,-1022.51\"/>\n</g>\n<!-- 91 -->\n<g id=\"node92\" class=\"node\">\n<title>91</title>\n<path fill=\"#e58139\" stroke=\"black\" d=\"M3141,-1012.5C3141,-1012.5 2995,-1012.5 2995,-1012.5 2989,-1012.5 2983,-1006.5 2983,-1000.5 2983,-1000.5 2983,-956.5 2983,-956.5 2983,-950.5 2989,-944.5 2995,-944.5 2995,-944.5 3141,-944.5 3141,-944.5 3147,-944.5 3153,-950.5 3153,-956.5 3153,-956.5 3153,-1000.5 3153,-1000.5 3153,-1006.5 3147,-1012.5 3141,-1012.5\"/>\n<text text-anchor=\"start\" x=\"3040\" y=\"-997.3\" font-family=\"Helvetica,sans-Serif\" font-size=\"14.00\">gini = 0.0</text>\n<text text-anchor=\"start\" x=\"3030.5\" y=\"-982.3\" font-family=\"Helvetica,sans-Serif\" font-size=\"14.00\">samples = 2</text>\n<text text-anchor=\"start\" x=\"3028.5\" y=\"-967.3\" font-family=\"Helvetica,sans-Serif\" font-size=\"14.00\">value = [2, 0]</text>\n<text text-anchor=\"start\" x=\"2991\" y=\"-952.3\" font-family=\"Helvetica,sans-Serif\" font-size=\"14.00\">class = NÃO DIABETICO</text>\n</g>\n<!-- 89&#45;&gt;91 -->\n<g id=\"edge91\" class=\"edge\">\n<title>89&#45;&gt;91</title>\n<path fill=\"none\" stroke=\"black\" d=\"M2958.94,-1055.91C2976.26,-1043.77 2995.21,-1030.49 3012.39,-1018.46\"/>\n<polygon fill=\"black\" stroke=\"black\" points=\"3014.48,-1021.27 3020.66,-1012.67 3010.46,-1015.54 3014.48,-1021.27\"/>\n</g>\n<!-- 93 -->\n<g id=\"node94\" class=\"node\">\n<title>93</title>\n<path fill=\"#55abe9\" stroke=\"black\" d=\"M3299.5,-1139C3299.5,-1139 3186.5,-1139 3186.5,-1139 3180.5,-1139 3174.5,-1133 3174.5,-1127 3174.5,-1127 3174.5,-1068 3174.5,-1068 3174.5,-1062 3180.5,-1056 3186.5,-1056 3186.5,-1056 3299.5,-1056 3299.5,-1056 3305.5,-1056 3311.5,-1062 3311.5,-1068 3311.5,-1068 3311.5,-1127 3311.5,-1127 3311.5,-1133 3305.5,-1139 3299.5,-1139\"/>\n<text text-anchor=\"start\" x=\"3205.5\" y=\"-1123.8\" font-family=\"Helvetica,sans-Serif\" font-size=\"14.00\">IMC ≤ 35.05</text>\n<text text-anchor=\"start\" x=\"3207.5\" y=\"-1108.8\" font-family=\"Helvetica,sans-Serif\" font-size=\"14.00\">gini = 0.215</text>\n<text text-anchor=\"start\" x=\"3202\" y=\"-1093.8\" font-family=\"Helvetica,sans-Serif\" font-size=\"14.00\">samples = 57</text>\n<text text-anchor=\"start\" x=\"3200\" y=\"-1078.8\" font-family=\"Helvetica,sans-Serif\" font-size=\"14.00\">value = [7, 50]</text>\n<text text-anchor=\"start\" x=\"3182.5\" y=\"-1063.8\" font-family=\"Helvetica,sans-Serif\" font-size=\"14.00\">class = DIABETICO</text>\n</g>\n<!-- 92&#45;&gt;93 -->\n<g id=\"edge93\" class=\"edge\">\n<title>92&#45;&gt;93</title>\n<path fill=\"none\" stroke=\"black\" d=\"M3243,-1174.91C3243,-1166.65 3243,-1157.86 3243,-1149.3\"/>\n<polygon fill=\"black\" stroke=\"black\" points=\"3246.5,-1149.02 3243,-1139.02 3239.5,-1149.02 3246.5,-1149.02\"/>\n</g>\n<!-- 114 -->\n<g id=\"node115\" class=\"node\">\n<title>114</title>\n<path fill=\"#399de5\" stroke=\"black\" d=\"M3454.5,-1131.5C3454.5,-1131.5 3341.5,-1131.5 3341.5,-1131.5 3335.5,-1131.5 3329.5,-1125.5 3329.5,-1119.5 3329.5,-1119.5 3329.5,-1075.5 3329.5,-1075.5 3329.5,-1069.5 3335.5,-1063.5 3341.5,-1063.5 3341.5,-1063.5 3454.5,-1063.5 3454.5,-1063.5 3460.5,-1063.5 3466.5,-1069.5 3466.5,-1075.5 3466.5,-1075.5 3466.5,-1119.5 3466.5,-1119.5 3466.5,-1125.5 3460.5,-1131.5 3454.5,-1131.5\"/>\n<text text-anchor=\"start\" x=\"3370\" y=\"-1116.3\" font-family=\"Helvetica,sans-Serif\" font-size=\"14.00\">gini = 0.0</text>\n<text text-anchor=\"start\" x=\"3357\" y=\"-1101.3\" font-family=\"Helvetica,sans-Serif\" font-size=\"14.00\">samples = 59</text>\n<text text-anchor=\"start\" x=\"3355\" y=\"-1086.3\" font-family=\"Helvetica,sans-Serif\" font-size=\"14.00\">value = [0, 59]</text>\n<text text-anchor=\"start\" x=\"3337.5\" y=\"-1071.3\" font-family=\"Helvetica,sans-Serif\" font-size=\"14.00\">class = DIABETICO</text>\n</g>\n<!-- 92&#45;&gt;114 -->\n<g id=\"edge114\" class=\"edge\">\n<title>92&#45;&gt;114</title>\n<path fill=\"none\" stroke=\"black\" d=\"M3296.78,-1174.91C3312.71,-1162.88 3330.13,-1149.73 3345.95,-1137.79\"/>\n<polygon fill=\"black\" stroke=\"black\" points=\"3348.19,-1140.49 3354.06,-1131.67 3343.97,-1134.9 3348.19,-1140.49\"/>\n</g>\n<!-- 94 -->\n<g id=\"node95\" class=\"node\">\n<title>94</title>\n<path fill=\"#51a9e8\" stroke=\"black\" d=\"M3299.5,-1020C3299.5,-1020 3186.5,-1020 3186.5,-1020 3180.5,-1020 3174.5,-1014 3174.5,-1008 3174.5,-1008 3174.5,-949 3174.5,-949 3174.5,-943 3180.5,-937 3186.5,-937 3186.5,-937 3299.5,-937 3299.5,-937 3305.5,-937 3311.5,-943 3311.5,-949 3311.5,-949 3311.5,-1008 3311.5,-1008 3311.5,-1014 3305.5,-1020 3299.5,-1020\"/>\n<text text-anchor=\"start\" x=\"3205.5\" y=\"-1004.8\" font-family=\"Helvetica,sans-Serif\" font-size=\"14.00\">idade ≤ 29.5</text>\n<text text-anchor=\"start\" x=\"3207.5\" y=\"-989.8\" font-family=\"Helvetica,sans-Serif\" font-size=\"14.00\">gini = 0.191</text>\n<text text-anchor=\"start\" x=\"3202\" y=\"-974.8\" font-family=\"Helvetica,sans-Serif\" font-size=\"14.00\">samples = 56</text>\n<text text-anchor=\"start\" x=\"3200\" y=\"-959.8\" font-family=\"Helvetica,sans-Serif\" font-size=\"14.00\">value = [6, 50]</text>\n<text text-anchor=\"start\" x=\"3182.5\" y=\"-944.8\" font-family=\"Helvetica,sans-Serif\" font-size=\"14.00\">class = DIABETICO</text>\n</g>\n<!-- 93&#45;&gt;94 -->\n<g id=\"edge94\" class=\"edge\">\n<title>93&#45;&gt;94</title>\n<path fill=\"none\" stroke=\"black\" d=\"M3243,-1055.91C3243,-1047.65 3243,-1038.86 3243,-1030.3\"/>\n<polygon fill=\"black\" stroke=\"black\" points=\"3246.5,-1030.02 3243,-1020.02 3239.5,-1030.02 3246.5,-1030.02\"/>\n</g>\n<!-- 113 -->\n<g id=\"node114\" class=\"node\">\n<title>113</title>\n<path fill=\"#e58139\" stroke=\"black\" d=\"M3488,-1012.5C3488,-1012.5 3342,-1012.5 3342,-1012.5 3336,-1012.5 3330,-1006.5 3330,-1000.5 3330,-1000.5 3330,-956.5 3330,-956.5 3330,-950.5 3336,-944.5 3342,-944.5 3342,-944.5 3488,-944.5 3488,-944.5 3494,-944.5 3500,-950.5 3500,-956.5 3500,-956.5 3500,-1000.5 3500,-1000.5 3500,-1006.5 3494,-1012.5 3488,-1012.5\"/>\n<text text-anchor=\"start\" x=\"3387\" y=\"-997.3\" font-family=\"Helvetica,sans-Serif\" font-size=\"14.00\">gini = 0.0</text>\n<text text-anchor=\"start\" x=\"3377.5\" y=\"-982.3\" font-family=\"Helvetica,sans-Serif\" font-size=\"14.00\">samples = 1</text>\n<text text-anchor=\"start\" x=\"3375.5\" y=\"-967.3\" font-family=\"Helvetica,sans-Serif\" font-size=\"14.00\">value = [1, 0]</text>\n<text text-anchor=\"start\" x=\"3338\" y=\"-952.3\" font-family=\"Helvetica,sans-Serif\" font-size=\"14.00\">class = NÃO DIABETICO</text>\n</g>\n<!-- 93&#45;&gt;113 -->\n<g id=\"edge113\" class=\"edge\">\n<title>93&#45;&gt;113</title>\n<path fill=\"none\" stroke=\"black\" d=\"M3302.67,-1055.91C3320.52,-1043.77 3340.04,-1030.49 3357.72,-1018.46\"/>\n<polygon fill=\"black\" stroke=\"black\" points=\"3359.94,-1021.19 3366.24,-1012.67 3356,-1015.4 3359.94,-1021.19\"/>\n</g>\n<!-- 95 -->\n<g id=\"node96\" class=\"node\">\n<title>95</title>\n<path fill=\"#72b9ec\" stroke=\"black\" d=\"M3310,-901C3310,-901 3176,-901 3176,-901 3170,-901 3164,-895 3164,-889 3164,-889 3164,-830 3164,-830 3164,-824 3170,-818 3176,-818 3176,-818 3310,-818 3310,-818 3316,-818 3322,-824 3322,-830 3322,-830 3322,-889 3322,-889 3322,-895 3316,-901 3310,-901\"/>\n<text text-anchor=\"start\" x=\"3172\" y=\"-885.8\" font-family=\"Helvetica,sans-Serif\" font-size=\"14.00\">pressao_sangue ≤ 78.0</text>\n<text text-anchor=\"start\" x=\"3207.5\" y=\"-870.8\" font-family=\"Helvetica,sans-Serif\" font-size=\"14.00\">gini = 0.346</text>\n<text text-anchor=\"start\" x=\"3202\" y=\"-855.8\" font-family=\"Helvetica,sans-Serif\" font-size=\"14.00\">samples = 18</text>\n<text text-anchor=\"start\" x=\"3200\" y=\"-840.8\" font-family=\"Helvetica,sans-Serif\" font-size=\"14.00\">value = [4, 14]</text>\n<text text-anchor=\"start\" x=\"3182.5\" y=\"-825.8\" font-family=\"Helvetica,sans-Serif\" font-size=\"14.00\">class = DIABETICO</text>\n</g>\n<!-- 94&#45;&gt;95 -->\n<g id=\"edge95\" class=\"edge\">\n<title>94&#45;&gt;95</title>\n<path fill=\"none\" stroke=\"black\" d=\"M3243,-936.91C3243,-928.65 3243,-919.86 3243,-911.3\"/>\n<polygon fill=\"black\" stroke=\"black\" points=\"3246.5,-911.02 3243,-901.02 3239.5,-911.02 3246.5,-911.02\"/>\n</g>\n<!-- 104 -->\n<g id=\"node105\" class=\"node\">\n<title>104</title>\n<path fill=\"#44a2e6\" stroke=\"black\" d=\"M3481.5,-901C3481.5,-901 3368.5,-901 3368.5,-901 3362.5,-901 3356.5,-895 3356.5,-889 3356.5,-889 3356.5,-830 3356.5,-830 3356.5,-824 3362.5,-818 3368.5,-818 3368.5,-818 3481.5,-818 3481.5,-818 3487.5,-818 3493.5,-824 3493.5,-830 3493.5,-830 3493.5,-889 3493.5,-889 3493.5,-895 3487.5,-901 3481.5,-901\"/>\n<text text-anchor=\"start\" x=\"3378.5\" y=\"-885.8\" font-family=\"Helvetica,sans-Serif\" font-size=\"14.00\">gravidez ≤ 10.0</text>\n<text text-anchor=\"start\" x=\"3397\" y=\"-870.8\" font-family=\"Helvetica,sans-Serif\" font-size=\"14.00\">gini = 0.1</text>\n<text text-anchor=\"start\" x=\"3384\" y=\"-855.8\" font-family=\"Helvetica,sans-Serif\" font-size=\"14.00\">samples = 38</text>\n<text text-anchor=\"start\" x=\"3382\" y=\"-840.8\" font-family=\"Helvetica,sans-Serif\" font-size=\"14.00\">value = [2, 36]</text>\n<text text-anchor=\"start\" x=\"3364.5\" y=\"-825.8\" font-family=\"Helvetica,sans-Serif\" font-size=\"14.00\">class = DIABETICO</text>\n</g>\n<!-- 94&#45;&gt;104 -->\n<g id=\"edge104\" class=\"edge\">\n<title>94&#45;&gt;104</title>\n<path fill=\"none\" stroke=\"black\" d=\"M3306.14,-936.91C3321.39,-927.11 3337.79,-916.56 3353.39,-906.53\"/>\n<polygon fill=\"black\" stroke=\"black\" points=\"3355.45,-909.37 3361.97,-901.02 3351.66,-903.48 3355.45,-909.37\"/>\n</g>\n<!-- 96 -->\n<g id=\"node97\" class=\"node\">\n<title>96</title>\n<path fill=\"#63b2eb\" stroke=\"black\" d=\"M3127.5,-782C3127.5,-782 2944.5,-782 2944.5,-782 2938.5,-782 2932.5,-776 2932.5,-770 2932.5,-770 2932.5,-711 2932.5,-711 2932.5,-705 2938.5,-699 2944.5,-699 2944.5,-699 3127.5,-699 3127.5,-699 3133.5,-699 3139.5,-705 3139.5,-711 3139.5,-711 3139.5,-770 3139.5,-770 3139.5,-776 3133.5,-782 3127.5,-782\"/>\n<text text-anchor=\"start\" x=\"2940.5\" y=\"-766.8\" font-family=\"Helvetica,sans-Serif\" font-size=\"14.00\">predisposicao_diabetes ≤ 0.298</text>\n<text text-anchor=\"start\" x=\"3000.5\" y=\"-751.8\" font-family=\"Helvetica,sans-Serif\" font-size=\"14.00\">gini = 0.291</text>\n<text text-anchor=\"start\" x=\"2995\" y=\"-736.8\" font-family=\"Helvetica,sans-Serif\" font-size=\"14.00\">samples = 17</text>\n<text text-anchor=\"start\" x=\"2993\" y=\"-721.8\" font-family=\"Helvetica,sans-Serif\" font-size=\"14.00\">value = [3, 14]</text>\n<text text-anchor=\"start\" x=\"2975.5\" y=\"-706.8\" font-family=\"Helvetica,sans-Serif\" font-size=\"14.00\">class = DIABETICO</text>\n</g>\n<!-- 95&#45;&gt;96 -->\n<g id=\"edge96\" class=\"edge\">\n<title>95&#45;&gt;96</title>\n<path fill=\"none\" stroke=\"black\" d=\"M3171.18,-817.91C3153.52,-807.92 3134.5,-797.17 3116.46,-786.98\"/>\n<polygon fill=\"black\" stroke=\"black\" points=\"3118.12,-783.89 3107.69,-782.02 3114.67,-789.99 3118.12,-783.89\"/>\n</g>\n<!-- 103 -->\n<g id=\"node104\" class=\"node\">\n<title>103</title>\n<path fill=\"#e58139\" stroke=\"black\" d=\"M3316,-774.5C3316,-774.5 3170,-774.5 3170,-774.5 3164,-774.5 3158,-768.5 3158,-762.5 3158,-762.5 3158,-718.5 3158,-718.5 3158,-712.5 3164,-706.5 3170,-706.5 3170,-706.5 3316,-706.5 3316,-706.5 3322,-706.5 3328,-712.5 3328,-718.5 3328,-718.5 3328,-762.5 3328,-762.5 3328,-768.5 3322,-774.5 3316,-774.5\"/>\n<text text-anchor=\"start\" x=\"3215\" y=\"-759.3\" font-family=\"Helvetica,sans-Serif\" font-size=\"14.00\">gini = 0.0</text>\n<text text-anchor=\"start\" x=\"3205.5\" y=\"-744.3\" font-family=\"Helvetica,sans-Serif\" font-size=\"14.00\">samples = 1</text>\n<text text-anchor=\"start\" x=\"3203.5\" y=\"-729.3\" font-family=\"Helvetica,sans-Serif\" font-size=\"14.00\">value = [1, 0]</text>\n<text text-anchor=\"start\" x=\"3166\" y=\"-714.3\" font-family=\"Helvetica,sans-Serif\" font-size=\"14.00\">class = NÃO DIABETICO</text>\n</g>\n<!-- 95&#45;&gt;103 -->\n<g id=\"edge103\" class=\"edge\">\n<title>95&#45;&gt;103</title>\n<path fill=\"none\" stroke=\"black\" d=\"M3243,-817.91C3243,-807.2 3243,-795.62 3243,-784.78\"/>\n<polygon fill=\"black\" stroke=\"black\" points=\"3246.5,-784.67 3243,-774.67 3239.5,-784.67 3246.5,-784.67\"/>\n</g>\n<!-- 97 -->\n<g id=\"node98\" class=\"node\">\n<title>97</title>\n<path fill=\"#cee6f8\" stroke=\"black\" d=\"M3044,-663C3044,-663 2910,-663 2910,-663 2904,-663 2898,-657 2898,-651 2898,-651 2898,-592 2898,-592 2898,-586 2904,-580 2910,-580 2910,-580 3044,-580 3044,-580 3050,-580 3056,-586 3056,-592 3056,-592 3056,-651 3056,-651 3056,-657 3050,-663 3044,-663\"/>\n<text text-anchor=\"start\" x=\"2906\" y=\"-647.8\" font-family=\"Helvetica,sans-Serif\" font-size=\"14.00\">pressao_sangue ≤ 69.0</text>\n<text text-anchor=\"start\" x=\"2945\" y=\"-632.8\" font-family=\"Helvetica,sans-Serif\" font-size=\"14.00\">gini = 0.49</text>\n<text text-anchor=\"start\" x=\"2939.5\" y=\"-617.8\" font-family=\"Helvetica,sans-Serif\" font-size=\"14.00\">samples = 7</text>\n<text text-anchor=\"start\" x=\"2937.5\" y=\"-602.8\" font-family=\"Helvetica,sans-Serif\" font-size=\"14.00\">value = [3, 4]</text>\n<text text-anchor=\"start\" x=\"2916.5\" y=\"-587.8\" font-family=\"Helvetica,sans-Serif\" font-size=\"14.00\">class = DIABETICO</text>\n</g>\n<!-- 96&#45;&gt;97 -->\n<g id=\"edge97\" class=\"edge\">\n<title>96&#45;&gt;97</title>\n<path fill=\"none\" stroke=\"black\" d=\"M3015.53,-698.91C3011.18,-690.29 3006.55,-681.09 3002.05,-672.17\"/>\n<polygon fill=\"black\" stroke=\"black\" points=\"3005.06,-670.37 2997.43,-663.02 2998.81,-673.53 3005.06,-670.37\"/>\n</g>\n<!-- 102 -->\n<g id=\"node103\" class=\"node\">\n<title>102</title>\n<path fill=\"#399de5\" stroke=\"black\" d=\"M3199.5,-655.5C3199.5,-655.5 3086.5,-655.5 3086.5,-655.5 3080.5,-655.5 3074.5,-649.5 3074.5,-643.5 3074.5,-643.5 3074.5,-599.5 3074.5,-599.5 3074.5,-593.5 3080.5,-587.5 3086.5,-587.5 3086.5,-587.5 3199.5,-587.5 3199.5,-587.5 3205.5,-587.5 3211.5,-593.5 3211.5,-599.5 3211.5,-599.5 3211.5,-643.5 3211.5,-643.5 3211.5,-649.5 3205.5,-655.5 3199.5,-655.5\"/>\n<text text-anchor=\"start\" x=\"3115\" y=\"-640.3\" font-family=\"Helvetica,sans-Serif\" font-size=\"14.00\">gini = 0.0</text>\n<text text-anchor=\"start\" x=\"3102\" y=\"-625.3\" font-family=\"Helvetica,sans-Serif\" font-size=\"14.00\">samples = 10</text>\n<text text-anchor=\"start\" x=\"3100\" y=\"-610.3\" font-family=\"Helvetica,sans-Serif\" font-size=\"14.00\">value = [0, 10]</text>\n<text text-anchor=\"start\" x=\"3082.5\" y=\"-595.3\" font-family=\"Helvetica,sans-Serif\" font-size=\"14.00\">class = DIABETICO</text>\n</g>\n<!-- 96&#45;&gt;102 -->\n<g id=\"edge102\" class=\"edge\">\n<title>96&#45;&gt;102</title>\n<path fill=\"none\" stroke=\"black\" d=\"M3073.12,-698.91C3083.72,-687.32 3095.26,-674.7 3105.86,-663.11\"/>\n<polygon fill=\"black\" stroke=\"black\" points=\"3108.5,-665.41 3112.67,-655.67 3103.34,-660.68 3108.5,-665.41\"/>\n</g>\n<!-- 98 -->\n<g id=\"node99\" class=\"node\">\n<title>98</title>\n<path fill=\"#eeab7b\" stroke=\"black\" d=\"M3035,-544C3035,-544 2889,-544 2889,-544 2883,-544 2877,-538 2877,-532 2877,-532 2877,-473 2877,-473 2877,-467 2883,-461 2889,-461 2889,-461 3035,-461 3035,-461 3041,-461 3047,-467 3047,-473 3047,-473 3047,-532 3047,-532 3047,-538 3041,-544 3035,-544\"/>\n<text text-anchor=\"start\" x=\"2891\" y=\"-528.8\" font-family=\"Helvetica,sans-Serif\" font-size=\"14.00\">pressao_sangue ≤ 62.0</text>\n<text text-anchor=\"start\" x=\"2926.5\" y=\"-513.8\" font-family=\"Helvetica,sans-Serif\" font-size=\"14.00\">gini = 0.375</text>\n<text text-anchor=\"start\" x=\"2924.5\" y=\"-498.8\" font-family=\"Helvetica,sans-Serif\" font-size=\"14.00\">samples = 4</text>\n<text text-anchor=\"start\" x=\"2922.5\" y=\"-483.8\" font-family=\"Helvetica,sans-Serif\" font-size=\"14.00\">value = [3, 1]</text>\n<text text-anchor=\"start\" x=\"2885\" y=\"-468.8\" font-family=\"Helvetica,sans-Serif\" font-size=\"14.00\">class = NÃO DIABETICO</text>\n</g>\n<!-- 97&#45;&gt;98 -->\n<g id=\"edge98\" class=\"edge\">\n<title>97&#45;&gt;98</title>\n<path fill=\"none\" stroke=\"black\" d=\"M2971.8,-579.91C2970.73,-571.56 2969.59,-562.67 2968.48,-554.02\"/>\n<polygon fill=\"black\" stroke=\"black\" points=\"2971.94,-553.49 2967.19,-544.02 2965,-554.38 2971.94,-553.49\"/>\n</g>\n<!-- 101 -->\n<g id=\"node102\" class=\"node\">\n<title>101</title>\n<path fill=\"#399de5\" stroke=\"black\" d=\"M3190.5,-536.5C3190.5,-536.5 3077.5,-536.5 3077.5,-536.5 3071.5,-536.5 3065.5,-530.5 3065.5,-524.5 3065.5,-524.5 3065.5,-480.5 3065.5,-480.5 3065.5,-474.5 3071.5,-468.5 3077.5,-468.5 3077.5,-468.5 3190.5,-468.5 3190.5,-468.5 3196.5,-468.5 3202.5,-474.5 3202.5,-480.5 3202.5,-480.5 3202.5,-524.5 3202.5,-524.5 3202.5,-530.5 3196.5,-536.5 3190.5,-536.5\"/>\n<text text-anchor=\"start\" x=\"3106\" y=\"-521.3\" font-family=\"Helvetica,sans-Serif\" font-size=\"14.00\">gini = 0.0</text>\n<text text-anchor=\"start\" x=\"3096.5\" y=\"-506.3\" font-family=\"Helvetica,sans-Serif\" font-size=\"14.00\">samples = 3</text>\n<text text-anchor=\"start\" x=\"3094.5\" y=\"-491.3\" font-family=\"Helvetica,sans-Serif\" font-size=\"14.00\">value = [0, 3]</text>\n<text text-anchor=\"start\" x=\"3073.5\" y=\"-476.3\" font-family=\"Helvetica,sans-Serif\" font-size=\"14.00\">class = DIABETICO</text>\n</g>\n<!-- 97&#45;&gt;101 -->\n<g id=\"edge101\" class=\"edge\">\n<title>97&#45;&gt;101</title>\n<path fill=\"none\" stroke=\"black\" d=\"M3031.47,-579.91C3047.61,-567.88 3065.25,-554.73 3081.28,-542.79\"/>\n<polygon fill=\"black\" stroke=\"black\" points=\"3083.57,-545.45 3089.49,-536.67 3079.38,-539.84 3083.57,-545.45\"/>\n</g>\n<!-- 99 -->\n<g id=\"node100\" class=\"node\">\n<title>99</title>\n<path fill=\"#399de5\" stroke=\"black\" d=\"M2932.5,-417.5C2932.5,-417.5 2819.5,-417.5 2819.5,-417.5 2813.5,-417.5 2807.5,-411.5 2807.5,-405.5 2807.5,-405.5 2807.5,-361.5 2807.5,-361.5 2807.5,-355.5 2813.5,-349.5 2819.5,-349.5 2819.5,-349.5 2932.5,-349.5 2932.5,-349.5 2938.5,-349.5 2944.5,-355.5 2944.5,-361.5 2944.5,-361.5 2944.5,-405.5 2944.5,-405.5 2944.5,-411.5 2938.5,-417.5 2932.5,-417.5\"/>\n<text text-anchor=\"start\" x=\"2848\" y=\"-402.3\" font-family=\"Helvetica,sans-Serif\" font-size=\"14.00\">gini = 0.0</text>\n<text text-anchor=\"start\" x=\"2838.5\" y=\"-387.3\" font-family=\"Helvetica,sans-Serif\" font-size=\"14.00\">samples = 1</text>\n<text text-anchor=\"start\" x=\"2836.5\" y=\"-372.3\" font-family=\"Helvetica,sans-Serif\" font-size=\"14.00\">value = [0, 1]</text>\n<text text-anchor=\"start\" x=\"2815.5\" y=\"-357.3\" font-family=\"Helvetica,sans-Serif\" font-size=\"14.00\">class = DIABETICO</text>\n</g>\n<!-- 98&#45;&gt;99 -->\n<g id=\"edge99\" class=\"edge\">\n<title>98&#45;&gt;99</title>\n<path fill=\"none\" stroke=\"black\" d=\"M2932.16,-460.91C2923.81,-449.54 2914.72,-437.18 2906.34,-425.77\"/>\n<polygon fill=\"black\" stroke=\"black\" points=\"2909.12,-423.65 2900.38,-417.67 2903.48,-427.8 2909.12,-423.65\"/>\n</g>\n<!-- 100 -->\n<g id=\"node101\" class=\"node\">\n<title>100</title>\n<path fill=\"#e58139\" stroke=\"black\" d=\"M3121,-417.5C3121,-417.5 2975,-417.5 2975,-417.5 2969,-417.5 2963,-411.5 2963,-405.5 2963,-405.5 2963,-361.5 2963,-361.5 2963,-355.5 2969,-349.5 2975,-349.5 2975,-349.5 3121,-349.5 3121,-349.5 3127,-349.5 3133,-355.5 3133,-361.5 3133,-361.5 3133,-405.5 3133,-405.5 3133,-411.5 3127,-417.5 3121,-417.5\"/>\n<text text-anchor=\"start\" x=\"3020\" y=\"-402.3\" font-family=\"Helvetica,sans-Serif\" font-size=\"14.00\">gini = 0.0</text>\n<text text-anchor=\"start\" x=\"3010.5\" y=\"-387.3\" font-family=\"Helvetica,sans-Serif\" font-size=\"14.00\">samples = 3</text>\n<text text-anchor=\"start\" x=\"3008.5\" y=\"-372.3\" font-family=\"Helvetica,sans-Serif\" font-size=\"14.00\">value = [3, 0]</text>\n<text text-anchor=\"start\" x=\"2971\" y=\"-357.3\" font-family=\"Helvetica,sans-Serif\" font-size=\"14.00\">class = NÃO DIABETICO</text>\n</g>\n<!-- 98&#45;&gt;100 -->\n<g id=\"edge100\" class=\"edge\">\n<title>98&#45;&gt;100</title>\n<path fill=\"none\" stroke=\"black\" d=\"M2991.84,-460.91C3000.19,-449.54 3009.28,-437.18 3017.66,-425.77\"/>\n<polygon fill=\"black\" stroke=\"black\" points=\"3020.52,-427.8 3023.62,-417.67 3014.88,-423.65 3020.52,-427.8\"/>\n</g>\n<!-- 105 -->\n<g id=\"node106\" class=\"node\">\n<title>105</title>\n<path fill=\"#3fa0e6\" stroke=\"black\" d=\"M3489.5,-782C3489.5,-782 3360.5,-782 3360.5,-782 3354.5,-782 3348.5,-776 3348.5,-770 3348.5,-770 3348.5,-711 3348.5,-711 3348.5,-705 3354.5,-699 3360.5,-699 3360.5,-699 3489.5,-699 3489.5,-699 3495.5,-699 3501.5,-705 3501.5,-711 3501.5,-711 3501.5,-770 3501.5,-770 3501.5,-776 3495.5,-782 3489.5,-782\"/>\n<text text-anchor=\"start\" x=\"3356.5\" y=\"-766.8\" font-family=\"Helvetica,sans-Serif\" font-size=\"14.00\">espessura_pele ≤ 42.5</text>\n<text text-anchor=\"start\" x=\"3389.5\" y=\"-751.8\" font-family=\"Helvetica,sans-Serif\" font-size=\"14.00\">gini = 0.056</text>\n<text text-anchor=\"start\" x=\"3384\" y=\"-736.8\" font-family=\"Helvetica,sans-Serif\" font-size=\"14.00\">samples = 35</text>\n<text text-anchor=\"start\" x=\"3382\" y=\"-721.8\" font-family=\"Helvetica,sans-Serif\" font-size=\"14.00\">value = [1, 34]</text>\n<text text-anchor=\"start\" x=\"3364.5\" y=\"-706.8\" font-family=\"Helvetica,sans-Serif\" font-size=\"14.00\">class = DIABETICO</text>\n</g>\n<!-- 104&#45;&gt;105 -->\n<g id=\"edge105\" class=\"edge\">\n<title>104&#45;&gt;105</title>\n<path fill=\"none\" stroke=\"black\" d=\"M3425,-817.91C3425,-809.65 3425,-800.86 3425,-792.3\"/>\n<polygon fill=\"black\" stroke=\"black\" points=\"3428.5,-792.02 3425,-782.02 3421.5,-792.02 3428.5,-792.02\"/>\n</g>\n<!-- 110 -->\n<g id=\"node111\" class=\"node\">\n<title>110</title>\n<path fill=\"#9ccef2\" stroke=\"black\" d=\"M3681.5,-782C3681.5,-782 3568.5,-782 3568.5,-782 3562.5,-782 3556.5,-776 3556.5,-770 3556.5,-770 3556.5,-711 3556.5,-711 3556.5,-705 3562.5,-699 3568.5,-699 3568.5,-699 3681.5,-699 3681.5,-699 3687.5,-699 3693.5,-705 3693.5,-711 3693.5,-711 3693.5,-770 3693.5,-770 3693.5,-776 3687.5,-782 3681.5,-782\"/>\n<text text-anchor=\"start\" x=\"3587.5\" y=\"-766.8\" font-family=\"Helvetica,sans-Serif\" font-size=\"14.00\">idade ≤ 36.5</text>\n<text text-anchor=\"start\" x=\"3589.5\" y=\"-751.8\" font-family=\"Helvetica,sans-Serif\" font-size=\"14.00\">gini = 0.444</text>\n<text text-anchor=\"start\" x=\"3587.5\" y=\"-736.8\" font-family=\"Helvetica,sans-Serif\" font-size=\"14.00\">samples = 3</text>\n<text text-anchor=\"start\" x=\"3585.5\" y=\"-721.8\" font-family=\"Helvetica,sans-Serif\" font-size=\"14.00\">value = [1, 2]</text>\n<text text-anchor=\"start\" x=\"3564.5\" y=\"-706.8\" font-family=\"Helvetica,sans-Serif\" font-size=\"14.00\">class = DIABETICO</text>\n</g>\n<!-- 104&#45;&gt;110 -->\n<g id=\"edge110\" class=\"edge\">\n<title>104&#45;&gt;110</title>\n<path fill=\"none\" stroke=\"black\" d=\"M3493.55,-818.4C3510.94,-808.22 3529.75,-797.22 3547.55,-786.81\"/>\n<polygon fill=\"black\" stroke=\"black\" points=\"3549.34,-789.82 3556.2,-781.75 3545.8,-783.78 3549.34,-789.82\"/>\n</g>\n<!-- 106 -->\n<g id=\"node107\" class=\"node\">\n<title>106</title>\n<path fill=\"#399de5\" stroke=\"black\" d=\"M3354.5,-655.5C3354.5,-655.5 3241.5,-655.5 3241.5,-655.5 3235.5,-655.5 3229.5,-649.5 3229.5,-643.5 3229.5,-643.5 3229.5,-599.5 3229.5,-599.5 3229.5,-593.5 3235.5,-587.5 3241.5,-587.5 3241.5,-587.5 3354.5,-587.5 3354.5,-587.5 3360.5,-587.5 3366.5,-593.5 3366.5,-599.5 3366.5,-599.5 3366.5,-643.5 3366.5,-643.5 3366.5,-649.5 3360.5,-655.5 3354.5,-655.5\"/>\n<text text-anchor=\"start\" x=\"3270\" y=\"-640.3\" font-family=\"Helvetica,sans-Serif\" font-size=\"14.00\">gini = 0.0</text>\n<text text-anchor=\"start\" x=\"3257\" y=\"-625.3\" font-family=\"Helvetica,sans-Serif\" font-size=\"14.00\">samples = 32</text>\n<text text-anchor=\"start\" x=\"3255\" y=\"-610.3\" font-family=\"Helvetica,sans-Serif\" font-size=\"14.00\">value = [0, 32]</text>\n<text text-anchor=\"start\" x=\"3237.5\" y=\"-595.3\" font-family=\"Helvetica,sans-Serif\" font-size=\"14.00\">class = DIABETICO</text>\n</g>\n<!-- 105&#45;&gt;106 -->\n<g id=\"edge106\" class=\"edge\">\n<title>105&#45;&gt;106</title>\n<path fill=\"none\" stroke=\"black\" d=\"M3380.94,-698.91C3368.12,-687.1 3354.14,-674.22 3341.36,-662.45\"/>\n<polygon fill=\"black\" stroke=\"black\" points=\"3343.73,-659.87 3334,-655.67 3338.98,-665.02 3343.73,-659.87\"/>\n</g>\n<!-- 107 -->\n<g id=\"node108\" class=\"node\">\n<title>107</title>\n<path fill=\"#9ccef2\" stroke=\"black\" d=\"M3509.5,-663C3509.5,-663 3396.5,-663 3396.5,-663 3390.5,-663 3384.5,-657 3384.5,-651 3384.5,-651 3384.5,-592 3384.5,-592 3384.5,-586 3390.5,-580 3396.5,-580 3396.5,-580 3509.5,-580 3509.5,-580 3515.5,-580 3521.5,-586 3521.5,-592 3521.5,-592 3521.5,-651 3521.5,-651 3521.5,-657 3515.5,-663 3509.5,-663\"/>\n<text text-anchor=\"start\" x=\"3410.5\" y=\"-647.8\" font-family=\"Helvetica,sans-Serif\" font-size=\"14.00\">gravidez ≤ 1.5</text>\n<text text-anchor=\"start\" x=\"3417.5\" y=\"-632.8\" font-family=\"Helvetica,sans-Serif\" font-size=\"14.00\">gini = 0.444</text>\n<text text-anchor=\"start\" x=\"3415.5\" y=\"-617.8\" font-family=\"Helvetica,sans-Serif\" font-size=\"14.00\">samples = 3</text>\n<text text-anchor=\"start\" x=\"3413.5\" y=\"-602.8\" font-family=\"Helvetica,sans-Serif\" font-size=\"14.00\">value = [1, 2]</text>\n<text text-anchor=\"start\" x=\"3392.5\" y=\"-587.8\" font-family=\"Helvetica,sans-Serif\" font-size=\"14.00\">class = DIABETICO</text>\n</g>\n<!-- 105&#45;&gt;107 -->\n<g id=\"edge107\" class=\"edge\">\n<title>105&#45;&gt;107</title>\n<path fill=\"none\" stroke=\"black\" d=\"M3434.71,-698.91C3436.71,-690.56 3438.84,-681.67 3440.91,-673.02\"/>\n<polygon fill=\"black\" stroke=\"black\" points=\"3444.38,-673.56 3443.3,-663.02 3437.57,-671.93 3444.38,-673.56\"/>\n</g>\n<!-- 108 -->\n<g id=\"node109\" class=\"node\">\n<title>108</title>\n<path fill=\"#e58139\" stroke=\"black\" d=\"M3452,-536.5C3452,-536.5 3306,-536.5 3306,-536.5 3300,-536.5 3294,-530.5 3294,-524.5 3294,-524.5 3294,-480.5 3294,-480.5 3294,-474.5 3300,-468.5 3306,-468.5 3306,-468.5 3452,-468.5 3452,-468.5 3458,-468.5 3464,-474.5 3464,-480.5 3464,-480.5 3464,-524.5 3464,-524.5 3464,-530.5 3458,-536.5 3452,-536.5\"/>\n<text text-anchor=\"start\" x=\"3351\" y=\"-521.3\" font-family=\"Helvetica,sans-Serif\" font-size=\"14.00\">gini = 0.0</text>\n<text text-anchor=\"start\" x=\"3341.5\" y=\"-506.3\" font-family=\"Helvetica,sans-Serif\" font-size=\"14.00\">samples = 1</text>\n<text text-anchor=\"start\" x=\"3339.5\" y=\"-491.3\" font-family=\"Helvetica,sans-Serif\" font-size=\"14.00\">value = [1, 0]</text>\n<text text-anchor=\"start\" x=\"3302\" y=\"-476.3\" font-family=\"Helvetica,sans-Serif\" font-size=\"14.00\">class = NÃO DIABETICO</text>\n</g>\n<!-- 107&#45;&gt;108 -->\n<g id=\"edge108\" class=\"edge\">\n<title>107&#45;&gt;108</title>\n<path fill=\"none\" stroke=\"black\" d=\"M3427.33,-579.91C3420.28,-568.76 3412.62,-556.66 3405.53,-545.44\"/>\n<polygon fill=\"black\" stroke=\"black\" points=\"3408.28,-543.25 3399.98,-536.67 3402.36,-546.99 3408.28,-543.25\"/>\n</g>\n<!-- 109 -->\n<g id=\"node110\" class=\"node\">\n<title>109</title>\n<path fill=\"#399de5\" stroke=\"black\" d=\"M3607.5,-536.5C3607.5,-536.5 3494.5,-536.5 3494.5,-536.5 3488.5,-536.5 3482.5,-530.5 3482.5,-524.5 3482.5,-524.5 3482.5,-480.5 3482.5,-480.5 3482.5,-474.5 3488.5,-468.5 3494.5,-468.5 3494.5,-468.5 3607.5,-468.5 3607.5,-468.5 3613.5,-468.5 3619.5,-474.5 3619.5,-480.5 3619.5,-480.5 3619.5,-524.5 3619.5,-524.5 3619.5,-530.5 3613.5,-536.5 3607.5,-536.5\"/>\n<text text-anchor=\"start\" x=\"3523\" y=\"-521.3\" font-family=\"Helvetica,sans-Serif\" font-size=\"14.00\">gini = 0.0</text>\n<text text-anchor=\"start\" x=\"3513.5\" y=\"-506.3\" font-family=\"Helvetica,sans-Serif\" font-size=\"14.00\">samples = 2</text>\n<text text-anchor=\"start\" x=\"3511.5\" y=\"-491.3\" font-family=\"Helvetica,sans-Serif\" font-size=\"14.00\">value = [0, 2]</text>\n<text text-anchor=\"start\" x=\"3490.5\" y=\"-476.3\" font-family=\"Helvetica,sans-Serif\" font-size=\"14.00\">class = DIABETICO</text>\n</g>\n<!-- 107&#45;&gt;109 -->\n<g id=\"edge109\" class=\"edge\">\n<title>107&#45;&gt;109</title>\n<path fill=\"none\" stroke=\"black\" d=\"M3487,-579.91C3496.61,-568.43 3507.08,-555.94 3516.71,-544.44\"/>\n<polygon fill=\"black\" stroke=\"black\" points=\"3519.48,-546.58 3523.22,-536.67 3514.11,-542.09 3519.48,-546.58\"/>\n</g>\n<!-- 111 -->\n<g id=\"node112\" class=\"node\">\n<title>111</title>\n<path fill=\"#e58139\" stroke=\"black\" d=\"M3698,-655.5C3698,-655.5 3552,-655.5 3552,-655.5 3546,-655.5 3540,-649.5 3540,-643.5 3540,-643.5 3540,-599.5 3540,-599.5 3540,-593.5 3546,-587.5 3552,-587.5 3552,-587.5 3698,-587.5 3698,-587.5 3704,-587.5 3710,-593.5 3710,-599.5 3710,-599.5 3710,-643.5 3710,-643.5 3710,-649.5 3704,-655.5 3698,-655.5\"/>\n<text text-anchor=\"start\" x=\"3597\" y=\"-640.3\" font-family=\"Helvetica,sans-Serif\" font-size=\"14.00\">gini = 0.0</text>\n<text text-anchor=\"start\" x=\"3587.5\" y=\"-625.3\" font-family=\"Helvetica,sans-Serif\" font-size=\"14.00\">samples = 1</text>\n<text text-anchor=\"start\" x=\"3585.5\" y=\"-610.3\" font-family=\"Helvetica,sans-Serif\" font-size=\"14.00\">value = [1, 0]</text>\n<text text-anchor=\"start\" x=\"3548\" y=\"-595.3\" font-family=\"Helvetica,sans-Serif\" font-size=\"14.00\">class = NÃO DIABETICO</text>\n</g>\n<!-- 110&#45;&gt;111 -->\n<g id=\"edge111\" class=\"edge\">\n<title>110&#45;&gt;111</title>\n<path fill=\"none\" stroke=\"black\" d=\"M3625,-698.91C3625,-688.2 3625,-676.62 3625,-665.78\"/>\n<polygon fill=\"black\" stroke=\"black\" points=\"3628.5,-665.67 3625,-655.67 3621.5,-665.67 3628.5,-665.67\"/>\n</g>\n<!-- 112 -->\n<g id=\"node113\" class=\"node\">\n<title>112</title>\n<path fill=\"#399de5\" stroke=\"black\" d=\"M3853.5,-655.5C3853.5,-655.5 3740.5,-655.5 3740.5,-655.5 3734.5,-655.5 3728.5,-649.5 3728.5,-643.5 3728.5,-643.5 3728.5,-599.5 3728.5,-599.5 3728.5,-593.5 3734.5,-587.5 3740.5,-587.5 3740.5,-587.5 3853.5,-587.5 3853.5,-587.5 3859.5,-587.5 3865.5,-593.5 3865.5,-599.5 3865.5,-599.5 3865.5,-643.5 3865.5,-643.5 3865.5,-649.5 3859.5,-655.5 3853.5,-655.5\"/>\n<text text-anchor=\"start\" x=\"3769\" y=\"-640.3\" font-family=\"Helvetica,sans-Serif\" font-size=\"14.00\">gini = 0.0</text>\n<text text-anchor=\"start\" x=\"3759.5\" y=\"-625.3\" font-family=\"Helvetica,sans-Serif\" font-size=\"14.00\">samples = 2</text>\n<text text-anchor=\"start\" x=\"3757.5\" y=\"-610.3\" font-family=\"Helvetica,sans-Serif\" font-size=\"14.00\">value = [0, 2]</text>\n<text text-anchor=\"start\" x=\"3736.5\" y=\"-595.3\" font-family=\"Helvetica,sans-Serif\" font-size=\"14.00\">class = DIABETICO</text>\n</g>\n<!-- 110&#45;&gt;112 -->\n<g id=\"edge112\" class=\"edge\">\n<title>110&#45;&gt;112</title>\n<path fill=\"none\" stroke=\"black\" d=\"M3684.67,-698.91C3702.52,-686.77 3722.04,-673.49 3739.72,-661.46\"/>\n<polygon fill=\"black\" stroke=\"black\" points=\"3741.94,-664.19 3748.24,-655.67 3738,-658.4 3741.94,-664.19\"/>\n</g>\n</g>\n</svg>\n",
            "text/plain": [
              "<graphviz.sources.Source at 0x794911e93520>"
            ]
          },
          "metadata": {},
          "execution_count": 22
        }
      ]
    },
    {
      "cell_type": "code",
      "source": [
        "import matplotlib.pyplot as plt\n",
        "tree.plot_tree(modelo)\n",
        "plt.show()"
      ],
      "metadata": {
        "colab": {
          "base_uri": "https://localhost:8080/"
        },
        "id": "giNP6M7uFYUG",
        "outputId": "4680185b-7534-4ed1-f724-05e576918472"
      },
      "execution_count": null,
      "outputs": [
        {
          "output_type": "display_data",
          "data": {
            "text/plain": [
              "<Figure size 640x480 with 1 Axes>"
            ],
            "image/png": "[encoded data removed]"
          },
          "metadata": {}
        }
      ]
    },
    {
      "cell_type": "code",
      "source": [
        "from sklearn.metrics import accuracy_score"
      ],
      "metadata": {
        "id": "b8Aq-s7_Fd88"
      },
      "execution_count": null,
      "outputs": []
    },
    {
      "cell_type": "code",
      "source": [
        "accuracy_score(y_test, y_pred)"
      ],
      "metadata": {
        "colab": {
          "base_uri": "https://localhost:8080/"
        },
        "id": "S5ankrfsF68D",
        "outputId": "886b8866-6509-4e20-ef18-f17157e3709e"
      },
      "execution_count": null,
      "outputs": [
        {
          "output_type": "execute_result",
          "data": {
            "text/plain": [
              "0.7282608695652174"
            ]
          },
          "metadata": {},
          "execution_count": 25
        }
      ]
    },
    {
      "cell_type": "code",
      "source": [
        "print(gera_features_importantes(modelo))"
      ],
      "metadata": {
        "colab": {
          "base_uri": "https://localhost:8080/"
        },
        "id": "IOxGMV4AF_B8",
        "outputId": "8ab85bb5-6e40-4e74-a032-fa2efc86feed"
      },
      "execution_count": null,
      "outputs": [
        {
          "output_type": "stream",
          "name": "stdout",
          "text": [
            "None\n"
          ]
        }
      ]
    },
    {
      "cell_type": "code",
      "source": [],
      "metadata": {
        "id": "LYsdMwUJGTS8"
      },
      "execution_count": null,
      "outputs": []
    },
    {
      "cell_type": "markdown",
      "source": [
        "#Random Forest"
      ],
      "metadata": {
        "id": "qLow2IkGUZLH"
      }
    },
    {
      "cell_type": "code",
      "source": [
        "import pandas as pd\n",
        "from imblearn.under_sampling import RandomUnderSampler, TomekLinks\n",
        "from sklearn.model_selection import train_test_split\n",
        "from sklearn.metrics import accuracy_score"
      ],
      "metadata": {
        "id": "FUXoiY_CUb-Y"
      },
      "execution_count": null,
      "outputs": []
    },
    {
      "cell_type": "code",
      "source": [
        "df2 = pd.read_csv('diabetes.csv', sep = ';')\n",
        "df2"
      ],
      "metadata": {
        "colab": {
          "base_uri": "https://localhost:8080/"
        },
        "id": "UaFkcQSFVQ2_",
        "outputId": "b7dbdc48-4ccf-41b6-f981-27a2a5cb377b"
      },
      "execution_count": null,
      "outputs": [
        {
          "output_type": "execute_result",
          "data": {
            "text/plain": [
              "     gravidez  glicose  pressao_sangue  espessura_pele  insulina   IMC  \\\n",
              "0           6      148              72              35         0  33.6   \n",
              "1           1       85              66              29         0  26.6   \n",
              "2           8      183              64               0         0  23.3   \n",
              "3           1       89              66              23        94  28.1   \n",
              "4           0      137              40              35       168  43.1   \n",
              "..        ...      ...             ...             ...       ...   ...   \n",
              "763        10      101              76              48       180  32.9   \n",
              "764         2      122              70              27         0  36.8   \n",
              "765         5      121              72              23       112  26.2   \n",
              "766         1      126              60               0         0  30.1   \n",
              "767         1       93              70              31         0  30.4   \n",
              "\n",
              "     predisposicao_diabetes  idade  diabetes  \n",
              "0                     0.627     50         1  \n",
              "1                     0.351     31         0  \n",
              "2                     0.672     32         1  \n",
              "3                     0.167     21         0  \n",
              "4                     2.288     33         1  \n",
              "..                      ...    ...       ...  \n",
              "763                   0.171     63         0  \n",
              "764                   0.340     27         0  \n",
              "765                   0.245     30         0  \n",
              "766                   0.349     47         1  \n",
              "767                   0.315     23         0  \n",
              "\n",
              "[768 rows x 9 columns]"
            ],
            "text/html": [
              "\n",
              "  <div id=\"df-6a577d5c-0e2c-4466-bc37-a319075a2ebb\" class=\"colab-df-container\">\n",
              "    <div>\n",
              "<style scoped>\n",
              "    .dataframe tbody tr th:only-of-type {\n",
              "        vertical-align: middle;\n",
              "    }\n",
              "\n",
              "    .dataframe tbody tr th {\n",
              "        vertical-align: top;\n",
              "    }\n",
              "\n",
              "    .dataframe thead th {\n",
              "        text-align: right;\n",
              "    }\n",
              "</style>\n",
              "<table border=\"1\" class=\"dataframe\">\n",
              "  <thead>\n",
              "    <tr style=\"text-align: right;\">\n",
              "      <th></th>\n",
              "      <th>gravidez</th>\n",
              "      <th>glicose</th>\n",
              "      <th>pressao_sangue</th>\n",
              "      <th>espessura_pele</th>\n",
              "      <th>insulina</th>\n",
              "      <th>IMC</th>\n",
              "      <th>predisposicao_diabetes</th>\n",
              "      <th>idade</th>\n",
              "      <th>diabetes</th>\n",
              "    </tr>\n",
              "  </thead>\n",
              "  <tbody>\n",
              "    <tr>\n",
              "      <th>0</th>\n",
              "      <td>6</td>\n",
              "      <td>148</td>\n",
              "      <td>72</td>\n",
              "      <td>35</td>\n",
              "      <td>0</td>\n",
              "      <td>33.6</td>\n",
              "      <td>0.627</td>\n",
              "      <td>50</td>\n",
              "      <td>1</td>\n",
              "    </tr>\n",
              "    <tr>\n",
              "      <th>1</th>\n",
              "      <td>1</td>\n",
              "      <td>85</td>\n",
              "      <td>66</td>\n",
              "      <td>29</td>\n",
              "      <td>0</td>\n",
              "      <td>26.6</td>\n",
              "      <td>0.351</td>\n",
              "      <td>31</td>\n",
              "      <td>0</td>\n",
              "    </tr>\n",
              "    <tr>\n",
              "      <th>2</th>\n",
              "      <td>8</td>\n",
              "      <td>183</td>\n",
              "      <td>64</td>\n",
              "      <td>0</td>\n",
              "      <td>0</td>\n",
              "      <td>23.3</td>\n",
              "      <td>0.672</td>\n",
              "      <td>32</td>\n",
              "      <td>1</td>\n",
              "    </tr>\n",
              "    <tr>\n",
              "      <th>3</th>\n",
              "      <td>1</td>\n",
              "      <td>89</td>\n",
              "      <td>66</td>\n",
              "      <td>23</td>\n",
              "      <td>94</td>\n",
              "      <td>28.1</td>\n",
              "      <td>0.167</td>\n",
              "      <td>21</td>\n",
              "      <td>0</td>\n",
              "    </tr>\n",
              "    <tr>\n",
              "      <th>4</th>\n",
              "      <td>0</td>\n",
              "      <td>137</td>\n",
              "      <td>40</td>\n",
              "      <td>35</td>\n",
              "      <td>168</td>\n",
              "      <td>43.1</td>\n",
              "      <td>2.288</td>\n",
              "      <td>33</td>\n",
              "      <td>1</td>\n",
              "    </tr>\n",
              "    <tr>\n",
              "      <th>...</th>\n",
              "      <td>...</td>\n",
              "      <td>...</td>\n",
              "      <td>...</td>\n",
              "      <td>...</td>\n",
              "      <td>...</td>\n",
              "      <td>...</td>\n",
              "      <td>...</td>\n",
              "      <td>...</td>\n",
              "      <td>...</td>\n",
              "    </tr>\n",
              "    <tr>\n",
              "      <th>763</th>\n",
              "      <td>10</td>\n",
              "      <td>101</td>\n",
              "      <td>76</td>\n",
              "      <td>48</td>\n",
              "      <td>180</td>\n",
              "      <td>32.9</td>\n",
              "      <td>0.171</td>\n",
              "      <td>63</td>\n",
              "      <td>0</td>\n",
              "    </tr>\n",
              "    <tr>\n",
              "      <th>764</th>\n",
              "      <td>2</td>\n",
              "      <td>122</td>\n",
              "      <td>70</td>\n",
              "      <td>27</td>\n",
              "      <td>0</td>\n",
              "      <td>36.8</td>\n",
              "      <td>0.340</td>\n",
              "      <td>27</td>\n",
              "      <td>0</td>\n",
              "    </tr>\n",
              "    <tr>\n",
              "      <th>765</th>\n",
              "      <td>5</td>\n",
              "      <td>121</td>\n",
              "      <td>72</td>\n",
              "      <td>23</td>\n",
              "      <td>112</td>\n",
              "      <td>26.2</td>\n",
              "      <td>0.245</td>\n",
              "      <td>30</td>\n",
              "      <td>0</td>\n",
              "    </tr>\n",
              "    <tr>\n",
              "      <th>766</th>\n",
              "      <td>1</td>\n",
              "      <td>126</td>\n",
              "      <td>60</td>\n",
              "      <td>0</td>\n",
              "      <td>0</td>\n",
              "      <td>30.1</td>\n",
              "      <td>0.349</td>\n",
              "      <td>47</td>\n",
              "      <td>1</td>\n",
              "    </tr>\n",
              "    <tr>\n",
              "      <th>767</th>\n",
              "      <td>1</td>\n",
              "      <td>93</td>\n",
              "      <td>70</td>\n",
              "      <td>31</td>\n",
              "      <td>0</td>\n",
              "      <td>30.4</td>\n",
              "      <td>0.315</td>\n",
              "      <td>23</td>\n",
              "      <td>0</td>\n",
              "    </tr>\n",
              "  </tbody>\n",
              "</table>\n",
              "<p>768 rows × 9 columns</p>\n",
              "</div>\n",
              "    <div class=\"colab-df-buttons\">\n",
              "\n",
              "  <div class=\"colab-df-container\">\n",
              "    <button class=\"colab-df-convert\" onclick=\"convertToInteractive('df-6a577d5c-0e2c-4466-bc37-a319075a2ebb')\"\n",
              "            title=\"Convert this dataframe to an interactive table.\"\n",
              "            style=\"display:none;\">\n",
              "\n",
              "  <svg xmlns=\"http://www.w3.org/2000/svg\" height=\"24px\" viewBox=\"0 -960 960 960\">\n",
              "    <path d=\"M120-120v-720h720v720H120Zm60-500h600v-160H180v160Zm220 220h160v-160H400v160Zm0 220h160v-160H400v160ZM180-400h160v-160H180v160Zm440 0h160v-160H620v160ZM180-180h160v-160H180v160Zm440 0h160v-160H620v160Z\"/>\n",
              "  </svg>\n",
              "    </button>\n",
              "\n",
              "  <style>\n",
              "    .colab-df-container {\n",
              "      display:flex;\n",
              "      gap: 12px;\n",
              "    }\n",
              "\n",
              "    .colab-df-convert {\n",
              "      background-color: #E8F0FE;\n",
              "      border: none;\n",
              "      border-radius: 50%;\n",
              "      cursor: pointer;\n",
              "      display: none;\n",
              "      fill: #1967D2;\n",
              "      height: 32px;\n",
              "      padding: 0 0 0 0;\n",
              "      width: 32px;\n",
              "    }\n",
              "\n",
              "    .colab-df-convert:hover {\n",
              "      background-color: #E2EBFA;\n",
              "      box-shadow: 0px 1px 2px rgba(60, 64, 67, 0.3), 0px 1px 3px 1px rgba(60, 64, 67, 0.15);\n",
              "      fill: #174EA6;\n",
              "    }\n",
              "\n",
              "    .colab-df-buttons div {\n",
              "      margin-bottom: 4px;\n",
              "    }\n",
              "\n",
              "    [theme=dark] .colab-df-convert {\n",
              "      background-color: #3B4455;\n",
              "      fill: #D2E3FC;\n",
              "    }\n",
              "\n",
              "    [theme=dark] .colab-df-convert:hover {\n",
              "      background-color: #434B5C;\n",
              "      box-shadow: 0px 1px 3px 1px rgba(0, 0, 0, 0.15);\n",
              "      filter: drop-shadow(0px 1px 2px rgba(0, 0, 0, 0.3));\n",
              "      fill: #FFFFFF;\n",
              "    }\n",
              "  </style>\n",
              "\n",
              "    <script>\n",
              "      const buttonEl =\n",
              "        document.querySelector('#df-6a577d5c-0e2c-4466-bc37-a319075a2ebb button.colab-df-convert');\n",
              "      buttonEl.style.display =\n",
              "        google.colab.kernel.accessAllowed ? 'block' : 'none';\n",
              "\n",
              "      async function convertToInteractive(key) {\n",
              "        const element = document.querySelector('#df-6a577d5c-0e2c-4466-bc37-a319075a2ebb');\n",
              "        const dataTable =\n",
              "          await google.colab.kernel.invokeFunction('convertToInteractive',\n",
              "                                                    [key], {});\n",
              "        if (!dataTable) return;\n",
              "\n",
              "        const docLinkHtml = 'Like what you see? Visit the ' +\n",
              "          '<a target=\"_blank\" href=https://colab.research.google.com/notebooks/data_table.ipynb>data table notebook</a>'\n",
              "          + ' to learn more about interactive tables.';\n",
              "        element.innerHTML = '';\n",
              "        dataTable['output_type'] = 'display_data';\n",
              "        await google.colab.output.renderOutput(dataTable, element);\n",
              "        const docLink = document.createElement('div');\n",
              "        docLink.innerHTML = docLinkHtml;\n",
              "        element.appendChild(docLink);\n",
              "      }\n",
              "    </script>\n",
              "  </div>\n",
              "\n",
              "\n",
              "<div id=\"df-1f30ca89-3450-4d35-937f-15d87acc7844\">\n",
              "  <button class=\"colab-df-quickchart\" onclick=\"quickchart('df-1f30ca89-3450-4d35-937f-15d87acc7844')\"\n",
              "            title=\"Suggest charts\"\n",
              "            style=\"display:none;\">\n",
              "\n",
              "<svg xmlns=\"http://www.w3.org/2000/svg\" height=\"24px\"viewBox=\"0 0 24 24\"\n",
              "     width=\"24px\">\n",
              "    <g>\n",
              "        <path d=\"M19 3H5c-1.1 0-2 .9-2 2v14c0 1.1.9 2 2 2h14c1.1 0 2-.9 2-2V5c0-1.1-.9-2-2-2zM9 17H7v-7h2v7zm4 0h-2V7h2v10zm4 0h-2v-4h2v4z\"/>\n",
              "    </g>\n",
              "</svg>\n",
              "  </button>\n",
              "\n",
              "<style>\n",
              "  .colab-df-quickchart {\n",
              "      --bg-color: #E8F0FE;\n",
              "      --fill-color: #1967D2;\n",
              "      --hover-bg-color: #E2EBFA;\n",
              "      --hover-fill-color: #174EA6;\n",
              "      --disabled-fill-color: #AAA;\n",
              "      --disabled-bg-color: #DDD;\n",
              "  }\n",
              "\n",
              "  [theme=dark] .colab-df-quickchart {\n",
              "      --bg-color: #3B4455;\n",
              "      --fill-color: #D2E3FC;\n",
              "      --hover-bg-color: #434B5C;\n",
              "      --hover-fill-color: #FFFFFF;\n",
              "      --disabled-bg-color: #3B4455;\n",
              "      --disabled-fill-color: #666;\n",
              "  }\n",
              "\n",
              "  .colab-df-quickchart {\n",
              "    background-color: var(--bg-color);\n",
              "    border: none;\n",
              "    border-radius: 50%;\n",
              "    cursor: pointer;\n",
              "    display: none;\n",
              "    fill: var(--fill-color);\n",
              "    height: 32px;\n",
              "    padding: 0;\n",
              "    width: 32px;\n",
              "  }\n",
              "\n",
              "  .colab-df-quickchart:hover {\n",
              "    background-color: var(--hover-bg-color);\n",
              "    box-shadow: 0 1px 2px rgba(60, 64, 67, 0.3), 0 1px 3px 1px rgba(60, 64, 67, 0.15);\n",
              "    fill: var(--button-hover-fill-color);\n",
              "  }\n",
              "\n",
              "  .colab-df-quickchart-complete:disabled,\n",
              "  .colab-df-quickchart-complete:disabled:hover {\n",
              "    background-color: var(--disabled-bg-color);\n",
              "    fill: var(--disabled-fill-color);\n",
              "    box-shadow: none;\n",
              "  }\n",
              "\n",
              "  .colab-df-spinner {\n",
              "    border: 2px solid var(--fill-color);\n",
              "    border-color: transparent;\n",
              "    border-bottom-color: var(--fill-color);\n",
              "    animation:\n",
              "      spin 1s steps(1) infinite;\n",
              "  }\n",
              "\n",
              "  @keyframes spin {\n",
              "    0% {\n",
              "      border-color: transparent;\n",
              "      border-bottom-color: var(--fill-color);\n",
              "      border-left-color: var(--fill-color);\n",
              "    }\n",
              "    20% {\n",
              "      border-color: transparent;\n",
              "      border-left-color: var(--fill-color);\n",
              "      border-top-color: var(--fill-color);\n",
              "    }\n",
              "    30% {\n",
              "      border-color: transparent;\n",
              "      border-left-color: var(--fill-color);\n",
              "      border-top-color: var(--fill-color);\n",
              "      border-right-color: var(--fill-color);\n",
              "    }\n",
              "    40% {\n",
              "      border-color: transparent;\n",
              "      border-right-color: var(--fill-color);\n",
              "      border-top-color: var(--fill-color);\n",
              "    }\n",
              "    60% {\n",
              "      border-color: transparent;\n",
              "      border-right-color: var(--fill-color);\n",
              "    }\n",
              "    80% {\n",
              "      border-color: transparent;\n",
              "      border-right-color: var(--fill-color);\n",
              "      border-bottom-color: var(--fill-color);\n",
              "    }\n",
              "    90% {\n",
              "      border-color: transparent;\n",
              "      border-bottom-color: var(--fill-color);\n",
              "    }\n",
              "  }\n",
              "</style>\n",
              "\n",
              "  <script>\n",
              "    async function quickchart(key) {\n",
              "      const quickchartButtonEl =\n",
              "        document.querySelector('#' + key + ' button');\n",
              "      quickchartButtonEl.disabled = true;  // To prevent multiple clicks.\n",
              "      quickchartButtonEl.classList.add('colab-df-spinner');\n",
              "      try {\n",
              "        const charts = await google.colab.kernel.invokeFunction(\n",
              "            'suggestCharts', [key], {});\n",
              "      } catch (error) {\n",
              "        console.error('Error during call to suggestCharts:', error);\n",
              "      }\n",
              "      quickchartButtonEl.classList.remove('colab-df-spinner');\n",
              "      quickchartButtonEl.classList.add('colab-df-quickchart-complete');\n",
              "    }\n",
              "    (() => {\n",
              "      let quickchartButtonEl =\n",
              "        document.querySelector('#df-1f30ca89-3450-4d35-937f-15d87acc7844 button');\n",
              "      quickchartButtonEl.style.display =\n",
              "        google.colab.kernel.accessAllowed ? 'block' : 'none';\n",
              "    })();\n",
              "  </script>\n",
              "</div>\n",
              "\n",
              "  <div id=\"id_e488822e-3f05-4c65-b0bc-e19ed2b5e45e\">\n",
              "    <style>\n",
              "      .colab-df-generate {\n",
              "        background-color: #E8F0FE;\n",
              "        border: none;\n",
              "        border-radius: 50%;\n",
              "        cursor: pointer;\n",
              "        display: none;\n",
              "        fill: #1967D2;\n",
              "        height: 32px;\n",
              "        padding: 0 0 0 0;\n",
              "        width: 32px;\n",
              "      }\n",
              "\n",
              "      .colab-df-generate:hover {\n",
              "        background-color: #E2EBFA;\n",
              "        box-shadow: 0px 1px 2px rgba(60, 64, 67, 0.3), 0px 1px 3px 1px rgba(60, 64, 67, 0.15);\n",
              "        fill: #174EA6;\n",
              "      }\n",
              "\n",
              "      [theme=dark] .colab-df-generate {\n",
              "        background-color: #3B4455;\n",
              "        fill: #D2E3FC;\n",
              "      }\n",
              "\n",
              "      [theme=dark] .colab-df-generate:hover {\n",
              "        background-color: #434B5C;\n",
              "        box-shadow: 0px 1px 3px 1px rgba(0, 0, 0, 0.15);\n",
              "        filter: drop-shadow(0px 1px 2px rgba(0, 0, 0, 0.3));\n",
              "        fill: #FFFFFF;\n",
              "      }\n",
              "    </style>\n",
              "    <button class=\"colab-df-generate\" onclick=\"generateWithVariable('df2')\"\n",
              "            title=\"Generate code using this dataframe.\"\n",
              "            style=\"display:none;\">\n",
              "\n",
              "  <svg xmlns=\"http://www.w3.org/2000/svg\" height=\"24px\"viewBox=\"0 0 24 24\"\n",
              "       width=\"24px\">\n",
              "    <path d=\"M7,19H8.4L18.45,9,17,7.55,7,17.6ZM5,21V16.75L18.45,3.32a2,2,0,0,1,2.83,0l1.4,1.43a1.91,1.91,0,0,1,.58,1.4,1.91,1.91,0,0,1-.58,1.4L9.25,21ZM18.45,9,17,7.55Zm-12,3A5.31,5.31,0,0,0,4.9,8.1,5.31,5.31,0,0,0,1,6.5,5.31,5.31,0,0,0,4.9,4.9,5.31,5.31,0,0,0,6.5,1,5.31,5.31,0,0,0,8.1,4.9,5.31,5.31,0,0,0,12,6.5,5.46,5.46,0,0,0,6.5,12Z\"/>\n",
              "  </svg>\n",
              "    </button>\n",
              "    <script>\n",
              "      (() => {\n",
              "      const buttonEl =\n",
              "        document.querySelector('#id_e488822e-3f05-4c65-b0bc-e19ed2b5e45e button.colab-df-generate');\n",
              "      buttonEl.style.display =\n",
              "        google.colab.kernel.accessAllowed ? 'block' : 'none';\n",
              "\n",
              "      buttonEl.onclick = () => {\n",
              "        google.colab.notebook.generateWithVariable('df2');\n",
              "      }\n",
              "      })();\n",
              "    </script>\n",
              "  </div>\n",
              "\n",
              "    </div>\n",
              "  </div>\n"
            ],
            "application/vnd.google.colaboratory.intrinsic+json": {
              "type": "dataframe",
              "variable_name": "df2",
              "summary": "{\n  \"name\": \"df2\",\n  \"rows\": 768,\n  \"fields\": [\n    {\n      \"column\": \"gravidez\",\n      \"properties\": {\n        \"dtype\": \"number\",\n        \"std\": 3,\n        \"min\": 0,\n        \"max\": 17,\n        \"num_unique_values\": 17,\n        \"samples\": [\n          6,\n          1,\n          3\n        ],\n        \"semantic_type\": \"\",\n        \"description\": \"\"\n      }\n    },\n    {\n      \"column\": \"glicose\",\n      \"properties\": {\n        \"dtype\": \"number\",\n        \"std\": 31,\n        \"min\": 0,\n        \"max\": 199,\n        \"num_unique_values\": 136,\n        \"samples\": [\n          151,\n          101,\n          112\n        ],\n        \"semantic_type\": \"\",\n        \"description\": \"\"\n      }\n    },\n    {\n      \"column\": \"pressao_sangue\",\n      \"properties\": {\n        \"dtype\": \"number\",\n        \"std\": 19,\n        \"min\": 0,\n        \"max\": 122,\n        \"num_unique_values\": 47,\n        \"samples\": [\n          86,\n          46,\n          85\n        ],\n        \"semantic_type\": \"\",\n        \"description\": \"\"\n      }\n    },\n    {\n      \"column\": \"espessura_pele\",\n      \"properties\": {\n        \"dtype\": \"number\",\n        \"std\": 15,\n        \"min\": 0,\n        \"max\": 99,\n        \"num_unique_values\": 51,\n        \"samples\": [\n          7,\n          12,\n          48\n        ],\n        \"semantic_type\": \"\",\n        \"description\": \"\"\n      }\n    },\n    {\n      \"column\": \"insulina\",\n      \"properties\": {\n        \"dtype\": \"number\",\n        \"std\": 115,\n        \"min\": 0,\n        \"max\": 846,\n        \"num_unique_values\": 186,\n        \"samples\": [\n          52,\n          41,\n          183\n        ],\n        \"semantic_type\": \"\",\n        \"description\": \"\"\n      }\n    },\n    {\n      \"column\": \"IMC\",\n      \"properties\": {\n        \"dtype\": \"number\",\n        \"std\": 7.884160320375446,\n        \"min\": 0.0,\n        \"max\": 67.1,\n        \"num_unique_values\": 248,\n        \"samples\": [\n          19.9,\n          31.0,\n          38.1\n        ],\n        \"semantic_type\": \"\",\n        \"description\": \"\"\n      }\n    },\n    {\n      \"column\": \"predisposicao_diabetes\",\n      \"properties\": {\n        \"dtype\": \"number\",\n        \"std\": 0.3313285950127749,\n        \"min\": 0.078,\n        \"max\": 2.42,\n        \"num_unique_values\": 517,\n        \"samples\": [\n          1.731,\n          0.426,\n          0.138\n        ],\n        \"semantic_type\": \"\",\n        \"description\": \"\"\n      }\n    },\n    {\n      \"column\": \"idade\",\n      \"properties\": {\n        \"dtype\": \"number\",\n        \"std\": 11,\n        \"min\": 21,\n        \"max\": 81,\n        \"num_unique_values\": 52,\n        \"samples\": [\n          60,\n          47,\n          72\n        ],\n        \"semantic_type\": \"\",\n        \"description\": \"\"\n      }\n    },\n    {\n      \"column\": \"diabetes\",\n      \"properties\": {\n        \"dtype\": \"number\",\n        \"std\": 0,\n        \"min\": 0,\n        \"max\": 1,\n        \"num_unique_values\": 2,\n        \"samples\": [\n          0,\n          1\n        ],\n        \"semantic_type\": \"\",\n        \"description\": \"\"\n      }\n    }\n  ]\n}"
            }
          },
          "metadata": {},
          "execution_count": 28
        }
      ]
    },
    {
      "cell_type": "code",
      "source": [
        "df2.groupby(['diabetes'])['diabetes'].count()"
      ],
      "metadata": {
        "colab": {
          "base_uri": "https://localhost:8080/"
        },
        "id": "3ZIinFKaVhcP",
        "outputId": "72951818-4570-455a-ac57-f02b7196d743"
      },
      "execution_count": null,
      "outputs": [
        {
          "output_type": "execute_result",
          "data": {
            "text/plain": [
              "diabetes\n",
              "0    500\n",
              "1    268\n",
              "Name: diabetes, dtype: int64"
            ]
          },
          "metadata": {},
          "execution_count": 29
        }
      ]
    },
    {
      "cell_type": "code",
      "source": [
        "X_dados = df2.drop('diabetes', axis=1).values\n",
        "y_dados = df2['diabetes']"
      ],
      "metadata": {
        "id": "oCzkW5p5XBJn"
      },
      "execution_count": null,
      "outputs": []
    },
    {
      "cell_type": "code",
      "source": [
        "#Criando a função para balancear os dados\n",
        "def balanceamento_dados (X_dados, y_dados):\n",
        "  undersample = RandomUnderSampler(random_state=42)\n",
        "  X_under, y_under = undersample.fit_resample(X_dados, y_dados)\n",
        "\n",
        "  tl = TomekLinks(sampling_strategy='all')\n",
        "\n",
        "  X_under, y_under = tl.fit_resample(X_under, y_under)\n",
        "  return X_under, y_under\n",
        "\n",
        "#aplicando a tecnica de balanceamento na base de dados\n",
        "X_dados_balanceados, y_dados_balanceados = balanceamento_dados (X_dados, y_dados)"
      ],
      "metadata": {
        "id": "UBLKolUkZ6bT"
      },
      "execution_count": null,
      "outputs": []
    },
    {
      "cell_type": "code",
      "source": [
        "def sep_treino_teste (X_dados_balanceados, y_dados_balanceados):\n",
        "  X_train, X_test, y_train, y_test = train_test_split(X_dados_balanceados,\n",
        "                                                      y_dados_balanceados,\n",
        "                                                      random_state=42, test_size=0.2)\n",
        "  return X_train, X_test, y_train, y_test\n",
        "\n",
        "X_train, X_test, y_train, y_test = sep_treino_teste(X_dados_balanceados, y_dados_balanceados)"
      ],
      "metadata": {
        "id": "OSgaIQasXRIv"
      },
      "execution_count": null,
      "outputs": []
    },
    {
      "cell_type": "code",
      "source": [
        "from sklearn.ensemble import RandomForestClassifier"
      ],
      "metadata": {
        "id": "wAg_j8MBYdW2"
      },
      "execution_count": null,
      "outputs": []
    },
    {
      "cell_type": "code",
      "source": [
        "classifier = RandomForestClassifier(random_state=42) #criação do classificador\n",
        "modelo = classifier.fit(X_train, y_train) #modelo de classificação\n",
        "y_predict = modelo.predict(X_test) #realização de predições no y predict"
      ],
      "metadata": {
        "id": "sSygcWK0Yiue"
      },
      "execution_count": null,
      "outputs": []
    },
    {
      "cell_type": "code",
      "source": [
        "pd.DataFrame(modelo.feature_importances_, columns=['importancia'],\n",
        "              index = ['gravidez', 'glicose', 'pressao_sangue', 'espessura_pele', 'insulina',\n",
        "        'IMC', 'predisposicao_diabetes', 'idade']).sort_values('importancia', ascending=False)"
      ],
      "metadata": {
        "colab": {
          "base_uri": "https://localhost:8080/"
        },
        "id": "yfV2b8QvY2m-",
        "outputId": "c42c1f4d-8427-46c9-ee9e-dd012c7c56d7"
      },
      "execution_count": null,
      "outputs": [
        {
          "output_type": "execute_result",
          "data": {
            "text/plain": [
              "                        importancia\n",
              "glicose                    0.328321\n",
              "IMC                        0.156818\n",
              "idade                      0.140994\n",
              "predisposicao_diabetes     0.104080\n",
              "gravidez                   0.080038\n",
              "pressao_sangue             0.074558\n",
              "insulina                   0.059152\n",
              "espessura_pele             0.056039"
            ],
            "text/html": [
              "\n",
              "  <div id=\"df-39c520f0-c9a7-4117-a4eb-17fc51cb9f25\" class=\"colab-df-container\">\n",
              "    <div>\n",
              "<style scoped>\n",
              "    .dataframe tbody tr th:only-of-type {\n",
              "        vertical-align: middle;\n",
              "    }\n",
              "\n",
              "    .dataframe tbody tr th {\n",
              "        vertical-align: top;\n",
              "    }\n",
              "\n",
              "    .dataframe thead th {\n",
              "        text-align: right;\n",
              "    }\n",
              "</style>\n",
              "<table border=\"1\" class=\"dataframe\">\n",
              "  <thead>\n",
              "    <tr style=\"text-align: right;\">\n",
              "      <th></th>\n",
              "      <th>importancia</th>\n",
              "    </tr>\n",
              "  </thead>\n",
              "  <tbody>\n",
              "    <tr>\n",
              "      <th>glicose</th>\n",
              "      <td>0.328321</td>\n",
              "    </tr>\n",
              "    <tr>\n",
              "      <th>IMC</th>\n",
              "      <td>0.156818</td>\n",
              "    </tr>\n",
              "    <tr>\n",
              "      <th>idade</th>\n",
              "      <td>0.140994</td>\n",
              "    </tr>\n",
              "    <tr>\n",
              "      <th>predisposicao_diabetes</th>\n",
              "      <td>0.104080</td>\n",
              "    </tr>\n",
              "    <tr>\n",
              "      <th>gravidez</th>\n",
              "      <td>0.080038</td>\n",
              "    </tr>\n",
              "    <tr>\n",
              "      <th>pressao_sangue</th>\n",
              "      <td>0.074558</td>\n",
              "    </tr>\n",
              "    <tr>\n",
              "      <th>insulina</th>\n",
              "      <td>0.059152</td>\n",
              "    </tr>\n",
              "    <tr>\n",
              "      <th>espessura_pele</th>\n",
              "      <td>0.056039</td>\n",
              "    </tr>\n",
              "  </tbody>\n",
              "</table>\n",
              "</div>\n",
              "    <div class=\"colab-df-buttons\">\n",
              "\n",
              "  <div class=\"colab-df-container\">\n",
              "    <button class=\"colab-df-convert\" onclick=\"convertToInteractive('df-39c520f0-c9a7-4117-a4eb-17fc51cb9f25')\"\n",
              "            title=\"Convert this dataframe to an interactive table.\"\n",
              "            style=\"display:none;\">\n",
              "\n",
              "  <svg xmlns=\"http://www.w3.org/2000/svg\" height=\"24px\" viewBox=\"0 -960 960 960\">\n",
              "    <path d=\"M120-120v-720h720v720H120Zm60-500h600v-160H180v160Zm220 220h160v-160H400v160Zm0 220h160v-160H400v160ZM180-400h160v-160H180v160Zm440 0h160v-160H620v160ZM180-180h160v-160H180v160Zm440 0h160v-160H620v160Z\"/>\n",
              "  </svg>\n",
              "    </button>\n",
              "\n",
              "  <style>\n",
              "    .colab-df-container {\n",
              "      display:flex;\n",
              "      gap: 12px;\n",
              "    }\n",
              "\n",
              "    .colab-df-convert {\n",
              "      background-color: #E8F0FE;\n",
              "      border: none;\n",
              "      border-radius: 50%;\n",
              "      cursor: pointer;\n",
              "      display: none;\n",
              "      fill: #1967D2;\n",
              "      height: 32px;\n",
              "      padding: 0 0 0 0;\n",
              "      width: 32px;\n",
              "    }\n",
              "\n",
              "    .colab-df-convert:hover {\n",
              "      background-color: #E2EBFA;\n",
              "      box-shadow: 0px 1px 2px rgba(60, 64, 67, 0.3), 0px 1px 3px 1px rgba(60, 64, 67, 0.15);\n",
              "      fill: #174EA6;\n",
              "    }\n",
              "\n",
              "    .colab-df-buttons div {\n",
              "      margin-bottom: 4px;\n",
              "    }\n",
              "\n",
              "    [theme=dark] .colab-df-convert {\n",
              "      background-color: #3B4455;\n",
              "      fill: #D2E3FC;\n",
              "    }\n",
              "\n",
              "    [theme=dark] .colab-df-convert:hover {\n",
              "      background-color: #434B5C;\n",
              "      box-shadow: 0px 1px 3px 1px rgba(0, 0, 0, 0.15);\n",
              "      filter: drop-shadow(0px 1px 2px rgba(0, 0, 0, 0.3));\n",
              "      fill: #FFFFFF;\n",
              "    }\n",
              "  </style>\n",
              "\n",
              "    <script>\n",
              "      const buttonEl =\n",
              "        document.querySelector('#df-39c520f0-c9a7-4117-a4eb-17fc51cb9f25 button.colab-df-convert');\n",
              "      buttonEl.style.display =\n",
              "        google.colab.kernel.accessAllowed ? 'block' : 'none';\n",
              "\n",
              "      async function convertToInteractive(key) {\n",
              "        const element = document.querySelector('#df-39c520f0-c9a7-4117-a4eb-17fc51cb9f25');\n",
              "        const dataTable =\n",
              "          await google.colab.kernel.invokeFunction('convertToInteractive',\n",
              "                                                    [key], {});\n",
              "        if (!dataTable) return;\n",
              "\n",
              "        const docLinkHtml = 'Like what you see? Visit the ' +\n",
              "          '<a target=\"_blank\" href=https://colab.research.google.com/notebooks/data_table.ipynb>data table notebook</a>'\n",
              "          + ' to learn more about interactive tables.';\n",
              "        element.innerHTML = '';\n",
              "        dataTable['output_type'] = 'display_data';\n",
              "        await google.colab.output.renderOutput(dataTable, element);\n",
              "        const docLink = document.createElement('div');\n",
              "        docLink.innerHTML = docLinkHtml;\n",
              "        element.appendChild(docLink);\n",
              "      }\n",
              "    </script>\n",
              "  </div>\n",
              "\n",
              "\n",
              "<div id=\"df-e9af5867-7984-41f1-b25c-755c3a6398dc\">\n",
              "  <button class=\"colab-df-quickchart\" onclick=\"quickchart('df-e9af5867-7984-41f1-b25c-755c3a6398dc')\"\n",
              "            title=\"Suggest charts\"\n",
              "            style=\"display:none;\">\n",
              "\n",
              "<svg xmlns=\"http://www.w3.org/2000/svg\" height=\"24px\"viewBox=\"0 0 24 24\"\n",
              "     width=\"24px\">\n",
              "    <g>\n",
              "        <path d=\"M19 3H5c-1.1 0-2 .9-2 2v14c0 1.1.9 2 2 2h14c1.1 0 2-.9 2-2V5c0-1.1-.9-2-2-2zM9 17H7v-7h2v7zm4 0h-2V7h2v10zm4 0h-2v-4h2v4z\"/>\n",
              "    </g>\n",
              "</svg>\n",
              "  </button>\n",
              "\n",
              "<style>\n",
              "  .colab-df-quickchart {\n",
              "      --bg-color: #E8F0FE;\n",
              "      --fill-color: #1967D2;\n",
              "      --hover-bg-color: #E2EBFA;\n",
              "      --hover-fill-color: #174EA6;\n",
              "      --disabled-fill-color: #AAA;\n",
              "      --disabled-bg-color: #DDD;\n",
              "  }\n",
              "\n",
              "  [theme=dark] .colab-df-quickchart {\n",
              "      --bg-color: #3B4455;\n",
              "      --fill-color: #D2E3FC;\n",
              "      --hover-bg-color: #434B5C;\n",
              "      --hover-fill-color: #FFFFFF;\n",
              "      --disabled-bg-color: #3B4455;\n",
              "      --disabled-fill-color: #666;\n",
              "  }\n",
              "\n",
              "  .colab-df-quickchart {\n",
              "    background-color: var(--bg-color);\n",
              "    border: none;\n",
              "    border-radius: 50%;\n",
              "    cursor: pointer;\n",
              "    display: none;\n",
              "    fill: var(--fill-color);\n",
              "    height: 32px;\n",
              "    padding: 0;\n",
              "    width: 32px;\n",
              "  }\n",
              "\n",
              "  .colab-df-quickchart:hover {\n",
              "    background-color: var(--hover-bg-color);\n",
              "    box-shadow: 0 1px 2px rgba(60, 64, 67, 0.3), 0 1px 3px 1px rgba(60, 64, 67, 0.15);\n",
              "    fill: var(--button-hover-fill-color);\n",
              "  }\n",
              "\n",
              "  .colab-df-quickchart-complete:disabled,\n",
              "  .colab-df-quickchart-complete:disabled:hover {\n",
              "    background-color: var(--disabled-bg-color);\n",
              "    fill: var(--disabled-fill-color);\n",
              "    box-shadow: none;\n",
              "  }\n",
              "\n",
              "  .colab-df-spinner {\n",
              "    border: 2px solid var(--fill-color);\n",
              "    border-color: transparent;\n",
              "    border-bottom-color: var(--fill-color);\n",
              "    animation:\n",
              "      spin 1s steps(1) infinite;\n",
              "  }\n",
              "\n",
              "  @keyframes spin {\n",
              "    0% {\n",
              "      border-color: transparent;\n",
              "      border-bottom-color: var(--fill-color);\n",
              "      border-left-color: var(--fill-color);\n",
              "    }\n",
              "    20% {\n",
              "      border-color: transparent;\n",
              "      border-left-color: var(--fill-color);\n",
              "      border-top-color: var(--fill-color);\n",
              "    }\n",
              "    30% {\n",
              "      border-color: transparent;\n",
              "      border-left-color: var(--fill-color);\n",
              "      border-top-color: var(--fill-color);\n",
              "      border-right-color: var(--fill-color);\n",
              "    }\n",
              "    40% {\n",
              "      border-color: transparent;\n",
              "      border-right-color: var(--fill-color);\n",
              "      border-top-color: var(--fill-color);\n",
              "    }\n",
              "    60% {\n",
              "      border-color: transparent;\n",
              "      border-right-color: var(--fill-color);\n",
              "    }\n",
              "    80% {\n",
              "      border-color: transparent;\n",
              "      border-right-color: var(--fill-color);\n",
              "      border-bottom-color: var(--fill-color);\n",
              "    }\n",
              "    90% {\n",
              "      border-color: transparent;\n",
              "      border-bottom-color: var(--fill-color);\n",
              "    }\n",
              "  }\n",
              "</style>\n",
              "\n",
              "  <script>\n",
              "    async function quickchart(key) {\n",
              "      const quickchartButtonEl =\n",
              "        document.querySelector('#' + key + ' button');\n",
              "      quickchartButtonEl.disabled = true;  // To prevent multiple clicks.\n",
              "      quickchartButtonEl.classList.add('colab-df-spinner');\n",
              "      try {\n",
              "        const charts = await google.colab.kernel.invokeFunction(\n",
              "            'suggestCharts', [key], {});\n",
              "      } catch (error) {\n",
              "        console.error('Error during call to suggestCharts:', error);\n",
              "      }\n",
              "      quickchartButtonEl.classList.remove('colab-df-spinner');\n",
              "      quickchartButtonEl.classList.add('colab-df-quickchart-complete');\n",
              "    }\n",
              "    (() => {\n",
              "      let quickchartButtonEl =\n",
              "        document.querySelector('#df-e9af5867-7984-41f1-b25c-755c3a6398dc button');\n",
              "      quickchartButtonEl.style.display =\n",
              "        google.colab.kernel.accessAllowed ? 'block' : 'none';\n",
              "    })();\n",
              "  </script>\n",
              "</div>\n",
              "\n",
              "    </div>\n",
              "  </div>\n"
            ],
            "application/vnd.google.colaboratory.intrinsic+json": {
              "type": "dataframe",
              "summary": "{\n  \"name\": \"        'IMC', 'predisposicao_diabetes', 'idade'])\",\n  \"rows\": 8,\n  \"fields\": [\n    {\n      \"column\": \"importancia\",\n      \"properties\": {\n        \"dtype\": \"number\",\n        \"std\": 0.0900023943274238,\n        \"min\": 0.05603850629242479,\n        \"max\": 0.3283212804284027,\n        \"num_unique_values\": 8,\n        \"samples\": [\n          0.1568179411414958,\n          0.074557669312493,\n          0.3283212804284027\n        ],\n        \"semantic_type\": \"\",\n        \"description\": \"\"\n      }\n    }\n  ]\n}"
            }
          },
          "metadata": {},
          "execution_count": 35
        }
      ]
    },
    {
      "cell_type": "code",
      "source": [
        "#calculo acuracia do modelo\n",
        "acuracia = accuracy_score(y_test, y_pred)\n",
        "print('Precisão', acuracia)"
      ],
      "metadata": {
        "colab": {
          "base_uri": "https://localhost:8080/"
        },
        "id": "rrzlfDmpZfIK",
        "outputId": "05d97c50-1a61-43bb-ca41-c328d9bdae18"
      },
      "execution_count": null,
      "outputs": [
        {
          "output_type": "stream",
          "name": "stdout",
          "text": [
            "Precisão 0.7282608695652174\n"
          ]
        }
      ]
    },
    {
      "cell_type": "code",
      "source": [],
      "metadata": {
        "id": "oBFmX4DcZtS2"
      },
      "execution_count": null,
      "outputs": []
    },
    {
      "cell_type": "markdown",
      "source": [
        "#Avaçiação de desempenho - Matriz de confusão"
      ],
      "metadata": {
        "id": "bN9aFGGujNSj"
      }
    },
    {
      "cell_type": "code",
      "source": [
        "!pip install seaborn\n",
        "!pip install matplotlib"
      ],
      "metadata": {
        "colab": {
          "base_uri": "https://localhost:8080/"
        },
        "id": "MzM9cklHjWuL",
        "outputId": "e34266e5-055e-44d0-8b11-8ecd4ca0c530"
      },
      "execution_count": null,
      "outputs": [
        {
          "output_type": "stream",
          "name": "stdout",
          "text": [
            "Requirement already satisfied: seaborn in /usr/local/lib/python3.10/dist-packages (0.13.1)\n",
            "Requirement already satisfied: numpy!=1.24.0,>=1.20 in /usr/local/lib/python3.10/dist-packages (from seaborn) (1.25.2)\n",
            "Requirement already satisfied: pandas>=1.2 in /usr/local/lib/python3.10/dist-packages (from seaborn) (2.0.3)\n",
            "Requirement already satisfied: matplotlib!=3.6.1,>=3.4 in /usr/local/lib/python3.10/dist-packages (from seaborn) (3.7.1)\n",
            "Requirement already satisfied: contourpy>=1.0.1 in /usr/local/lib/python3.10/dist-packages (from matplotlib!=3.6.1,>=3.4->seaborn) (1.2.1)\n",
            "Requirement already satisfied: cycler>=0.10 in /usr/local/lib/python3.10/dist-packages (from matplotlib!=3.6.1,>=3.4->seaborn) (0.12.1)\n",
            "Requirement already satisfied: fonttools>=4.22.0 in /usr/local/lib/python3.10/dist-packages (from matplotlib!=3.6.1,>=3.4->seaborn) (4.51.0)\n",
            "Requirement already satisfied: kiwisolver>=1.0.1 in /usr/local/lib/python3.10/dist-packages (from matplotlib!=3.6.1,>=3.4->seaborn) (1.4.5)\n",
            "Requirement already satisfied: packaging>=20.0 in /usr/local/lib/python3.10/dist-packages (from matplotlib!=3.6.1,>=3.4->seaborn) (24.0)\n",
            "Requirement already satisfied: pillow>=6.2.0 in /usr/local/lib/python3.10/dist-packages (from matplotlib!=3.6.1,>=3.4->seaborn) (9.4.0)\n",
            "Requirement already satisfied: pyparsing>=2.3.1 in /usr/local/lib/python3.10/dist-packages (from matplotlib!=3.6.1,>=3.4->seaborn) (3.1.2)\n",
            "Requirement already satisfied: python-dateutil>=2.7 in /usr/local/lib/python3.10/dist-packages (from matplotlib!=3.6.1,>=3.4->seaborn) (2.8.2)\n",
            "Requirement already satisfied: pytz>=2020.1 in /usr/local/lib/python3.10/dist-packages (from pandas>=1.2->seaborn) (2023.4)\n",
            "Requirement already satisfied: tzdata>=2022.1 in /usr/local/lib/python3.10/dist-packages (from pandas>=1.2->seaborn) (2024.1)\n",
            "Requirement already satisfied: six>=1.5 in /usr/local/lib/python3.10/dist-packages (from python-dateutil>=2.7->matplotlib!=3.6.1,>=3.4->seaborn) (1.16.0)\n",
            "Requirement already satisfied: matplotlib in /usr/local/lib/python3.10/dist-packages (3.7.1)\n",
            "Requirement already satisfied: contourpy>=1.0.1 in /usr/local/lib/python3.10/dist-packages (from matplotlib) (1.2.1)\n",
            "Requirement already satisfied: cycler>=0.10 in /usr/local/lib/python3.10/dist-packages (from matplotlib) (0.12.1)\n",
            "Requirement already satisfied: fonttools>=4.22.0 in /usr/local/lib/python3.10/dist-packages (from matplotlib) (4.51.0)\n",
            "Requirement already satisfied: kiwisolver>=1.0.1 in /usr/local/lib/python3.10/dist-packages (from matplotlib) (1.4.5)\n",
            "Requirement already satisfied: numpy>=1.20 in /usr/local/lib/python3.10/dist-packages (from matplotlib) (1.25.2)\n",
            "Requirement already satisfied: packaging>=20.0 in /usr/local/lib/python3.10/dist-packages (from matplotlib) (24.0)\n",
            "Requirement already satisfied: pillow>=6.2.0 in /usr/local/lib/python3.10/dist-packages (from matplotlib) (9.4.0)\n",
            "Requirement already satisfied: pyparsing>=2.3.1 in /usr/local/lib/python3.10/dist-packages (from matplotlib) (3.1.2)\n",
            "Requirement already satisfied: python-dateutil>=2.7 in /usr/local/lib/python3.10/dist-packages (from matplotlib) (2.8.2)\n",
            "Requirement already satisfied: six>=1.5 in /usr/local/lib/python3.10/dist-packages (from python-dateutil>=2.7->matplotlib) (1.16.0)\n"
          ]
        }
      ]
    },
    {
      "cell_type": "code",
      "source": [
        "import seaborn as sns\n",
        "import pandas as pd\n",
        "import matplotlib.pyplot as plt\n",
        "from sklearn.metrics import confusion_matrix\n",
        "from sklearn.metrics import classification_report"
      ],
      "metadata": {
        "id": "L19WYkXDjg4V"
      },
      "execution_count": null,
      "outputs": []
    },
    {
      "cell_type": "code",
      "source": [
        "cm = confusion_matrix (y_test, y_pred)"
      ],
      "metadata": {
        "id": "CbUnT5Vljzac"
      },
      "execution_count": null,
      "outputs": []
    },
    {
      "cell_type": "code",
      "source": [
        "labels=['não possui diabetes', 'possui diabetes']"
      ],
      "metadata": {
        "id": "T5I91NMWkR4T"
      },
      "execution_count": null,
      "outputs": []
    },
    {
      "cell_type": "code",
      "source": [
        "plt.figure(figsize=(6,3))\n",
        "sns.heatmap(data=cm,\n",
        "            annot=True,\n",
        "            cmap='Blues',\n",
        "            xticklabels=labels,\n",
        "            yticklabels=labels)\n",
        "\n",
        "plt.xlabel('valor previsto')\n",
        "plt.ylabel('valor real')\n",
        "plt.title('matriz de confusion')\n",
        "plt.show()"
      ],
      "metadata": {
        "colab": {
          "base_uri": "https://localhost:8080/"
        },
        "id": "6EYkoQbckZOM",
        "outputId": "9eb0f961-f128-4382-d70d-6c669f9c6a14"
      },
      "execution_count": null,
      "outputs": [
        {
          "output_type": "display_data",
          "data": {
            "text/plain": [
              "<Figure size 600x300 with 2 Axes>"
            ],
            "image/png": "[encoded data removed]"
          },
          "metadata": {}
        }
      ]
    },
    {
      "cell_type": "code",
      "source": [
        "#metricas\n",
        "report = classification_report(y_test,y_pred)\n",
        "print(report)"
      ],
      "metadata": {
        "colab": {
          "base_uri": "https://localhost:8080/"
        },
        "id": "iB5e11LIlS43",
        "outputId": "b4042968-bace-41ac-ab8f-5e5e64b1cff3"
      },
      "execution_count": null,
      "outputs": [
        {
          "output_type": "stream",
          "name": "stdout",
          "text": [
            "              precision    recall  f1-score   support\n",
            "\n",
            "           0       0.74      0.76      0.75        49\n",
            "           1       0.71      0.70      0.71        43\n",
            "\n",
            "    accuracy                           0.73        92\n",
            "   macro avg       0.73      0.73      0.73        92\n",
            "weighted avg       0.73      0.73      0.73        92\n",
            "\n"
          ]
        }
      ]
    },
    {
      "cell_type": "code",
      "source": [],
      "metadata": {
        "id": "mJPYyWeYlcDc"
      },
      "execution_count": null,
      "outputs": []
    }
  ]
}